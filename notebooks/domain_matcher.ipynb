{
 "cells": [
  {
   "cell_type": "markdown",
   "metadata": {},
   "source": [
    "# Imports"
   ]
  },
  {
   "cell_type": "code",
   "execution_count": 1,
   "metadata": {},
   "outputs": [
    {
     "ename": "ModuleNotFoundError",
     "evalue": "No module named 'string_grouper'",
     "output_type": "error",
     "traceback": [
      "\u001B[0;31m---------------------------------------------------------------------------\u001B[0m",
      "\u001B[0;31mModuleNotFoundError\u001B[0m                       Traceback (most recent call last)",
      "\u001B[0;32m<ipython-input-1-b65904f1302c>\u001B[0m in \u001B[0;36m<module>\u001B[0;34m\u001B[0m\n\u001B[1;32m      1\u001B[0m \u001B[0;32mimport\u001B[0m \u001B[0mpandas\u001B[0m \u001B[0;32mas\u001B[0m \u001B[0mpd\u001B[0m\u001B[0;34m\u001B[0m\u001B[0;34m\u001B[0m\u001B[0m\n\u001B[1;32m      2\u001B[0m \u001B[0;32mimport\u001B[0m \u001B[0mtime\u001B[0m\u001B[0;34m\u001B[0m\u001B[0;34m\u001B[0m\u001B[0m\n\u001B[0;32m----> 3\u001B[0;31m \u001B[0;32mfrom\u001B[0m \u001B[0mstring_grouper\u001B[0m \u001B[0;32mimport\u001B[0m \u001B[0mmatch_strings\u001B[0m\u001B[0;34m\u001B[0m\u001B[0;34m\u001B[0m\u001B[0m\n\u001B[0m\u001B[1;32m      4\u001B[0m \u001B[0;32mfrom\u001B[0m \u001B[0mneo4j\u001B[0m \u001B[0;32mimport\u001B[0m \u001B[0mGraphDatabase\u001B[0m\u001B[0;34m\u001B[0m\u001B[0;34m\u001B[0m\u001B[0m\n\u001B[1;32m      5\u001B[0m \u001B[0;32mfrom\u001B[0m \u001B[0mhelper\u001B[0m\u001B[0;34m.\u001B[0m\u001B[0mdataset_splitter\u001B[0m \u001B[0;32mimport\u001B[0m \u001B[0mDataSetSplitter\u001B[0m\u001B[0;34m\u001B[0m\u001B[0;34m\u001B[0m\u001B[0m\n",
      "\u001B[0;31mModuleNotFoundError\u001B[0m: No module named 'string_grouper'"
     ]
    }
   ],
   "source": [
    "import pandas as pd\n",
    "import time\n",
    "from string_grouper import match_strings\n",
    "from neo4j import GraphDatabase\n",
    "from helper.dataset_splitter import DataSetSplitter"
   ]
  },
  {
   "cell_type": "markdown",
   "source": [
    "### Um die aktuellen Daten aus MISP zu erhalten, kann die nachfolgende Codezeile ausgeführt werden. Per default liegt bereits eine exportierte MISP csv-Datei bereit.\n"
   ],
   "metadata": {
    "collapsed": false
   }
  },
  {
   "cell_type": "code",
   "execution_count": null,
   "outputs": [],
   "source": [
    "# !python3 ../helper/get_csv.py -f ../data/misp_events.csv"
   ],
   "metadata": {
    "collapsed": false,
    "pycharm": {
     "name": "#%%\n"
    }
   }
  },
  {
   "cell_type": "code",
   "execution_count": null,
   "outputs": [],
   "source": [
    "data_set_splitter = DataSetSplitter()\n",
    "data_set_splitter.split_datasets(\"../data\")"
   ],
   "metadata": {
    "collapsed": false,
    "pycharm": {
     "name": "#%%\n"
    }
   }
  },
  {
   "cell_type": "code",
   "execution_count": null,
   "metadata": {},
   "outputs": [],
   "source": [
    "pd.set_option('display.max_colwidth', None)\n",
    "domains = pd.read_csv('../data/splitted_datasets/export_domain.csv', usecols=['uuid','event_id', 'value'])"
   ]
  },
  {
   "cell_type": "code",
   "execution_count": null,
   "metadata": {},
   "outputs": [],
   "source": [
    "domains"
   ]
  },
  {
   "cell_type": "code",
   "execution_count": null,
   "metadata": {
    "pycharm": {
     "name": "#%%\n"
    }
   },
   "outputs": [],
   "source": [
    "print('The shape: %d x %d' % domains.shape)\n",
    "print(domains.head())"
   ]
  },
  {
   "cell_type": "markdown",
   "metadata": {},
   "source": [
    "# String matching with string_grouper"
   ]
  },
  {
   "cell_type": "code",
   "execution_count": null,
   "metadata": {
    "pycharm": {
     "name": "#%%\n"
    }
   },
   "outputs": [],
   "source": [
    "matches = match_strings(domains['value'], master_id=domains['event_id'])\n",
    "print(matches)"
   ]
  },
  {
   "cell_type": "markdown",
   "metadata": {},
   "source": [
    "### drop combinations with similar events "
   ]
  },
  {
   "cell_type": "code",
   "execution_count": null,
   "metadata": {},
   "outputs": [],
   "source": [
    "diff_events_only = matches[matches.left_event_id != matches.right_event_id]\n",
    "print(diff_events_only)"
   ]
  },
  {
   "cell_type": "markdown",
   "metadata": {},
   "source": [
    "# Chose similarity level"
   ]
  },
  {
   "cell_type": "code",
   "execution_count": null,
   "metadata": {
    "pycharm": {
     "name": "#%%\n"
    }
   },
   "outputs": [],
   "source": [
    "mask = diff_events_only[\"similarity\"] < 2.0\n",
    "df = diff_events_only[mask]\n",
    "df"
   ]
  },
  {
   "cell_type": "code",
   "execution_count": null,
   "metadata": {},
   "outputs": [],
   "source": [
    "df = df.drop(columns = [\"left_index\", \"right_index\"])\n",
    "df.head(30)"
   ]
  },
  {
   "cell_type": "markdown",
   "metadata": {},
   "source": [
    "# Preperation: Create a list of unique event_id's"
   ]
  },
  {
   "cell_type": "code",
   "execution_count": null,
   "metadata": {
    "pycharm": {
     "name": "#%% Find unique events\n"
    }
   },
   "outputs": [],
   "source": [
    "temp_df = df['left_event_id'].append(df['right_event_id'])\n",
    "unique_event_nodes = temp_df.drop_duplicates()\n",
    "unique_event_nodes\n",
    "unique_event_nodes_list = unique_event_nodes.to_list()\n",
    "unique_event_nodes_list\n",
    "print(unique_event_nodes_list)"
   ]
  },
  {
   "cell_type": "code",
   "execution_count": null,
   "metadata": {},
   "outputs": [],
   "source": [
    "len(unique_event_nodes_list)"
   ]
  },
  {
   "cell_type": "markdown",
   "metadata": {},
   "source": [
    "# Create for every unique event_id one node"
   ]
  },
  {
   "cell_type": "code",
   "execution_count": null,
   "metadata": {
    "pycharm": {
     "name": "#%% Create unique event nodes\n"
    }
   },
   "outputs": [],
   "source": [
    "unique_event_nodes_execution_commands = []\n",
    "\n",
    "for i in unique_event_nodes_list:\n",
    "   event_node = \"(e:Event {event_id: \"+ \"'\" + str(i) + \"'\" + \"})\"\n",
    "   neo4j_create_statemenet = \"CREATE\" + event_node\n",
    "   unique_event_nodes_execution_commands.append(neo4j_create_statemenet)\n",
    "\n",
    "def execute_transactions(unique_event_nodes_execution_commands):\n",
    "    data_base_connection = GraphDatabase.driver(uri = \"bolt://localhost:7687\", auth=(\"neo4j\", \"password\"))\n",
    "    session = data_base_connection.session()\n",
    "\n",
    "    for i in unique_event_nodes_execution_commands:\n",
    "        session.run(i)\n",
    "\n",
    "execute_transactions(unique_event_nodes_execution_commands)\n"
   ]
  },
  {
   "cell_type": "markdown",
   "metadata": {},
   "source": [
    "# Transform df to a list "
   ]
  },
  {
   "cell_type": "code",
   "execution_count": null,
   "metadata": {
    "pycharm": {
     "name": "#%%\n"
    }
   },
   "outputs": [],
   "source": [
    "list_all= df.values.tolist()\n",
    "list_all[4]"
   ]
  },
  {
   "cell_type": "markdown",
   "metadata": {},
   "source": [
    "### cypher string creation for neo4j "
   ]
  },
  {
   "cell_type": "code",
   "execution_count": null,
   "metadata": {
    "pycharm": {
     "name": "#%% Test: Creating Cypher Query String\n"
    }
   },
   "outputs": [],
   "source": [
    "# i = similarity_list[6]\n",
    "# event_node1 = \"(e1:Event {event_id: \"+ \"'\" + str(i[1]) + \"'\" + \"})\"\n",
    "# relationship = \"[:IS_A]\"\n",
    "# ioc = \"(i1:IoC {url: \"+ \"'\" + str(i[0]) + \"'\" + \"})\"\n",
    "# similar_to = \"[:SIMILAR_TO {similarity: \"+ \"'\" + str(i[2]) + \"'\" + \"}]\"\n",
    "# ioc2 = \"(i2:IoC {url: \"+ \"'\" + str(i[4]) + \"'\" + \"})\"\n",
    "# event_node2 = \"(e2:Event {event_id: \"+ \"'\" + str(i[3]) + \"'\" + \"})\"\n",
    "#\n",
    "# neo4j_create_statemenet = event_node1 + \"-\" + relationship + \"->\" + ioc + \"-\" + similar_to + \"->\" + ioc2 + \"<-\" + relationship + \"-\" + event_node2\n",
    "# print(neo4j_create_statemenet )"
   ]
  },
  {
   "cell_type": "markdown",
   "metadata": {},
   "source": [
    "# Create relationship between event node and url"
   ]
  },
  {
   "cell_type": "code",
   "execution_count": null,
   "metadata": {
    "pycharm": {
     "name": "#%% Merge Event node with url node\n"
    }
   },
   "outputs": [],
   "source": [
    "#change text if needed in merge_left and merge right: 'URL_IS' and Url, url\n",
    "url_execution_commands = []\n",
    "\n",
    "for i in list_all:\n",
    "  match_left = \"MATCH (e1:Event {event_id: \"+ \"'\" + str(i[1]) + \"'\" + \"})\"\n",
    "  match_right = \"MATCH (e2:Event {event_id: \"+ \"'\" + str(i[3]) + \"'\" + \"})\"\n",
    "  merge_left = \"MERGE (e1)-[:URL_IS]->(u1: Url {url: \"+ \"'\" + str(i[0]) + \"'\" + \"})\"\n",
    "  merge_right = \"MERGE (e2)-[:URL_IS]->(u2: Url {url: \"+ \"'\" + str(i[4]) + \"'\" + \"})\"\n",
    "  neo4j_statemenet = match_left + \" \" + match_right + \" \" + merge_left + \" \" + merge_right\n",
    "  url_execution_commands.append(neo4j_statemenet)\n",
    "\n",
    "def execute_transactions(url_execution_commands):\n",
    "    data_base_connection = GraphDatabase.driver(uri = \"bolt://localhost:7687\", auth=(\"neo4j\", \"password\"))\n",
    "    session = data_base_connection.session()\n",
    "\n",
    "    for i in url_execution_commands:\n",
    "        session.run(i)\n",
    "\n",
    "execute_transactions(url_execution_commands)\n",
    "\n",
    "\n"
   ]
  },
  {
   "cell_type": "markdown",
   "metadata": {},
   "source": [
    "# Create relationship (similarity) between two urls from two different events"
   ]
  },
  {
   "cell_type": "code",
   "execution_count": null,
   "metadata": {
    "pycharm": {
     "name": "#%%\n"
    }
   },
   "outputs": [],
   "source": [
    "#change text if needed in match_left and match_right: 'URL_IS' and Url, url\n",
    "url_execution_commands = []\n",
    "similarity_execution_commands = []\n",
    "\n",
    "for i in list_all:\n",
    "    match_left = \"MATCH (e1:Event {event_id: \"+ \"'\" + str(i[1]) + \"'\" + \"})-[:URL_IS]->(u1: Url {url: \"+ \"'\" + str(i[0]) + \"'\" + \"})\"\n",
    "    match_right = \"MATCH (e2:Event {event_id: \"+ \"'\" + str(i[3]) + \"'\" + \"})-[:URL_IS]->(u2: Url {url: \"+ \"'\" + str(i[4]) + \"'\" + \"})\"\n",
    "    merge = \"MERGE (u1)-[:IS_SIMILAR_TO {similar: \"+ \"'\" + str(i[2]) + \"'\" + \"}]->(u2)\"\n",
    "    neo4j_statemenet = match_left + \" \" + match_right + \" \" + merge\n",
    "    similarity_execution_commands.append(neo4j_statemenet)\n",
    "\n",
    "def execute_transactions(similarity_execution_commands):\n",
    "    data_base_connection = GraphDatabase.driver(uri = \"bolt://localhost:7687\", auth=(\"neo4j\", \"password\"))\n",
    "    session = data_base_connection.session()\n",
    "\n",
    "    for i in similarity_execution_commands:\n",
    "        session.run(i)\n",
    "\n",
    "execute_transactions(similarity_execution_commands)"
   ]
  },
  {
   "cell_type": "markdown",
   "metadata": {},
   "source": [
    "# Monitoring sample nodes "
   ]
  },
  {
   "cell_type": "code",
   "execution_count": null,
   "metadata": {},
   "outputs": [],
   "source": [
    "mask = df['left_event_id'] == 10\n",
    "df[mask]"
   ]
  },
  {
   "cell_type": "code",
   "execution_count": null,
   "metadata": {},
   "outputs": [],
   "source": [
    "mask = df['left_event_id'] == 72\n",
    "df[mask]"
   ]
  },
  {
   "cell_type": "code",
   "execution_count": null,
   "metadata": {},
   "outputs": [],
   "source": [
    "mask = df['left_event_id'] == 96\n",
    "df[mask]"
   ]
  },
  {
   "cell_type": "code",
   "execution_count": null,
   "metadata": {},
   "outputs": [],
   "source": [
    "mask = df['left_event_id'] == 70\n",
    "df[mask]"
   ]
  },
  {
   "cell_type": "code",
   "execution_count": null,
   "metadata": {},
   "outputs": [],
   "source": []
  }
 ],
 "metadata": {
  "kernelspec": {
   "display_name": "Python 3",
   "language": "python",
   "name": "python3"
  },
  "language_info": {
   "codemirror_mode": {
    "name": "ipython",
    "version": 3
   },
   "file_extension": ".py",
   "mimetype": "text/x-python",
   "name": "python",
   "nbconvert_exporter": "python",
   "pygments_lexer": "ipython3",
   "version": "3.8.0"
  },
  "pycharm": {
   "stem_cell": {
    "cell_type": "raw",
    "source": [
     "# note: this script uses a library developed by ING bank devs (sparse_dot_topn)\n",
     "# much faster than the sklearn version!"
    ],
    "metadata": {
     "collapsed": false
    }
   }
  }
 },
 "nbformat": 4,
 "nbformat_minor": 1
}