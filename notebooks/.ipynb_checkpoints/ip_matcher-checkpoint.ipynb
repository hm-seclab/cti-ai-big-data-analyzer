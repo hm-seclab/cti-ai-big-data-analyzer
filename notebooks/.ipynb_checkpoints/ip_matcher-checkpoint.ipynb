{
 "cells": [
  {
   "cell_type": "markdown",
   "metadata": {},
   "source": [
    "# Vergleich von IP-Adressen"
   ]
  },
  {
   "cell_type": "markdown",
   "metadata": {},
   "source": [
    "## Importieren der benötigten Pakete"
   ]
  },
  {
   "cell_type": "code",
   "execution_count": 1,
   "metadata": {
    "pycharm": {
     "is_executing": true,
     "name": "#%%\n"
    }
   },
   "outputs": [
    {
     "data": {
      "text/plain": [
       "True"
      ]
     },
     "execution_count": 1,
     "metadata": {},
     "output_type": "execute_result"
    }
   ],
   "source": [
    "import os\n",
    "\n",
    "import pandas as pd\n",
    "from dns import reversename, resolver\n",
    "import tldextract\n",
    "from collections import defaultdict\n",
    "import pypdns\n",
    "from ipwhois import IPWhois\n",
    "from dotenv import load_dotenv\n",
    "import time\n",
    "\n",
    "from helper.dataset_splitter import DataSetSplitter\n",
    "\n",
    "load_dotenv()"
   ]
  },
  {
   "cell_type": "markdown",
   "metadata": {},
   "source": [
    "## Laden der Daten"
   ]
  },
  {
   "cell_type": "markdown",
   "metadata": {
    "pycharm": {
     "name": "#%% md\n"
    }
   },
   "source": [
    "### Um die aktuellen Daten aus MISP zu erhalten, kann die nachfolgende Codezeile ausgeführt werden. Per default liegt bereits eine exportierte MISP csv-Datei bereit."
   ]
  },
  {
   "cell_type": "code",
   "execution_count": 2,
   "metadata": {
    "pycharm": {
     "is_executing": true,
     "name": "#%%\n"
    }
   },
   "outputs": [],
   "source": [
    "# !python3 ../helper/get_csv.py -f ../data/misp_events.csv"
   ]
  },
  {
   "cell_type": "code",
   "execution_count": 3,
   "metadata": {
    "pycharm": {
     "is_executing": true
    }
   },
   "outputs": [
    {
     "name": "stderr",
     "output_type": "stream",
     "text": [
      "<ipython-input-3-221b92bbe4db>:2: DtypeWarning: Columns (9) have mixed types.Specify dtype option on import or set low_memory=False.\n",
      "  data_set_splitter.split_datasets(\"../data\")\n"
     ]
    }
   ],
   "source": [
    "data_set_splitter = DataSetSplitter()\n",
    "data_set_splitter.split_datasets(\"../data\")\n"
   ]
  },
  {
   "cell_type": "code",
   "execution_count": 4,
   "metadata": {
    "pycharm": {
     "is_executing": true,
     "name": "#%%\n"
    }
   },
   "outputs": [
    {
     "name": "stdout",
     "output_type": "stream",
     "text": [
      "22823\n"
     ]
    }
   ],
   "source": [
    "misp_df = pd.read_csv(\"../data/splitted_datasets/export_ip.csv\")\n",
    "\n",
    "print(len(misp_df))"
   ]
  },
  {
   "cell_type": "code",
   "execution_count": 5,
   "metadata": {
    "pycharm": {
     "is_executing": true
    }
   },
   "outputs": [
    {
     "data": {
      "text/html": [
       "<div>\n",
       "<style scoped>\n",
       "    .dataframe tbody tr th:only-of-type {\n",
       "        vertical-align: middle;\n",
       "    }\n",
       "\n",
       "    .dataframe tbody tr th {\n",
       "        vertical-align: top;\n",
       "    }\n",
       "\n",
       "    .dataframe thead th {\n",
       "        text-align: right;\n",
       "    }\n",
       "</style>\n",
       "<table border=\"1\" class=\"dataframe\">\n",
       "  <thead>\n",
       "    <tr style=\"text-align: right;\">\n",
       "      <th></th>\n",
       "      <th>uuid</th>\n",
       "      <th>event_id</th>\n",
       "      <th>value</th>\n",
       "    </tr>\n",
       "  </thead>\n",
       "  <tbody>\n",
       "    <tr>\n",
       "      <th>0</th>\n",
       "      <td>542e4cfe-21ac-46a7-9d82-06b3950d210b</td>\n",
       "      <td>1</td>\n",
       "      <td>1.48.209.68</td>\n",
       "    </tr>\n",
       "    <tr>\n",
       "      <th>1</th>\n",
       "      <td>542e4cfe-05f4-46ab-b5b8-06b3950d210b</td>\n",
       "      <td>1</td>\n",
       "      <td>1.73.227.172</td>\n",
       "    </tr>\n",
       "    <tr>\n",
       "      <th>2</th>\n",
       "      <td>542e4cfe-81c4-45f2-9e67-06b3950d210b</td>\n",
       "      <td>1</td>\n",
       "      <td>1.162.58.214</td>\n",
       "    </tr>\n",
       "    <tr>\n",
       "      <th>3</th>\n",
       "      <td>542e4cfe-0ff4-4a93-aef8-06b3950d210b</td>\n",
       "      <td>1</td>\n",
       "      <td>1.163.34.29</td>\n",
       "    </tr>\n",
       "    <tr>\n",
       "      <th>4</th>\n",
       "      <td>542e4cfe-7a98-4c98-a862-06b3950d210b</td>\n",
       "      <td>1</td>\n",
       "      <td>1.192.158.169</td>\n",
       "    </tr>\n",
       "  </tbody>\n",
       "</table>\n",
       "</div>"
      ],
      "text/plain": [
       "                                   uuid  event_id          value\n",
       "0  542e4cfe-21ac-46a7-9d82-06b3950d210b         1    1.48.209.68\n",
       "1  542e4cfe-05f4-46ab-b5b8-06b3950d210b         1   1.73.227.172\n",
       "2  542e4cfe-81c4-45f2-9e67-06b3950d210b         1   1.162.58.214\n",
       "3  542e4cfe-0ff4-4a93-aef8-06b3950d210b         1    1.163.34.29\n",
       "4  542e4cfe-7a98-4c98-a862-06b3950d210b         1  1.192.158.169"
      ]
     },
     "execution_count": 5,
     "metadata": {},
     "output_type": "execute_result"
    }
   ],
   "source": [
    "misp_df.head()"
   ]
  },
  {
   "cell_type": "markdown",
   "metadata": {},
   "source": [
    "## Vorbereitung der Daten"
   ]
  },
  {
   "cell_type": "markdown",
   "metadata": {},
   "source": [
    "### Betrachtung der Rohdaten\n",
    "Zur Kontrolle der Rohdaten werden die ersten drei Zeilen, sowie die Anzahl der Daten und Informationen ausgegeben."
   ]
  },
  {
   "cell_type": "code",
   "execution_count": 6,
   "metadata": {
    "pycharm": {
     "is_executing": true
    }
   },
   "outputs": [
    {
     "name": "stdout",
     "output_type": "stream",
     "text": [
      "Anzahl der Daten:  22823\n"
     ]
    }
   ],
   "source": [
    "print(\"Anzahl der Daten: \", len(misp_df))"
   ]
  },
  {
   "cell_type": "markdown",
   "metadata": {},
   "source": [
    "## Hier kann man anpassen, wie viele Ergebnisse man haben möchte. Default sind 100."
   ]
  },
  {
   "cell_type": "code",
   "execution_count": 7,
   "metadata": {
    "pycharm": {
     "is_executing": true
    }
   },
   "outputs": [
    {
     "name": "stdout",
     "output_type": "stream",
     "text": [
      "100\n"
     ]
    }
   ],
   "source": [
    "misp_df = misp_df.sample(frac =.25)\n",
    "misp_df = misp_df.head(100)\n",
    "print(len(misp_df))"
   ]
  },
  {
   "cell_type": "code",
   "execution_count": 8,
   "metadata": {
    "pycharm": {
     "is_executing": true
    }
   },
   "outputs": [
    {
     "data": {
      "text/html": [
       "<div>\n",
       "<style scoped>\n",
       "    .dataframe tbody tr th:only-of-type {\n",
       "        vertical-align: middle;\n",
       "    }\n",
       "\n",
       "    .dataframe tbody tr th {\n",
       "        vertical-align: top;\n",
       "    }\n",
       "\n",
       "    .dataframe thead th {\n",
       "        text-align: right;\n",
       "    }\n",
       "</style>\n",
       "<table border=\"1\" class=\"dataframe\">\n",
       "  <thead>\n",
       "    <tr style=\"text-align: right;\">\n",
       "      <th></th>\n",
       "      <th>uuid</th>\n",
       "      <th>event_id</th>\n",
       "      <th>value</th>\n",
       "    </tr>\n",
       "  </thead>\n",
       "  <tbody>\n",
       "    <tr>\n",
       "      <th>8004</th>\n",
       "      <td>546e0e5c-83f8-4f28-8e10-804b950d210b</td>\n",
       "      <td>25</td>\n",
       "      <td>218.103.38.112</td>\n",
       "    </tr>\n",
       "    <tr>\n",
       "      <th>19788</th>\n",
       "      <td>afdaca7f-872f-4567-b0a8-e0c7310c5c8b</td>\n",
       "      <td>1188</td>\n",
       "      <td>45.153.240.246</td>\n",
       "    </tr>\n",
       "    <tr>\n",
       "      <th>21595</th>\n",
       "      <td>58f8e8a3-f2c9-4fc1-85d5-e19e4bcc3d87</td>\n",
       "      <td>1190</td>\n",
       "      <td>159.65.166.223</td>\n",
       "    </tr>\n",
       "    <tr>\n",
       "      <th>21439</th>\n",
       "      <td>58c5e17d-702e-4128-b3ae-559fea3d324c</td>\n",
       "      <td>1190</td>\n",
       "      <td>24.97.129.36</td>\n",
       "    </tr>\n",
       "    <tr>\n",
       "      <th>13142</th>\n",
       "      <td>571f4eec-6ff4-4d42-84ba-4bd1950d210f</td>\n",
       "      <td>262</td>\n",
       "      <td>92.23.68.42</td>\n",
       "    </tr>\n",
       "  </tbody>\n",
       "</table>\n",
       "</div>"
      ],
      "text/plain": [
       "                                       uuid  event_id           value\n",
       "8004   546e0e5c-83f8-4f28-8e10-804b950d210b        25  218.103.38.112\n",
       "19788  afdaca7f-872f-4567-b0a8-e0c7310c5c8b      1188  45.153.240.246\n",
       "21595  58f8e8a3-f2c9-4fc1-85d5-e19e4bcc3d87      1190  159.65.166.223\n",
       "21439  58c5e17d-702e-4128-b3ae-559fea3d324c      1190    24.97.129.36\n",
       "13142  571f4eec-6ff4-4d42-84ba-4bd1950d210f       262     92.23.68.42"
      ]
     },
     "execution_count": 8,
     "metadata": {},
     "output_type": "execute_result"
    }
   ],
   "source": [
    "misp_df.head()"
   ]
  },
  {
   "cell_type": "code",
   "execution_count": 9,
   "metadata": {
    "pycharm": {
     "is_executing": true
    }
   },
   "outputs": [
    {
     "name": "stdout",
     "output_type": "stream",
     "text": [
      "<class 'pandas.core.frame.DataFrame'>\n",
      "Int64Index: 100 entries, 8004 to 9626\n",
      "Data columns (total 3 columns):\n",
      " #   Column    Non-Null Count  Dtype \n",
      "---  ------    --------------  ----- \n",
      " 0   uuid      100 non-null    object\n",
      " 1   event_id  100 non-null    int64 \n",
      " 2   value     100 non-null    object\n",
      "dtypes: int64(1), object(2)\n",
      "memory usage: 3.1+ KB\n"
     ]
    }
   ],
   "source": [
    "misp_df.info()"
   ]
  },
  {
   "cell_type": "markdown",
   "metadata": {},
   "source": [
    "## Reverse IP Lookup"
   ]
  },
  {
   "cell_type": "markdown",
   "metadata": {},
   "source": [
    "### IP-Adressen in einer Liste für die weitere Bearbeitung speichern"
   ]
  },
  {
   "cell_type": "code",
   "execution_count": 10,
   "metadata": {
    "pycharm": {
     "is_executing": true
    }
   },
   "outputs": [],
   "source": [
    "ip_list = misp_df['value'].tolist()"
   ]
  },
  {
   "cell_type": "markdown",
   "metadata": {},
   "source": [
    "### Dictionary zur späteren Verwendung anlegen. Eine Serie zur Erstellung einer neuen Spalte anlegen."
   ]
  },
  {
   "cell_type": "code",
   "execution_count": 11,
   "metadata": {
    "pycharm": {
     "is_executing": true
    }
   },
   "outputs": [],
   "source": [
    "def_dict_reverse = defaultdict(list)\n",
    "def_dict_reverse_2 = defaultdict(list)\n",
    "domain_for_ip_address = pd.Series([],dtype=pd.StringDtype())\n",
    "ip_domain_dict = {}"
   ]
  },
  {
   "cell_type": "markdown",
   "metadata": {},
   "source": [
    "### Für jede Ip-Adresse ein Reverse Lookup durchführen\n",
    "\n",
    "War das Reverse Lookup erfolgreich, wird die Domain extrahiert und sowohl in einem dict als key mit der IP-Adresse als zugehörigen Value abgespeichert. Zudem wird die Domain in der neuen Spalte domain for_ip_address zur jeweiligen Zeile hinzugefügt.\n",
    "Zu jedem Key (Domain) erhält man 1-n Values (IP-Adressen)"
   ]
  },
  {
   "cell_type": "code",
   "execution_count": 12,
   "metadata": {
    "pycharm": {
     "is_executing": true
    }
   },
   "outputs": [],
   "source": [
    "for element in ip_list:\n",
    "    try:\n",
    "        rev_name = reversename.from_address(str(element))\n",
    "        reversed_dns = str(resolver.resolve(rev_name, \"PTR\")[0])\n",
    "        result = tldextract.extract(reversed_dns)\n",
    "        domain = result.domain\n",
    "        \n",
    "        if element not in def_dict_reverse:\n",
    "            def_dict_reverse[element] = domain\n",
    "        else:\n",
    "            def_dict_reverse[element].append(domain)\n",
    "    except:\n",
    "        continue\n",
    "ip_domain_dict = dict(def_dict_reverse)"
   ]
  },
  {
   "cell_type": "code",
   "execution_count": 13,
   "metadata": {
    "pycharm": {
     "is_executing": true
    }
   },
   "outputs": [
    {
     "name": "stdout",
     "output_type": "stream",
     "text": [
      "{'218.103.38.112': 'netvigator', '24.97.129.36': 'rr', '92.23.68.42': 'as13285', '54.173.157.23': 'amazonaws', '14.97.164.161': '14-tataidc', '54.193.34.194': 'amazonaws', '89.190.196.99': 'megalan', '122.54.25.66': 'pldt', '65.114.164.245': 'qwest', '176.189.30.63': 'bbox', '174.139.12.85': 'krypt', '107.180.51.235': 'secureserver', '176.10.100.229': 'alpeinsoft', '54.72.124.107': 'amazonaws', '54.149.76.227': 'amazonaws', '195.32.89.29': 'wadsl', '62.171.161.55': 'b2bounty', '138.201.140.110': 'your-server', '107.183.149.75': 'orange', '173.208.206.172': 'spunequable', '149.28.14.163': 'vultr', '122.225.97.103': 'fund123', '192.99.247.174': 'ovh', '77.246.145.157': 'example', '13.127.218.140': 'amazonaws', '54.187.236.253': 'amazonaws', '124.126.224.213': 'bjtelecom', '185.209.20.221': 'had', '217.68.23.131': 'freestart', '78.88.28.161': 'vectranet', '88.119.171.68': 'bacloud', '64.34.216.104': 'indservers', '192.186.246.134': 'secureserver', '75.127.1.214': 'colocrossing', '213.136.73.122': 'fairplayhost', '106.51.183.114': 'actcorp', '217.172.226.2': 'mm', '44.234.20.79': 'amazonaws', '50.63.202.62': 'secureserver', '54.67.29.56': 'amazonaws', '74.63.217.220': 'lstn', '137.27.173.61': 'spectrum', '189.158.37.166': 'prod-infinitum', '23.244.68.61': 'scalabledns', '216.146.38.70': 'dyndns', '23.25.114.53': 'comcastbusiness', '103.6.196.118': 'mschosting', '45.32.154.141': 'geekme', '70.60.153.206': 'rr', '209.74.126.2': 'mei', '185.20.184.157': 'deltahost-ptr', '186.58.145.101': 'speedy', '66.150.186.5': 'sitespect', '190.230.60.129': 'telecom', '173.44.58.240': 'emailalerts', '66.147.240.193': 'hostmonster', '192.254.132.26': 'pstcmedia'}\n"
     ]
    }
   ],
   "source": [
    "print(ip_domain_dict)"
   ]
  },
  {
   "cell_type": "markdown",
   "metadata": {},
   "source": [
    "## passive DNS Lookup"
   ]
  },
  {
   "cell_type": "code",
   "execution_count": 14,
   "metadata": {
    "pycharm": {
     "is_executing": true
    }
   },
   "outputs": [],
   "source": [
    "def_dict_pdns = defaultdict(list)\n",
    "ip_pdns_dict = {}"
   ]
  },
  {
   "cell_type": "markdown",
   "metadata": {},
   "source": [
    "### pDNS Abfrage bei Circl\n",
    "Die Ergebnisse des passive DNS Lookups werden in einem Dictionary in folgender Form gespeichert: ip : 1-n pDNS Einträge"
   ]
  },
  {
   "cell_type": "code",
   "execution_count": 15,
   "metadata": {
    "pycharm": {
     "is_executing": true
    }
   },
   "outputs": [
    {
     "name": "stdout",
     "output_type": "stream",
     "text": [
      "1\n",
      "2\n",
      "3\n",
      "4\n",
      "5\n",
      "6\n",
      "7\n",
      "8\n",
      "9\n",
      "10\n",
      "11\n",
      "12\n",
      "13\n",
      "14\n",
      "15\n",
      "16\n",
      "17\n",
      "18\n",
      "19\n",
      "20\n",
      "21\n",
      "22\n",
      "23\n",
      "24\n",
      "25\n",
      "26\n",
      "27\n",
      "28\n",
      "29\n",
      "30\n",
      "31\n",
      "32\n",
      "33\n",
      "34\n",
      "35\n",
      "36\n",
      "37\n",
      "38\n",
      "39\n",
      "40\n",
      "41\n",
      "42\n",
      "43\n",
      "44\n",
      "45\n",
      "46\n",
      "47\n",
      "48\n",
      "49\n",
      "50\n",
      "51\n",
      "52\n",
      "53\n",
      "54\n",
      "55\n",
      "56\n",
      "57\n",
      "58\n",
      "59\n",
      "60\n",
      "61\n",
      "62\n",
      "63\n",
      "64\n",
      "65\n",
      "66\n",
      "67\n",
      "68\n",
      "69\n",
      "70\n",
      "71\n",
      "72\n",
      "73\n",
      "74\n",
      "75\n",
      "76\n",
      "77\n",
      "78\n",
      "79\n",
      "80\n",
      "81\n",
      "82\n",
      "83\n",
      "84\n",
      "85\n",
      "86\n",
      "87\n",
      "88\n",
      "89\n",
      "90\n",
      "91\n",
      "92\n",
      "93\n",
      "94\n",
      "95\n",
      "96\n",
      "97\n",
      "98\n",
      "99\n",
      "100\n",
      "{'31.170.160.229': ['31.170.160.229'], '107.180.51.235': ['107.180.51.235', '107.180.51.235', 'ns24.domaincontrol.com', 'ns23.domaincontrol.com'], '162.210.102.232': ['162.210.102.232', 'ns8.hoststage.net', '178.33.228.42', 'ns7.hoststage.net', '162.210.102.232', '162.210.102.232', 'dns2.freehostia.com', 'dns1.freehostia.com', '162.210.102.232'], '159.253.46.194': ['159.253.46.194'], '217.68.23.131': ['217.68.23.131', '217.68.23.131', '217.68.23.131'], '64.34.216.104': ['64.34.216.104', 'ns12.indservers.co.in', 'ns11.indservers.co.in', '64.34.216.104', 'ns01.indservers.co.in', '64.34.216.104', 'ns02.indservers.co.in', '64.34.216.104'], '213.136.73.122': ['213.136.73.122', '2a02:c207:2009:742::1'], '217.172.226.2': ['217.172.226.2', '217.172.226.2', '217.172.226.2', '217.172.226.6', 'ns1.mpsz.pl', 'dns1.mm.pl'], '50.63.202.62': ['ns100.rookdns.com', '141.8.224.239', 'ns99.rookdns.com', '50.63.202.62', 'ns51.domaincontrol.com', 'ns52.domaincontrol.com', 'ns01.domaincontrol.com', '50.63.202.62', 'ns02.domaincontrol.com', 'ns78.domaincontrol.com', 'ns77.domaincontrol.com', '50.63.202.62', 'ns4.pcdg.co', 'ns1.pcdg.co', 'ns3.pcdg.co', 'ns2.pcdg.co', '50.63.202.62', '72.44.89.125', 'ns54.domaincontrol.com', 'ns53.domaincontrol.com', '50.63.202.62', 'ns16.domaincontrol.com', 'ns15.domaincontrol.com', '50.63.202.62', '50.63.202.62', 'ns58.domaincontrol.com', 'ns57.domaincontrol.com', 'ns31.domaincontrol.com', 'ns32.domaincontrol.com', '50.63.202.62', 'ns64.domaincontrol.com', 'ns63.domaincontrol.com', '50.63.202.62', '216.239.36.21', '216.239.32.21', '216.239.34.21', '184.168.221.49', '216.239.38.21', '50.63.202.23', '50.63.202.62', 'ns8.rookdns.com', '141.8.224.93', 'ns7.rookdns.com', '50.63.202.62', 'ns4.secureserver.net', 'ns3.secureserver.net', '103.224.182.243', 'ns1.above.com', 'ns2.above.com', '50.63.202.62', 'ns47.domaincontrol.com', 'ns48.domaincontrol.com', 'ns75.domaincontrol.com', '50.63.202.62', 'ns76.domaincontrol.com', 'ns48.domaincontrol.com', 'ns47.domaincontrol.com', '50.63.202.62', '50.63.202.36', 'ns43.domaincontrol.com', 'ns44.domaincontrol.com', '50.63.202.62', '50.63.202.62', 'ns48.domaincontrol.com', 'ns47.domaincontrol.com', 'ns04.domaincontrol.com', '50.63.202.62', 'ns03.domaincontrol.com', '50.63.202.62', 'ns56.domaincontrol.com', 'ns55.domaincontrol.com', 'ns28.domaincontrol.com', 'ns27.domaincontrol.com', '50.63.202.62', '50.63.202.62', 'ns61.domaincontrol.com', '184.168.221.35', 'ns62.domaincontrol.com', 'ns44.domaincontrol.com', 'ns43.domaincontrol.com', '50.63.202.62', '50.63.202.41', '50.63.202.62', '184.168.221.45', 'ns78.domaincontrol.com', 'ns77.domaincontrol.com', '184.168.221.48', '50.63.202.62', '50.63.202.35', '50.63.202.63', '50.63.202.62', 'ns77.domaincontrol.com', 'ns78.domaincontrol.com', '45.77.100.168', 'george.ns.cloudflare.com', 'ruth.ns.cloudflare.com', '185.117.74.51', '50.63.202.37', '184.168.221.52', '50.63.202.43', '50.63.202.51', '184.168.221.35', '184.168.221.44', '184.168.221.42', '184.168.221.39', '184.168.221.42', '50.63.202.50', 'bing1.lossproject.us', 'bing2.lossproject.us', '50.63.202.62', '50.63.202.34', '184.168.221.48', '50.63.202.48', '184.168.221.60', 'ns11.domaincontrol.com', 'ns12.domaincontrol.com', '184.168.221.56', 'ns53.domaincontrol.com', 'ns54.domaincontrol.com', '184.168.221.50', '50.63.202.46', '50.63.202.62', '50.63.202.57', '184.168.221.38', '50.63.202.43', '184.168.221.60', '50.63.202.62', '50.63.202.56', '184.168.221.52', '50.63.202.50', 'ns07.domaincontrol.com', 'ns08.domaincontrol.com', 'ns59.domaincontrol.com', '50.63.202.62', 'ns60.domaincontrol.com', '184.168.221.63', 'a5-65.akam.net', 'a1-84.akam.net', 'a7-67.akam.net', 'a20-64.akam.net', '50.63.202.62', 'ns23.domaincontrol.com', '50.63.202.62', 'ns24.domaincontrol.com', '50.63.202.32', '184.168.221.63', '50.63.202.62', 'ns58.domaincontrol.com', 'ns57.domaincontrol.com', '184.168.221.62', '184.168.221.59', '184.168.221.45', '50.63.202.34', '50.63.202.35', '184.168.221.59', '50.63.202.43', '50.63.202.60', '50.63.202.62', 'ns39.domaincontrol.com', '50.63.202.62', 'ns40.domaincontrol.com', '132.148.22.67', '184.168.221.59', '184.168.221.36', '184.168.221.32', '184.168.221.38', '50.63.202.45', '184.168.221.60', '50.63.202.36', '184.168.221.55', '50.63.202.56', '50.63.202.36', '50.63.202.62', 'ns38.domaincontrol.com', '184.168.221.61', 'ns37.domaincontrol.com', '50.63.202.47', '184.168.221.57', '184.168.221.63', '50.63.202.44', '50.63.202.38', '50.63.202.53', '184.168.221.53', '50.63.202.58', '184.168.221.46', '184.168.221.34', 'pdns13.domaincontrol.com', 'pdns14.domaincontrol.com', '184.168.221.35', 'ns38.domaincontrol.com', '184.168.221.37', 'ns37.domaincontrol.com', 'ns-440.awsdns-55.com', '50.63.202.62', 'ns-1001.awsdns-61.net', 'ns-1035.awsdns-01.org', 'ns-1891.awsdns-44.co.uk', '50.63.202.51', '50.63.202.53', 'ns38.domaincontrol.com', 'ns37.domaincontrol.com', '184.168.221.58', 'ns23.domaincontrol.com', 'ns24.domaincontrol.com'], '23.244.68.61': ['23.244.68.61', 'dns14.hichina.com', 'dns13.hichina.com'], '216.146.38.70': ['208.78.69.70', '216.146.39.70', '216.146.39.70', '216.146.39.70', '216.146.39.70', '216.146.39.70', '216.146.39.70', '216.146.39.70', '216.146.39.70', '162.88.100.203', '162.88.100.201', '162.88.100.202', '91.198.22.70', '91.198.22.70', '91.198.22.70', '91.198.22.70', '91.198.22.70', '91.198.22.70', '91.198.22.70', '91.198.22.70', '131.186.113.136', '131.186.113.135', '216.146.38.70', '216.146.38.70', '216.146.38.70', '216.146.38.70', '216.146.38.70', '216.146.38.70', '216.146.38.70', '162.88.96.194', '216.146.43.70', '216.146.43.71', '216.146.38.70', '162.88.100.200'], '103.6.196.118': ['103.6.196.118', 'ns101.mschosting.com', 'ns102.mschosting.com', '103.6.196.118', 'ns101.mschosting.com', 'ns102.mschosting.com', 'ns111.mschosting.com', '103.6.196.118', 'ns112.mschosting.com'], '204.13.161.108': ['204.13.161.108', '204.13.161.108', '141.8.230.101'], '66.147.240.193': ['ns2.hostmonster.com', 'ns1.hostmonster.com', '66.147.240.193', '66.147.240.193', '66.147.240.193', '66.147.240.193', '74.220.207.92', 'ns1.hostmonster.com', 'ns2.hostmonster.com', '66.147.240.193', 'ns2.hostmonster.com', 'ns1.hostmonster.com', '66.147.240.193', 'ns1.hostmonster.com', '66.147.240.193', 'ns2.hostmonster.com', 'ns1.hostmonster.com', 'ns2.hostmonster.com', '66.147.240.193', '66.147.240.193', 'ns2.hostmonster.com', 'ns1.hostmonster.com', '66.147.240.193', 'ns1.hostmonster.com', 'ns2.hostmonster.com', 'ns1.hostmonster.com', 'ns2.hostmonster.com', '66.147.240.193', '66.147.240.193', 'ns1.hostmonster.com', 'ns2.hostmonster.com', 'ns2.hostmonster.com', 'ns1.hostmonster.com', '66.147.240.193', 'vinca.applicationx.net', 'gavin.applicationx.net', '66.147.240.193', 'ns2.hostmonster.com', 'ns1.hostmonster.com', '66.147.240.193', 'ns1.hostmonster.com', '66.147.240.193', 'ns2.hostmonster.com', '66.147.240.193', 'ns1.hostmonster.com', 'ns2.hostmonster.com', '66.147.240.193', 'ns2.hostmonster.com', 'ns1.hostmonster.com', '66.147.240.193', '66.147.240.193', '66.147.240.193', 'ns1.hostmonster.com', 'ns2.hostmonster.com', '66.147.240.193', 'ns1.hostmonster.com', 'ns2.hostmonster.com', 'ns1.hostmonster.com', '66.147.240.193', 'ns2.hostmonster.com', 'ns1.hostmonster.com', 'ns2.hostmonster.com', '66.147.240.193', 'ns2.hostmonster.com', '66.147.240.193', 'ns1.hostmonster.com', '66.147.240.193', 'ns1.hostmonster.com', 'ns2.hostmonster.com', 'ns2.dnsowl.com', 'ns3.dnsowl.com', 'ns1.dnsowl.com', '66.147.240.193', '66.147.240.193', '66.147.240.193', '66.147.240.193', 'ns1.hostmonster.com', 'ns2.hostmonster.com', 'ns2.hostmonster.com', 'ns1.hostmonster.com', '107.154.155.193', '107.154.162.193', 'ns1.hostmonster.com', 'ns2.hostmonster.com', '66.147.240.193']}\n"
     ]
    }
   ],
   "source": [
    "request = pypdns.PyPDNS(basic_auth=(os.environ.get('CIRCL_PDNS_USERNAME'),os.environ.get('CIRCL_PDNS_PASSWORD')))\n",
    "count = 0\n",
    "\n",
    "for element in ip_list:\n",
    "    \n",
    "    count += 1\n",
    "    print(count)\n",
    "    \n",
    "    time.sleep(2)\n",
    "    \n",
    "    pdns_result = request.query(str(element))\n",
    "    \n",
    "    if len(pdns_result) == 0:\n",
    "        continue\n",
    "        \n",
    "    rdata_list = []\n",
    "    \n",
    "    for pdns_result_element in pdns_result:\n",
    "        rdata = pdns_result_element['rdata']\n",
    "        rdata_list.append(rdata)\n",
    "    \n",
    "    if element not in def_dict_pdns:\n",
    "        def_dict_pdns[element] = rdata_list\n",
    "\n",
    "ip_pdns_dict = dict(def_dict_pdns)\n",
    "print(ip_pdns_dict)"
   ]
  },
  {
   "cell_type": "code",
   "execution_count": 16,
   "metadata": {
    "pycharm": {
     "is_executing": true
    }
   },
   "outputs": [
    {
     "name": "stdout",
     "output_type": "stream",
     "text": [
      "{'31.170.160.229': ['31.170.160.229'], '107.180.51.235': ['107.180.51.235', '107.180.51.235', 'ns24.domaincontrol.com', 'ns23.domaincontrol.com'], '162.210.102.232': ['162.210.102.232', 'ns8.hoststage.net', '178.33.228.42', 'ns7.hoststage.net', '162.210.102.232', '162.210.102.232', 'dns2.freehostia.com', 'dns1.freehostia.com', '162.210.102.232'], '159.253.46.194': ['159.253.46.194'], '217.68.23.131': ['217.68.23.131', '217.68.23.131', '217.68.23.131'], '64.34.216.104': ['64.34.216.104', 'ns12.indservers.co.in', 'ns11.indservers.co.in', '64.34.216.104', 'ns01.indservers.co.in', '64.34.216.104', 'ns02.indservers.co.in', '64.34.216.104'], '213.136.73.122': ['213.136.73.122', '2a02:c207:2009:742::1'], '217.172.226.2': ['217.172.226.2', '217.172.226.2', '217.172.226.2', '217.172.226.6', 'ns1.mpsz.pl', 'dns1.mm.pl'], '50.63.202.62': ['ns100.rookdns.com', '141.8.224.239', 'ns99.rookdns.com', '50.63.202.62', 'ns51.domaincontrol.com', 'ns52.domaincontrol.com', 'ns01.domaincontrol.com', '50.63.202.62', 'ns02.domaincontrol.com', 'ns78.domaincontrol.com', 'ns77.domaincontrol.com', '50.63.202.62', 'ns4.pcdg.co', 'ns1.pcdg.co', 'ns3.pcdg.co', 'ns2.pcdg.co', '50.63.202.62', '72.44.89.125', 'ns54.domaincontrol.com', 'ns53.domaincontrol.com', '50.63.202.62', 'ns16.domaincontrol.com', 'ns15.domaincontrol.com', '50.63.202.62', '50.63.202.62', 'ns58.domaincontrol.com', 'ns57.domaincontrol.com', 'ns31.domaincontrol.com', 'ns32.domaincontrol.com', '50.63.202.62', 'ns64.domaincontrol.com', 'ns63.domaincontrol.com', '50.63.202.62', '216.239.36.21', '216.239.32.21', '216.239.34.21', '184.168.221.49', '216.239.38.21', '50.63.202.23', '50.63.202.62', 'ns8.rookdns.com', '141.8.224.93', 'ns7.rookdns.com', '50.63.202.62', 'ns4.secureserver.net', 'ns3.secureserver.net', '103.224.182.243', 'ns1.above.com', 'ns2.above.com', '50.63.202.62', 'ns47.domaincontrol.com', 'ns48.domaincontrol.com', 'ns75.domaincontrol.com', '50.63.202.62', 'ns76.domaincontrol.com', 'ns48.domaincontrol.com', 'ns47.domaincontrol.com', '50.63.202.62', '50.63.202.36', 'ns43.domaincontrol.com', 'ns44.domaincontrol.com', '50.63.202.62', '50.63.202.62', 'ns48.domaincontrol.com', 'ns47.domaincontrol.com', 'ns04.domaincontrol.com', '50.63.202.62', 'ns03.domaincontrol.com', '50.63.202.62', 'ns56.domaincontrol.com', 'ns55.domaincontrol.com', 'ns28.domaincontrol.com', 'ns27.domaincontrol.com', '50.63.202.62', '50.63.202.62', 'ns61.domaincontrol.com', '184.168.221.35', 'ns62.domaincontrol.com', 'ns44.domaincontrol.com', 'ns43.domaincontrol.com', '50.63.202.62', '50.63.202.41', '50.63.202.62', '184.168.221.45', 'ns78.domaincontrol.com', 'ns77.domaincontrol.com', '184.168.221.48', '50.63.202.62', '50.63.202.35', '50.63.202.63', '50.63.202.62', 'ns77.domaincontrol.com', 'ns78.domaincontrol.com', '45.77.100.168', 'george.ns.cloudflare.com', 'ruth.ns.cloudflare.com', '185.117.74.51', '50.63.202.37', '184.168.221.52', '50.63.202.43', '50.63.202.51', '184.168.221.35', '184.168.221.44', '184.168.221.42', '184.168.221.39', '184.168.221.42', '50.63.202.50', 'bing1.lossproject.us', 'bing2.lossproject.us', '50.63.202.62', '50.63.202.34', '184.168.221.48', '50.63.202.48', '184.168.221.60', 'ns11.domaincontrol.com', 'ns12.domaincontrol.com', '184.168.221.56', 'ns53.domaincontrol.com', 'ns54.domaincontrol.com', '184.168.221.50', '50.63.202.46', '50.63.202.62', '50.63.202.57', '184.168.221.38', '50.63.202.43', '184.168.221.60', '50.63.202.62', '50.63.202.56', '184.168.221.52', '50.63.202.50', 'ns07.domaincontrol.com', 'ns08.domaincontrol.com', 'ns59.domaincontrol.com', '50.63.202.62', 'ns60.domaincontrol.com', '184.168.221.63', 'a5-65.akam.net', 'a1-84.akam.net', 'a7-67.akam.net', 'a20-64.akam.net', '50.63.202.62', 'ns23.domaincontrol.com', '50.63.202.62', 'ns24.domaincontrol.com', '50.63.202.32', '184.168.221.63', '50.63.202.62', 'ns58.domaincontrol.com', 'ns57.domaincontrol.com', '184.168.221.62', '184.168.221.59', '184.168.221.45', '50.63.202.34', '50.63.202.35', '184.168.221.59', '50.63.202.43', '50.63.202.60', '50.63.202.62', 'ns39.domaincontrol.com', '50.63.202.62', 'ns40.domaincontrol.com', '132.148.22.67', '184.168.221.59', '184.168.221.36', '184.168.221.32', '184.168.221.38', '50.63.202.45', '184.168.221.60', '50.63.202.36', '184.168.221.55', '50.63.202.56', '50.63.202.36', '50.63.202.62', 'ns38.domaincontrol.com', '184.168.221.61', 'ns37.domaincontrol.com', '50.63.202.47', '184.168.221.57', '184.168.221.63', '50.63.202.44', '50.63.202.38', '50.63.202.53', '184.168.221.53', '50.63.202.58', '184.168.221.46', '184.168.221.34', 'pdns13.domaincontrol.com', 'pdns14.domaincontrol.com', '184.168.221.35', 'ns38.domaincontrol.com', '184.168.221.37', 'ns37.domaincontrol.com', 'ns-440.awsdns-55.com', '50.63.202.62', 'ns-1001.awsdns-61.net', 'ns-1035.awsdns-01.org', 'ns-1891.awsdns-44.co.uk', '50.63.202.51', '50.63.202.53', 'ns38.domaincontrol.com', 'ns37.domaincontrol.com', '184.168.221.58', 'ns23.domaincontrol.com', 'ns24.domaincontrol.com'], '23.244.68.61': ['23.244.68.61', 'dns14.hichina.com', 'dns13.hichina.com'], '216.146.38.70': ['208.78.69.70', '216.146.39.70', '216.146.39.70', '216.146.39.70', '216.146.39.70', '216.146.39.70', '216.146.39.70', '216.146.39.70', '216.146.39.70', '162.88.100.203', '162.88.100.201', '162.88.100.202', '91.198.22.70', '91.198.22.70', '91.198.22.70', '91.198.22.70', '91.198.22.70', '91.198.22.70', '91.198.22.70', '91.198.22.70', '131.186.113.136', '131.186.113.135', '216.146.38.70', '216.146.38.70', '216.146.38.70', '216.146.38.70', '216.146.38.70', '216.146.38.70', '216.146.38.70', '162.88.96.194', '216.146.43.70', '216.146.43.71', '216.146.38.70', '162.88.100.200'], '103.6.196.118': ['103.6.196.118', 'ns101.mschosting.com', 'ns102.mschosting.com', '103.6.196.118', 'ns101.mschosting.com', 'ns102.mschosting.com', 'ns111.mschosting.com', '103.6.196.118', 'ns112.mschosting.com'], '204.13.161.108': ['204.13.161.108', '204.13.161.108', '141.8.230.101'], '66.147.240.193': ['ns2.hostmonster.com', 'ns1.hostmonster.com', '66.147.240.193', '66.147.240.193', '66.147.240.193', '66.147.240.193', '74.220.207.92', 'ns1.hostmonster.com', 'ns2.hostmonster.com', '66.147.240.193', 'ns2.hostmonster.com', 'ns1.hostmonster.com', '66.147.240.193', 'ns1.hostmonster.com', '66.147.240.193', 'ns2.hostmonster.com', 'ns1.hostmonster.com', 'ns2.hostmonster.com', '66.147.240.193', '66.147.240.193', 'ns2.hostmonster.com', 'ns1.hostmonster.com', '66.147.240.193', 'ns1.hostmonster.com', 'ns2.hostmonster.com', 'ns1.hostmonster.com', 'ns2.hostmonster.com', '66.147.240.193', '66.147.240.193', 'ns1.hostmonster.com', 'ns2.hostmonster.com', 'ns2.hostmonster.com', 'ns1.hostmonster.com', '66.147.240.193', 'vinca.applicationx.net', 'gavin.applicationx.net', '66.147.240.193', 'ns2.hostmonster.com', 'ns1.hostmonster.com', '66.147.240.193', 'ns1.hostmonster.com', '66.147.240.193', 'ns2.hostmonster.com', '66.147.240.193', 'ns1.hostmonster.com', 'ns2.hostmonster.com', '66.147.240.193', 'ns2.hostmonster.com', 'ns1.hostmonster.com', '66.147.240.193', '66.147.240.193', '66.147.240.193', 'ns1.hostmonster.com', 'ns2.hostmonster.com', '66.147.240.193', 'ns1.hostmonster.com', 'ns2.hostmonster.com', 'ns1.hostmonster.com', '66.147.240.193', 'ns2.hostmonster.com', 'ns1.hostmonster.com', 'ns2.hostmonster.com', '66.147.240.193', 'ns2.hostmonster.com', '66.147.240.193', 'ns1.hostmonster.com', '66.147.240.193', 'ns1.hostmonster.com', 'ns2.hostmonster.com', 'ns2.dnsowl.com', 'ns3.dnsowl.com', 'ns1.dnsowl.com', '66.147.240.193', '66.147.240.193', '66.147.240.193', '66.147.240.193', 'ns1.hostmonster.com', 'ns2.hostmonster.com', 'ns2.hostmonster.com', 'ns1.hostmonster.com', '107.154.155.193', '107.154.162.193', 'ns1.hostmonster.com', 'ns2.hostmonster.com', '66.147.240.193']}\n"
     ]
    }
   ],
   "source": [
    "print(ip_pdns_dict)"
   ]
  },
  {
   "cell_type": "markdown",
   "metadata": {
    "pycharm": {
     "is_executing": true
    }
   },
   "source": [
    "## ASN Lookup\n",
    "Es werden nur einige Felder der ASN-Response verwendet. Diese werden wie schon zuvor in der Form ip : 1 ASN-Eintrag in verschiedene Dictionaries gespeichert."
   ]
  },
  {
   "cell_type": "code",
   "execution_count": 17,
   "metadata": {
    "pycharm": {
     "is_executing": true
    }
   },
   "outputs": [],
   "source": [
    "def_dict_asn_registry = defaultdict(list)\n",
    "def_dict_asn = defaultdict(list)\n",
    "def_dict_asn_cidr = defaultdict(list)\n",
    "def_dict_asn_country_code = defaultdict(list)\n",
    "def_dict_asn_date = defaultdict(list)\n",
    "\n",
    "ip_asn_registry_dict = {}\n",
    "ip_asn_dict = {}\n",
    "ip_asn_cidr_dict = {}\n",
    "ip_asn_country_code_dict = {}\n",
    "ip_asn_date_dict = {}"
   ]
  },
  {
   "cell_type": "code",
   "execution_count": 18,
   "metadata": {
    "pycharm": {
     "is_executing": true
    }
   },
   "outputs": [
    {
     "name": "stdout",
     "output_type": "stream",
     "text": [
      "1\n",
      "2\n",
      "3\n",
      "4\n",
      "5\n",
      "6\n",
      "7\n",
      "8\n",
      "9\n",
      "10\n",
      "11\n",
      "12\n",
      "13\n",
      "14\n",
      "15\n",
      "16\n",
      "17\n",
      "18\n",
      "19\n",
      "20\n",
      "21\n",
      "22\n",
      "23\n",
      "24\n",
      "25\n",
      "26\n",
      "27\n",
      "28\n",
      "29\n",
      "30\n",
      "31\n",
      "32\n",
      "33\n",
      "34\n",
      "35\n",
      "36\n",
      "37\n",
      "38\n",
      "39\n",
      "40\n",
      "41\n",
      "42\n",
      "43\n",
      "44\n",
      "45\n",
      "46\n",
      "47\n",
      "48\n",
      "49\n",
      "50\n",
      "51\n",
      "52\n",
      "53\n",
      "54\n",
      "55\n",
      "56\n",
      "57\n",
      "58\n",
      "59\n",
      "60\n",
      "61\n",
      "62\n",
      "63\n",
      "64\n",
      "65\n",
      "66\n",
      "67\n",
      "68\n",
      "69\n",
      "70\n",
      "71\n",
      "72\n",
      "73\n",
      "74\n",
      "75\n",
      "76\n",
      "77\n",
      "78\n",
      "79\n",
      "80\n",
      "81\n",
      "82\n",
      "83\n",
      "84\n",
      "85\n",
      "86\n",
      "87\n",
      "88\n",
      "89\n",
      "90\n",
      "91\n",
      "92\n",
      "93\n",
      "94\n",
      "95\n",
      "96\n",
      "97\n",
      "98\n",
      "99\n",
      "{'218.103.38.112': 'apnic', '45.153.240.246': 'ripencc', '159.65.166.223': 'arin', '24.97.129.36': 'arin', '92.23.68.42': 'ripencc', '162.219.7.3': 'arin', '206.221.176.205': 'arin', '112.101.64.87': 'apnic', '142.93.253.45': 'arin', '54.173.157.23': 'arin', '31.170.160.229': 'ripencc', '74.121.191.200': 'arin', '14.97.164.161': 'apnic', '203.131.222.109': 'apnic', '54.193.34.194': 'arin', '89.190.196.99': 'ripencc', '122.54.25.66': 'apnic', '31.177.36.232': 'ripencc', '67.205.153.40': 'arin', '65.114.164.245': 'arin', '176.189.30.63': 'ripencc', '47.19.68.248': 'arin', '174.139.12.85': 'arin', '107.180.51.235': 'arin', '42.117.228.104': 'apnic', '162.210.102.232': 'arin', '176.10.100.229': 'ripencc', '63.128.163.30': 'arin', '54.72.124.107': 'arin', '192.241.149.43': 'arin', '54.149.76.227': 'arin', '195.32.89.29': 'ripencc', '149.200.183.84': 'ripencc', '62.116.143.11': 'ripencc', '190.141.30.43': 'lacnic', '62.171.161.55': 'ripencc', '40.82.174.37': 'arin', '138.201.140.110': 'ripencc', '107.183.149.75': 'ripencc', '173.208.206.172': 'arin', '149.28.14.163': 'arin', '122.225.97.103': 'apnic', '192.99.247.174': 'arin', '220.73.222.86': 'apnic', '159.253.46.194': 'ripencc', '103.41.124.35': 'apnic', '77.246.145.157': 'ripencc', '13.127.218.140': 'arin', '54.187.236.253': 'arin', '195.50.150.21': 'ripencc', '124.126.224.213': 'apnic', '185.209.20.221': 'ripencc', '173.234.155.75': 'arin', '96.9.209.177': 'arin', '217.68.23.131': 'ripencc', '78.88.28.161': 'ripencc', '63.220.6.173': 'arin', '222.82.253.110': 'apnic', '88.119.171.68': 'ripencc', '64.34.216.104': 'arin', '185.48.58.51': 'ripencc', '192.186.246.134': 'arin', '75.127.1.214': 'arin', '213.136.73.122': 'ripencc', '106.51.183.114': 'apnic', '217.172.226.2': 'ripencc', '176.121.14.208': 'ripencc', '118.99.37.87': 'apnic', '5.223.250.8': 'ripencc', '44.234.20.79': 'arin', '110.227.80.99': 'apnic', '95.77.137.76': 'ripencc', '50.63.202.62': 'arin', '54.67.29.56': 'arin', '74.63.217.220': 'arin', '137.27.173.61': 'arin', '189.158.37.166': 'lacnic', '23.244.68.61': 'arin', '42.120.145.16': 'apnic', '216.146.38.70': 'arin', '23.25.114.53': 'arin', '103.6.196.118': 'apnic', '117.27.158.91': 'apnic', '104.131.88.156': 'arin', '204.13.161.108': 'arin', '61.250.94.36': 'apnic', '83.229.62.212': 'ripencc', '45.32.154.141': 'arin', '70.60.153.206': 'arin', '209.74.126.2': 'arin', '185.20.184.157': 'ripencc', '182.186.246.180': 'apnic', '186.58.145.101': 'lacnic', '66.150.186.5': 'arin', '190.230.60.129': 'lacnic', '103.49.119.141': 'apnic', '173.44.58.240': 'arin', '66.147.240.193': 'arin', '192.254.132.26': 'arin'}\n",
      "{'218.103.38.112': '4760', '45.153.240.246': '30823', '159.65.166.223': '14061', '24.97.129.36': '11351', '92.23.68.42': '13285', '162.219.7.3': '55053', '206.221.176.205': '23470', '112.101.64.87': '17897', '142.93.253.45': '14061', '54.173.157.23': '14618', '31.170.160.229': '47583', '74.121.191.200': '27323', '14.97.164.161': 'NA', '203.131.222.109': '37992', '54.193.34.194': '16509', '89.190.196.99': '35141', '122.54.25.66': '9299', '31.177.36.232': '197985', '67.205.153.40': '14061', '65.114.164.245': '209', '176.189.30.63': '5410', '47.19.68.248': '6128', '174.139.12.85': '35908', '107.180.51.235': '26496', '42.117.228.104': '18403', '162.210.102.232': '32748', '176.10.100.229': '51395', '63.128.163.30': '3561', '54.72.124.107': '16509', '192.241.149.43': '14061', '54.149.76.227': '16509', '195.32.89.29': '21034', '149.200.183.84': '8376', '62.116.143.11': '15456', '190.141.30.43': '18809', '62.171.161.55': '51167', '40.82.174.37': '8075', '138.201.140.110': '24940', '107.183.149.75': '12479', '173.208.206.172': '32097', '149.28.14.163': '20473', '122.225.97.103': '4134', '192.99.247.174': '16276', '220.73.222.86': '4766', '159.253.46.194': '51559', '103.41.124.35': 'NA', '77.246.145.157': '29182', '13.127.218.140': '16509', '54.187.236.253': '16509', '195.50.150.21': '3209', '124.126.224.213': '4847', '185.209.20.221': '204601', '173.234.155.75': '396362', '96.9.209.177': '46844', '217.68.23.131': '15830', '78.88.28.161': '29314', '63.220.6.173': '38186', '222.82.253.110': '4134', '88.119.171.68': '61272', '64.34.216.104': '13768', '185.48.58.51': '62241', '192.186.246.134': '398101', '75.127.1.214': '36352', '213.136.73.122': '51167', '106.51.183.114': '131269', '217.172.226.2': '21021', '176.121.14.208': '210138', '118.99.37.87': 'NA', '5.223.250.8': 'NA', '44.234.20.79': '16509', '110.227.80.99': '24560', '95.77.137.76': '12302', '50.63.202.62': '26496', '54.67.29.56': '16509', '74.63.217.220': '46475', '137.27.173.61': '20115', '189.158.37.166': '8151', '23.244.68.61': 'NA', '42.120.145.16': '37963', '216.146.38.70': '33517', '23.25.114.53': '7922', '103.6.196.118': '46015', '117.27.158.91': '133774', '104.131.88.156': '14061', '204.13.161.108': 'NA', '61.250.94.36': '9848', '83.229.62.212': '8513', '45.32.154.141': '20473', '70.60.153.206': '10796', '209.74.126.2': '54373', '185.20.184.157': '42159', '182.186.246.180': '17557', '186.58.145.101': '22927', '66.150.186.5': '10912', '190.230.60.129': '7303', '103.49.119.141': '134341', '173.44.58.240': '8100', '66.147.240.193': '46606', '192.254.132.26': '46606'}\n",
      "{'218.103.38.112': '218.103.32.0/19', '45.153.240.246': '45.153.240.0/22', '159.65.166.223': '159.65.160.0/20', '24.97.129.36': '24.97.0.0/16', '92.23.68.42': '92.22.0.0/15', '162.219.7.3': '162.219.0.0/21', '206.221.176.205': '206.221.176.0/24', '112.101.64.87': '112.100.0.0/15', '142.93.253.45': '142.93.240.0/20', '54.173.157.23': '54.172.0.0/15', '31.170.160.229': '31.170.160.0/22', '74.121.191.200': '74.121.191.0/24', '14.97.164.161': 'NA', '203.131.222.109': '203.131.222.0/23', '54.193.34.194': '54.193.0.0/17', '89.190.196.99': '89.190.192.0/19', '122.54.25.66': '122.54.0.0/19', '31.177.36.232': '31.177.32.0/21', '67.205.153.40': '67.205.144.0/20', '65.114.164.245': '65.112.0.0/12', '176.189.30.63': '176.128.0.0/10', '47.19.68.248': '47.16.0.0/14', '174.139.12.85': '174.139.12.0/24', '107.180.51.235': '107.180.0.0/18', '42.117.228.104': '42.117.228.0/22', '162.210.102.232': '162.210.102.0/24', '176.10.100.229': '176.10.96.0/19', '63.128.163.30': '63.128.128.0/18', '54.72.124.107': '54.72.0.0/16', '192.241.149.43': '192.241.128.0/19', '54.149.76.227': '54.148.0.0/15', '195.32.89.29': '195.32.88.0/22', '149.200.183.84': '149.200.183.0/24', '62.116.143.11': '62.116.128.0/19', '190.141.30.43': '190.141.30.0/24', '62.171.161.55': '62.171.160.0/23', '40.82.174.37': '40.80.0.0/12', '138.201.140.110': '138.201.0.0/16', '107.183.149.75': '107.183.128.0/17', '173.208.206.172': '173.208.128.0/17', '149.28.14.163': '149.28.8.0/21', '122.225.97.103': '122.224.0.0/12', '192.99.247.174': '192.99.0.0/16', '220.73.222.86': '220.72.0.0/13', '159.253.46.194': '159.253.46.0/24', '103.41.124.35': 'NA', '77.246.145.157': '77.246.144.0/21', '13.127.218.140': '13.126.0.0/15', '54.187.236.253': '54.186.0.0/15', '195.50.150.21': '195.50.128.0/18', '124.126.224.213': '124.126.0.0/16', '185.209.20.221': '185.209.20.0/24', '173.234.155.75': '173.234.152.0/22', '96.9.209.177': '96.9.208.0/23', '217.68.23.131': '217.68.20.0/22', '78.88.28.161': '78.88.28.0/22', '63.220.6.173': '63.220.6.0/24', '222.82.253.110': '222.82.0.0/16', '88.119.171.68': '88.119.171.0/24', '64.34.216.104': '64.34.216.0/22', '185.48.58.51': '185.48.56.0/22', '192.186.246.134': '192.186.244.0/22', '75.127.1.214': '75.127.1.0/24', '213.136.73.122': '213.136.72.0/23', '106.51.183.114': '106.51.176.0/20', '217.172.226.2': '217.172.224.0/19', '176.121.14.208': '176.121.14.0/24', '118.99.37.87': 'NA', '5.223.250.8': 'NA', '44.234.20.79': '44.224.0.0/11', '110.227.80.99': '110.227.64.0/19', '95.77.137.76': '95.77.0.0/16', '50.63.202.62': '50.63.200.0/22', '54.67.29.56': '54.67.0.0/17', '74.63.217.220': '74.63.192.0/18', '137.27.173.61': '137.27.128.0/18', '189.158.37.166': '189.158.36.0/22', '23.244.68.61': 'NA', '42.120.145.16': '42.120.128.0/17', '216.146.38.70': '216.146.38.0/24', '23.25.114.53': '23.24.0.0/15', '103.6.196.118': '103.6.196.0/22', '117.27.158.91': '117.27.158.0/24', '104.131.88.156': '104.131.64.0/18', '204.13.161.108': 'NA', '61.250.94.36': '61.250.64.0/18', '83.229.62.212': '83.229.62.0/24', '45.32.154.141': '45.32.152.0/21', '70.60.153.206': '70.60.144.0/20', '209.74.126.2': '209.74.112.0/20', '185.20.184.157': '185.20.184.0/23', '182.186.246.180': '182.186.128.0/17', '186.58.145.101': '186.58.128.0/17', '66.150.186.5': '66.150.176.0/20', '190.230.60.129': '190.230.0.0/15', '103.49.119.141': '103.49.116.0/22', '173.44.58.240': '173.44.48.0/20', '66.147.240.193': '66.147.240.0/20', '192.254.132.26': '192.254.128.0/18'}\n",
      "{'218.103.38.112': 'HK', '45.153.240.246': 'DE', '159.65.166.223': 'US', '24.97.129.36': 'US', '92.23.68.42': 'GB', '162.219.7.3': 'CA', '206.221.176.205': 'US', '112.101.64.87': 'CN', '142.93.253.45': 'US', '54.173.157.23': 'US', '31.170.160.229': 'CY', '74.121.191.200': 'US', '14.97.164.161': 'IN', '203.131.222.109': 'TH', '54.193.34.194': 'US', '89.190.196.99': 'BG', '122.54.25.66': 'PH', '31.177.36.232': 'NL', '67.205.153.40': 'US', '65.114.164.245': 'US', '176.189.30.63': 'FR', '47.19.68.248': 'US', '174.139.12.85': 'US', '107.180.51.235': 'US', '42.117.228.104': 'VN', '162.210.102.232': 'US', '176.10.100.229': 'CH', '63.128.163.30': 'US', '54.72.124.107': 'US', '192.241.149.43': 'US', '54.149.76.227': 'US', '195.32.89.29': 'IT', '149.200.183.84': 'JO', '62.116.143.11': 'DE', '190.141.30.43': 'PA', '62.171.161.55': 'DE', '40.82.174.37': 'US', '138.201.140.110': 'DE', '107.183.149.75': 'ES', '173.208.206.172': 'US', '149.28.14.163': 'US', '122.225.97.103': 'CN', '192.99.247.174': 'CA', '220.73.222.86': 'KR', '159.253.46.194': 'TR', '103.41.124.35': 'HK', '77.246.145.157': 'RU', '13.127.218.140': 'US', '54.187.236.253': 'US', '195.50.150.21': 'DE', '124.126.224.213': 'CN', '185.209.20.221': 'NL', '173.234.155.75': 'US', '96.9.209.177': 'US', '217.68.23.131': 'GB', '78.88.28.161': 'PL', '63.220.6.173': 'US', '222.82.253.110': 'CN', '88.119.171.68': 'LT', '64.34.216.104': 'CA', '185.48.58.51': 'SC', '192.186.246.134': 'US', '75.127.1.214': 'US', '213.136.73.122': 'DE', '106.51.183.114': 'IN', '217.172.226.2': 'PL', '176.121.14.208': 'UA', '118.99.37.87': 'HK', '5.223.250.8': 'IR', '44.234.20.79': 'US', '110.227.80.99': 'IN', '95.77.137.76': 'RO', '50.63.202.62': 'US', '54.67.29.56': 'US', '74.63.217.220': 'US', '137.27.173.61': 'US', '189.158.37.166': 'MX', '23.244.68.61': 'US', '42.120.145.16': 'CN', '216.146.38.70': 'US', '23.25.114.53': 'US', '103.6.196.118': 'MY', '117.27.158.91': 'CN', '104.131.88.156': 'US', '204.13.161.108': 'US', '61.250.94.36': 'KR', '83.229.62.212': 'BM', '45.32.154.141': 'US', '70.60.153.206': 'US', '209.74.126.2': 'US', '185.20.184.157': 'UA', '182.186.246.180': 'PK', '186.58.145.101': 'AR', '66.150.186.5': 'US', '190.230.60.129': 'AR', '103.49.119.141': 'IN', '173.44.58.240': 'US', '66.147.240.193': 'US', '192.254.132.26': 'US'}\n",
      "{'218.103.38.112': '2001-10-25', '45.153.240.246': '2019-09-16', '159.65.166.223': '2017-10-24', '24.97.129.36': '2001-09-26', '92.23.68.42': '2007-06-28', '162.219.7.3': '2013-08-07', '206.221.176.205': '2014-07-23', '112.101.64.87': '2009-01-12', '142.93.253.45': '2018-07-12', '54.173.157.23': '2014-10-23', '31.170.160.229': '2011-03-30', '74.121.191.200': '2010-01-25', '14.97.164.161': '2010-08-31', '203.131.222.109': '2006-03-27', '54.193.34.194': '2014-10-23', '89.190.196.99': '2006-06-12', '122.54.25.66': '2006-09-28', '31.177.36.232': '2011-08-05', '67.205.153.40': '2016-04-12', '65.114.164.245': '2001-01-04', '176.189.30.63': '2011-07-06', '47.19.68.248': '2012-02-29', '174.139.12.85': '2008-11-11', '107.180.51.235': '2014-02-11', '42.117.228.104': '2011-02-10', '162.210.102.232': '2013-04-23', '176.10.100.229': '2011-05-18', '63.128.163.30': '1999-11-30', '54.72.124.107': '2014-06-20', '192.241.149.43': '2013-06-10', '54.149.76.227': '2014-10-23', '195.32.89.29': '1996-04-11', '149.200.183.84': '2011-08-15', '62.116.143.11': '2000-06-29', '190.141.30.43': '2007-09-25', '62.171.161.55': '2000-08-18', '40.82.174.37': '2015-02-23', '138.201.140.110': '1990-05-23', '107.183.149.75': '2014-02-18', '173.208.206.172': '2009-12-17', '149.28.14.163': '2018-05-04', '122.225.97.103': '2006-11-16', '192.99.247.174': '2013-06-17', '220.73.222.86': '2002-08-29', '159.253.46.194': '2011-09-21', '103.41.124.35': '2014-10-21', '77.246.145.157': '2007-05-23', '13.127.218.140': '2016-08-09', '54.187.236.253': '2014-10-23', '195.50.150.21': '1996-11-01', '124.126.224.213': '2007-02-28', '185.209.20.221': '2017-06-19', '173.234.155.75': '2010-02-12', '96.9.209.177': '2015-03-10', '217.68.23.131': '2003-07-03', '78.88.28.161': '2007-06-12', '63.220.6.173': '1999-12-09', '222.82.253.110': '2003-10-27', '88.119.171.68': '2005-10-24', '64.34.216.104': '2004-07-15', '185.48.58.51': '2014-02-18', '192.186.246.134': '2013-08-02', '75.127.1.214': '2012-05-09', '213.136.73.122': '2000-02-28', '106.51.183.114': '2011-03-24', '217.172.226.2': '2001-07-18', '176.121.14.208': '2012-06-28', '118.99.37.87': '2009-10-23', '5.223.250.8': '2012-09-04', '44.234.20.79': '2019-07-18', '110.227.80.99': '2009-05-11', '95.77.137.76': '2008-12-08', '50.63.202.62': '2011-02-02', '54.67.29.56': '2014-06-20', '74.63.217.220': '2008-08-29', '137.27.173.61': '2017-06-20', '189.158.37.166': '2006-05-12', '23.244.68.61': '2020-12-30', '42.120.145.16': '2011-02-21', '216.146.38.70': '2008-07-16', '23.25.114.53': '2012-01-13', '103.6.196.118': '2012-03-06', '117.27.158.91': '2007-06-07', '104.131.88.156': '2014-06-02', '204.13.161.108': '2005-04-21', '61.250.94.36': '2001-03-21', '83.229.62.212': '2004-05-13', '45.32.154.141': '2015-02-17', '70.60.153.206': '2004-05-19', '209.74.126.2': '2010-10-06', '185.20.184.157': '2013-03-07', '182.186.246.180': '2010-04-12', '186.58.145.101': '2008-12-30', '66.150.186.5': '2001-07-13', '190.230.60.129': '2008-09-11', '103.49.119.141': '2015-02-03', '173.44.58.240': '2010-01-11', '66.147.240.193': '2008-05-05', '192.254.132.26': '2013-06-11'}\n"
     ]
    }
   ],
   "source": [
    "count = 0\n",
    "\n",
    "for element in ip_list:\n",
    "    try:\n",
    "        query = IPWhois(str(element))\n",
    "        asn_results = query.lookup_rdap(depth=7, rate_limit_timeout=120)\n",
    "        asn_registry = asn_results.get('asn_registry')\n",
    "        asn = asn_results.get('asn')\n",
    "        asn_cidr = asn_results.get('asn_cidr')\n",
    "        asn_country_code = asn_results.get('asn_country_code')\n",
    "        asn_date = asn_results.get('asn_date')\n",
    "\n",
    "        def_dict_asn_registry[element] = asn_registry\n",
    "        def_dict_asn[element] = asn\n",
    "        def_dict_asn_cidr[element] = asn_cidr\n",
    "        def_dict_asn_country_code[element] = asn_country_code\n",
    "        def_dict_asn_date[element] = asn_date\n",
    "        count += 1\n",
    "        print(count)\n",
    "    except:\n",
    "        continue\n",
    "\n",
    "ip_asn_registry_dict = dict(def_dict_asn_registry)\n",
    "ip_asn_dict = dict(def_dict_asn)\n",
    "ip_asn_cidr_dict = dict(def_dict_asn_cidr)\n",
    "ip_asn_country_code_dict = dict(def_dict_asn_country_code)\n",
    "ip_asn_date_dict = dict(def_dict_asn_date)\n",
    "\n",
    "print(ip_asn_registry_dict)\n",
    "print(ip_asn_dict)\n",
    "print(ip_asn_cidr_dict)\n",
    "print(ip_asn_country_code_dict)\n",
    "print(ip_asn_date_dict)"
   ]
  },
  {
   "cell_type": "markdown",
   "metadata": {
    "pycharm": {
     "is_executing": true
    }
   },
   "source": [
    "## Dictionaries zusammenführen"
   ]
  },
  {
   "cell_type": "code",
   "execution_count": 19,
   "metadata": {
    "pycharm": {
     "is_executing": true
    }
   },
   "outputs": [
    {
     "name": "stdout",
     "output_type": "stream",
     "text": [
      "{'218.103.38.112': 'netvigator', '24.97.129.36': 'rr', '92.23.68.42': 'as13285', '54.173.157.23': 'amazonaws', '14.97.164.161': '14-tataidc', '54.193.34.194': 'amazonaws', '89.190.196.99': 'megalan', '122.54.25.66': 'pldt', '65.114.164.245': 'qwest', '176.189.30.63': 'bbox', '174.139.12.85': 'krypt', '107.180.51.235': 'secureserver', '176.10.100.229': 'alpeinsoft', '54.72.124.107': 'amazonaws', '54.149.76.227': 'amazonaws', '195.32.89.29': 'wadsl', '62.171.161.55': 'b2bounty', '138.201.140.110': 'your-server', '107.183.149.75': 'orange', '173.208.206.172': 'spunequable', '149.28.14.163': 'vultr', '122.225.97.103': 'fund123', '192.99.247.174': 'ovh', '77.246.145.157': 'example', '13.127.218.140': 'amazonaws', '54.187.236.253': 'amazonaws', '124.126.224.213': 'bjtelecom', '185.209.20.221': 'had', '217.68.23.131': 'freestart', '78.88.28.161': 'vectranet', '88.119.171.68': 'bacloud', '64.34.216.104': 'indservers', '192.186.246.134': 'secureserver', '75.127.1.214': 'colocrossing', '213.136.73.122': 'fairplayhost', '106.51.183.114': 'actcorp', '217.172.226.2': 'mm', '44.234.20.79': 'amazonaws', '50.63.202.62': 'secureserver', '54.67.29.56': 'amazonaws', '74.63.217.220': 'lstn', '137.27.173.61': 'spectrum', '189.158.37.166': 'prod-infinitum', '23.244.68.61': 'scalabledns', '216.146.38.70': 'dyndns', '23.25.114.53': 'comcastbusiness', '103.6.196.118': 'mschosting', '45.32.154.141': 'geekme', '70.60.153.206': 'rr', '209.74.126.2': 'mei', '185.20.184.157': 'deltahost-ptr', '186.58.145.101': 'speedy', '66.150.186.5': 'sitespect', '190.230.60.129': 'telecom', '173.44.58.240': 'emailalerts', '66.147.240.193': 'hostmonster', '192.254.132.26': 'pstcmedia'}\n"
     ]
    }
   ],
   "source": [
    "print(ip_domain_dict)"
   ]
  },
  {
   "cell_type": "code",
   "execution_count": 20,
   "metadata": {
    "pycharm": {
     "is_executing": true
    }
   },
   "outputs": [
    {
     "name": "stdout",
     "output_type": "stream",
     "text": [
      "{'31.170.160.229': ['31.170.160.229'], '107.180.51.235': ['107.180.51.235', '107.180.51.235', 'ns24.domaincontrol.com', 'ns23.domaincontrol.com'], '162.210.102.232': ['162.210.102.232', 'ns8.hoststage.net', '178.33.228.42', 'ns7.hoststage.net', '162.210.102.232', '162.210.102.232', 'dns2.freehostia.com', 'dns1.freehostia.com', '162.210.102.232'], '159.253.46.194': ['159.253.46.194'], '217.68.23.131': ['217.68.23.131', '217.68.23.131', '217.68.23.131'], '64.34.216.104': ['64.34.216.104', 'ns12.indservers.co.in', 'ns11.indservers.co.in', '64.34.216.104', 'ns01.indservers.co.in', '64.34.216.104', 'ns02.indservers.co.in', '64.34.216.104'], '213.136.73.122': ['213.136.73.122', '2a02:c207:2009:742::1'], '217.172.226.2': ['217.172.226.2', '217.172.226.2', '217.172.226.2', '217.172.226.6', 'ns1.mpsz.pl', 'dns1.mm.pl'], '50.63.202.62': ['ns100.rookdns.com', '141.8.224.239', 'ns99.rookdns.com', '50.63.202.62', 'ns51.domaincontrol.com', 'ns52.domaincontrol.com', 'ns01.domaincontrol.com', '50.63.202.62', 'ns02.domaincontrol.com', 'ns78.domaincontrol.com', 'ns77.domaincontrol.com', '50.63.202.62', 'ns4.pcdg.co', 'ns1.pcdg.co', 'ns3.pcdg.co', 'ns2.pcdg.co', '50.63.202.62', '72.44.89.125', 'ns54.domaincontrol.com', 'ns53.domaincontrol.com', '50.63.202.62', 'ns16.domaincontrol.com', 'ns15.domaincontrol.com', '50.63.202.62', '50.63.202.62', 'ns58.domaincontrol.com', 'ns57.domaincontrol.com', 'ns31.domaincontrol.com', 'ns32.domaincontrol.com', '50.63.202.62', 'ns64.domaincontrol.com', 'ns63.domaincontrol.com', '50.63.202.62', '216.239.36.21', '216.239.32.21', '216.239.34.21', '184.168.221.49', '216.239.38.21', '50.63.202.23', '50.63.202.62', 'ns8.rookdns.com', '141.8.224.93', 'ns7.rookdns.com', '50.63.202.62', 'ns4.secureserver.net', 'ns3.secureserver.net', '103.224.182.243', 'ns1.above.com', 'ns2.above.com', '50.63.202.62', 'ns47.domaincontrol.com', 'ns48.domaincontrol.com', 'ns75.domaincontrol.com', '50.63.202.62', 'ns76.domaincontrol.com', 'ns48.domaincontrol.com', 'ns47.domaincontrol.com', '50.63.202.62', '50.63.202.36', 'ns43.domaincontrol.com', 'ns44.domaincontrol.com', '50.63.202.62', '50.63.202.62', 'ns48.domaincontrol.com', 'ns47.domaincontrol.com', 'ns04.domaincontrol.com', '50.63.202.62', 'ns03.domaincontrol.com', '50.63.202.62', 'ns56.domaincontrol.com', 'ns55.domaincontrol.com', 'ns28.domaincontrol.com', 'ns27.domaincontrol.com', '50.63.202.62', '50.63.202.62', 'ns61.domaincontrol.com', '184.168.221.35', 'ns62.domaincontrol.com', 'ns44.domaincontrol.com', 'ns43.domaincontrol.com', '50.63.202.62', '50.63.202.41', '50.63.202.62', '184.168.221.45', 'ns78.domaincontrol.com', 'ns77.domaincontrol.com', '184.168.221.48', '50.63.202.62', '50.63.202.35', '50.63.202.63', '50.63.202.62', 'ns77.domaincontrol.com', 'ns78.domaincontrol.com', '45.77.100.168', 'george.ns.cloudflare.com', 'ruth.ns.cloudflare.com', '185.117.74.51', '50.63.202.37', '184.168.221.52', '50.63.202.43', '50.63.202.51', '184.168.221.35', '184.168.221.44', '184.168.221.42', '184.168.221.39', '184.168.221.42', '50.63.202.50', 'bing1.lossproject.us', 'bing2.lossproject.us', '50.63.202.62', '50.63.202.34', '184.168.221.48', '50.63.202.48', '184.168.221.60', 'ns11.domaincontrol.com', 'ns12.domaincontrol.com', '184.168.221.56', 'ns53.domaincontrol.com', 'ns54.domaincontrol.com', '184.168.221.50', '50.63.202.46', '50.63.202.62', '50.63.202.57', '184.168.221.38', '50.63.202.43', '184.168.221.60', '50.63.202.62', '50.63.202.56', '184.168.221.52', '50.63.202.50', 'ns07.domaincontrol.com', 'ns08.domaincontrol.com', 'ns59.domaincontrol.com', '50.63.202.62', 'ns60.domaincontrol.com', '184.168.221.63', 'a5-65.akam.net', 'a1-84.akam.net', 'a7-67.akam.net', 'a20-64.akam.net', '50.63.202.62', 'ns23.domaincontrol.com', '50.63.202.62', 'ns24.domaincontrol.com', '50.63.202.32', '184.168.221.63', '50.63.202.62', 'ns58.domaincontrol.com', 'ns57.domaincontrol.com', '184.168.221.62', '184.168.221.59', '184.168.221.45', '50.63.202.34', '50.63.202.35', '184.168.221.59', '50.63.202.43', '50.63.202.60', '50.63.202.62', 'ns39.domaincontrol.com', '50.63.202.62', 'ns40.domaincontrol.com', '132.148.22.67', '184.168.221.59', '184.168.221.36', '184.168.221.32', '184.168.221.38', '50.63.202.45', '184.168.221.60', '50.63.202.36', '184.168.221.55', '50.63.202.56', '50.63.202.36', '50.63.202.62', 'ns38.domaincontrol.com', '184.168.221.61', 'ns37.domaincontrol.com', '50.63.202.47', '184.168.221.57', '184.168.221.63', '50.63.202.44', '50.63.202.38', '50.63.202.53', '184.168.221.53', '50.63.202.58', '184.168.221.46', '184.168.221.34', 'pdns13.domaincontrol.com', 'pdns14.domaincontrol.com', '184.168.221.35', 'ns38.domaincontrol.com', '184.168.221.37', 'ns37.domaincontrol.com', 'ns-440.awsdns-55.com', '50.63.202.62', 'ns-1001.awsdns-61.net', 'ns-1035.awsdns-01.org', 'ns-1891.awsdns-44.co.uk', '50.63.202.51', '50.63.202.53', 'ns38.domaincontrol.com', 'ns37.domaincontrol.com', '184.168.221.58', 'ns23.domaincontrol.com', 'ns24.domaincontrol.com'], '23.244.68.61': ['23.244.68.61', 'dns14.hichina.com', 'dns13.hichina.com'], '216.146.38.70': ['208.78.69.70', '216.146.39.70', '216.146.39.70', '216.146.39.70', '216.146.39.70', '216.146.39.70', '216.146.39.70', '216.146.39.70', '216.146.39.70', '162.88.100.203', '162.88.100.201', '162.88.100.202', '91.198.22.70', '91.198.22.70', '91.198.22.70', '91.198.22.70', '91.198.22.70', '91.198.22.70', '91.198.22.70', '91.198.22.70', '131.186.113.136', '131.186.113.135', '216.146.38.70', '216.146.38.70', '216.146.38.70', '216.146.38.70', '216.146.38.70', '216.146.38.70', '216.146.38.70', '162.88.96.194', '216.146.43.70', '216.146.43.71', '216.146.38.70', '162.88.100.200'], '103.6.196.118': ['103.6.196.118', 'ns101.mschosting.com', 'ns102.mschosting.com', '103.6.196.118', 'ns101.mschosting.com', 'ns102.mschosting.com', 'ns111.mschosting.com', '103.6.196.118', 'ns112.mschosting.com'], '204.13.161.108': ['204.13.161.108', '204.13.161.108', '141.8.230.101'], '66.147.240.193': ['ns2.hostmonster.com', 'ns1.hostmonster.com', '66.147.240.193', '66.147.240.193', '66.147.240.193', '66.147.240.193', '74.220.207.92', 'ns1.hostmonster.com', 'ns2.hostmonster.com', '66.147.240.193', 'ns2.hostmonster.com', 'ns1.hostmonster.com', '66.147.240.193', 'ns1.hostmonster.com', '66.147.240.193', 'ns2.hostmonster.com', 'ns1.hostmonster.com', 'ns2.hostmonster.com', '66.147.240.193', '66.147.240.193', 'ns2.hostmonster.com', 'ns1.hostmonster.com', '66.147.240.193', 'ns1.hostmonster.com', 'ns2.hostmonster.com', 'ns1.hostmonster.com', 'ns2.hostmonster.com', '66.147.240.193', '66.147.240.193', 'ns1.hostmonster.com', 'ns2.hostmonster.com', 'ns2.hostmonster.com', 'ns1.hostmonster.com', '66.147.240.193', 'vinca.applicationx.net', 'gavin.applicationx.net', '66.147.240.193', 'ns2.hostmonster.com', 'ns1.hostmonster.com', '66.147.240.193', 'ns1.hostmonster.com', '66.147.240.193', 'ns2.hostmonster.com', '66.147.240.193', 'ns1.hostmonster.com', 'ns2.hostmonster.com', '66.147.240.193', 'ns2.hostmonster.com', 'ns1.hostmonster.com', '66.147.240.193', '66.147.240.193', '66.147.240.193', 'ns1.hostmonster.com', 'ns2.hostmonster.com', '66.147.240.193', 'ns1.hostmonster.com', 'ns2.hostmonster.com', 'ns1.hostmonster.com', '66.147.240.193', 'ns2.hostmonster.com', 'ns1.hostmonster.com', 'ns2.hostmonster.com', '66.147.240.193', 'ns2.hostmonster.com', '66.147.240.193', 'ns1.hostmonster.com', '66.147.240.193', 'ns1.hostmonster.com', 'ns2.hostmonster.com', 'ns2.dnsowl.com', 'ns3.dnsowl.com', 'ns1.dnsowl.com', '66.147.240.193', '66.147.240.193', '66.147.240.193', '66.147.240.193', 'ns1.hostmonster.com', 'ns2.hostmonster.com', 'ns2.hostmonster.com', 'ns1.hostmonster.com', '107.154.155.193', '107.154.162.193', 'ns1.hostmonster.com', 'ns2.hostmonster.com', '66.147.240.193']}\n"
     ]
    }
   ],
   "source": [
    "print(ip_pdns_dict)"
   ]
  },
  {
   "cell_type": "code",
   "execution_count": 21,
   "metadata": {
    "pycharm": {
     "is_executing": true
    }
   },
   "outputs": [
    {
     "name": "stdout",
     "output_type": "stream",
     "text": [
      "{'218.103.38.112': 'apnic', '45.153.240.246': 'ripencc', '159.65.166.223': 'arin', '24.97.129.36': 'arin', '92.23.68.42': 'ripencc', '162.219.7.3': 'arin', '206.221.176.205': 'arin', '112.101.64.87': 'apnic', '142.93.253.45': 'arin', '54.173.157.23': 'arin', '31.170.160.229': 'ripencc', '74.121.191.200': 'arin', '14.97.164.161': 'apnic', '203.131.222.109': 'apnic', '54.193.34.194': 'arin', '89.190.196.99': 'ripencc', '122.54.25.66': 'apnic', '31.177.36.232': 'ripencc', '67.205.153.40': 'arin', '65.114.164.245': 'arin', '176.189.30.63': 'ripencc', '47.19.68.248': 'arin', '174.139.12.85': 'arin', '107.180.51.235': 'arin', '42.117.228.104': 'apnic', '162.210.102.232': 'arin', '176.10.100.229': 'ripencc', '63.128.163.30': 'arin', '54.72.124.107': 'arin', '192.241.149.43': 'arin', '54.149.76.227': 'arin', '195.32.89.29': 'ripencc', '149.200.183.84': 'ripencc', '62.116.143.11': 'ripencc', '190.141.30.43': 'lacnic', '62.171.161.55': 'ripencc', '40.82.174.37': 'arin', '138.201.140.110': 'ripencc', '107.183.149.75': 'ripencc', '173.208.206.172': 'arin', '149.28.14.163': 'arin', '122.225.97.103': 'apnic', '192.99.247.174': 'arin', '220.73.222.86': 'apnic', '159.253.46.194': 'ripencc', '103.41.124.35': 'apnic', '77.246.145.157': 'ripencc', '13.127.218.140': 'arin', '54.187.236.253': 'arin', '195.50.150.21': 'ripencc', '124.126.224.213': 'apnic', '185.209.20.221': 'ripencc', '173.234.155.75': 'arin', '96.9.209.177': 'arin', '217.68.23.131': 'ripencc', '78.88.28.161': 'ripencc', '63.220.6.173': 'arin', '222.82.253.110': 'apnic', '88.119.171.68': 'ripencc', '64.34.216.104': 'arin', '185.48.58.51': 'ripencc', '192.186.246.134': 'arin', '75.127.1.214': 'arin', '213.136.73.122': 'ripencc', '106.51.183.114': 'apnic', '217.172.226.2': 'ripencc', '176.121.14.208': 'ripencc', '118.99.37.87': 'apnic', '5.223.250.8': 'ripencc', '44.234.20.79': 'arin', '110.227.80.99': 'apnic', '95.77.137.76': 'ripencc', '50.63.202.62': 'arin', '54.67.29.56': 'arin', '74.63.217.220': 'arin', '137.27.173.61': 'arin', '189.158.37.166': 'lacnic', '23.244.68.61': 'arin', '42.120.145.16': 'apnic', '216.146.38.70': 'arin', '23.25.114.53': 'arin', '103.6.196.118': 'apnic', '117.27.158.91': 'apnic', '104.131.88.156': 'arin', '204.13.161.108': 'arin', '61.250.94.36': 'apnic', '83.229.62.212': 'ripencc', '45.32.154.141': 'arin', '70.60.153.206': 'arin', '209.74.126.2': 'arin', '185.20.184.157': 'ripencc', '182.186.246.180': 'apnic', '186.58.145.101': 'lacnic', '66.150.186.5': 'arin', '190.230.60.129': 'lacnic', '103.49.119.141': 'apnic', '173.44.58.240': 'arin', '66.147.240.193': 'arin', '192.254.132.26': 'arin'}\n"
     ]
    }
   ],
   "source": [
    "print(ip_asn_registry_dict)"
   ]
  },
  {
   "cell_type": "code",
   "execution_count": 22,
   "metadata": {
    "pycharm": {
     "is_executing": true
    }
   },
   "outputs": [
    {
     "name": "stdout",
     "output_type": "stream",
     "text": [
      "{'218.103.38.112': '4760', '45.153.240.246': '30823', '159.65.166.223': '14061', '24.97.129.36': '11351', '92.23.68.42': '13285', '162.219.7.3': '55053', '206.221.176.205': '23470', '112.101.64.87': '17897', '142.93.253.45': '14061', '54.173.157.23': '14618', '31.170.160.229': '47583', '74.121.191.200': '27323', '14.97.164.161': 'NA', '203.131.222.109': '37992', '54.193.34.194': '16509', '89.190.196.99': '35141', '122.54.25.66': '9299', '31.177.36.232': '197985', '67.205.153.40': '14061', '65.114.164.245': '209', '176.189.30.63': '5410', '47.19.68.248': '6128', '174.139.12.85': '35908', '107.180.51.235': '26496', '42.117.228.104': '18403', '162.210.102.232': '32748', '176.10.100.229': '51395', '63.128.163.30': '3561', '54.72.124.107': '16509', '192.241.149.43': '14061', '54.149.76.227': '16509', '195.32.89.29': '21034', '149.200.183.84': '8376', '62.116.143.11': '15456', '190.141.30.43': '18809', '62.171.161.55': '51167', '40.82.174.37': '8075', '138.201.140.110': '24940', '107.183.149.75': '12479', '173.208.206.172': '32097', '149.28.14.163': '20473', '122.225.97.103': '4134', '192.99.247.174': '16276', '220.73.222.86': '4766', '159.253.46.194': '51559', '103.41.124.35': 'NA', '77.246.145.157': '29182', '13.127.218.140': '16509', '54.187.236.253': '16509', '195.50.150.21': '3209', '124.126.224.213': '4847', '185.209.20.221': '204601', '173.234.155.75': '396362', '96.9.209.177': '46844', '217.68.23.131': '15830', '78.88.28.161': '29314', '63.220.6.173': '38186', '222.82.253.110': '4134', '88.119.171.68': '61272', '64.34.216.104': '13768', '185.48.58.51': '62241', '192.186.246.134': '398101', '75.127.1.214': '36352', '213.136.73.122': '51167', '106.51.183.114': '131269', '217.172.226.2': '21021', '176.121.14.208': '210138', '118.99.37.87': 'NA', '5.223.250.8': 'NA', '44.234.20.79': '16509', '110.227.80.99': '24560', '95.77.137.76': '12302', '50.63.202.62': '26496', '54.67.29.56': '16509', '74.63.217.220': '46475', '137.27.173.61': '20115', '189.158.37.166': '8151', '23.244.68.61': 'NA', '42.120.145.16': '37963', '216.146.38.70': '33517', '23.25.114.53': '7922', '103.6.196.118': '46015', '117.27.158.91': '133774', '104.131.88.156': '14061', '204.13.161.108': 'NA', '61.250.94.36': '9848', '83.229.62.212': '8513', '45.32.154.141': '20473', '70.60.153.206': '10796', '209.74.126.2': '54373', '185.20.184.157': '42159', '182.186.246.180': '17557', '186.58.145.101': '22927', '66.150.186.5': '10912', '190.230.60.129': '7303', '103.49.119.141': '134341', '173.44.58.240': '8100', '66.147.240.193': '46606', '192.254.132.26': '46606'}\n"
     ]
    }
   ],
   "source": [
    "print(ip_asn_dict)"
   ]
  },
  {
   "cell_type": "code",
   "execution_count": 23,
   "metadata": {
    "pycharm": {
     "is_executing": true
    }
   },
   "outputs": [
    {
     "name": "stdout",
     "output_type": "stream",
     "text": [
      "{'218.103.38.112': '218.103.32.0/19', '45.153.240.246': '45.153.240.0/22', '159.65.166.223': '159.65.160.0/20', '24.97.129.36': '24.97.0.0/16', '92.23.68.42': '92.22.0.0/15', '162.219.7.3': '162.219.0.0/21', '206.221.176.205': '206.221.176.0/24', '112.101.64.87': '112.100.0.0/15', '142.93.253.45': '142.93.240.0/20', '54.173.157.23': '54.172.0.0/15', '31.170.160.229': '31.170.160.0/22', '74.121.191.200': '74.121.191.0/24', '14.97.164.161': 'NA', '203.131.222.109': '203.131.222.0/23', '54.193.34.194': '54.193.0.0/17', '89.190.196.99': '89.190.192.0/19', '122.54.25.66': '122.54.0.0/19', '31.177.36.232': '31.177.32.0/21', '67.205.153.40': '67.205.144.0/20', '65.114.164.245': '65.112.0.0/12', '176.189.30.63': '176.128.0.0/10', '47.19.68.248': '47.16.0.0/14', '174.139.12.85': '174.139.12.0/24', '107.180.51.235': '107.180.0.0/18', '42.117.228.104': '42.117.228.0/22', '162.210.102.232': '162.210.102.0/24', '176.10.100.229': '176.10.96.0/19', '63.128.163.30': '63.128.128.0/18', '54.72.124.107': '54.72.0.0/16', '192.241.149.43': '192.241.128.0/19', '54.149.76.227': '54.148.0.0/15', '195.32.89.29': '195.32.88.0/22', '149.200.183.84': '149.200.183.0/24', '62.116.143.11': '62.116.128.0/19', '190.141.30.43': '190.141.30.0/24', '62.171.161.55': '62.171.160.0/23', '40.82.174.37': '40.80.0.0/12', '138.201.140.110': '138.201.0.0/16', '107.183.149.75': '107.183.128.0/17', '173.208.206.172': '173.208.128.0/17', '149.28.14.163': '149.28.8.0/21', '122.225.97.103': '122.224.0.0/12', '192.99.247.174': '192.99.0.0/16', '220.73.222.86': '220.72.0.0/13', '159.253.46.194': '159.253.46.0/24', '103.41.124.35': 'NA', '77.246.145.157': '77.246.144.0/21', '13.127.218.140': '13.126.0.0/15', '54.187.236.253': '54.186.0.0/15', '195.50.150.21': '195.50.128.0/18', '124.126.224.213': '124.126.0.0/16', '185.209.20.221': '185.209.20.0/24', '173.234.155.75': '173.234.152.0/22', '96.9.209.177': '96.9.208.0/23', '217.68.23.131': '217.68.20.0/22', '78.88.28.161': '78.88.28.0/22', '63.220.6.173': '63.220.6.0/24', '222.82.253.110': '222.82.0.0/16', '88.119.171.68': '88.119.171.0/24', '64.34.216.104': '64.34.216.0/22', '185.48.58.51': '185.48.56.0/22', '192.186.246.134': '192.186.244.0/22', '75.127.1.214': '75.127.1.0/24', '213.136.73.122': '213.136.72.0/23', '106.51.183.114': '106.51.176.0/20', '217.172.226.2': '217.172.224.0/19', '176.121.14.208': '176.121.14.0/24', '118.99.37.87': 'NA', '5.223.250.8': 'NA', '44.234.20.79': '44.224.0.0/11', '110.227.80.99': '110.227.64.0/19', '95.77.137.76': '95.77.0.0/16', '50.63.202.62': '50.63.200.0/22', '54.67.29.56': '54.67.0.0/17', '74.63.217.220': '74.63.192.0/18', '137.27.173.61': '137.27.128.0/18', '189.158.37.166': '189.158.36.0/22', '23.244.68.61': 'NA', '42.120.145.16': '42.120.128.0/17', '216.146.38.70': '216.146.38.0/24', '23.25.114.53': '23.24.0.0/15', '103.6.196.118': '103.6.196.0/22', '117.27.158.91': '117.27.158.0/24', '104.131.88.156': '104.131.64.0/18', '204.13.161.108': 'NA', '61.250.94.36': '61.250.64.0/18', '83.229.62.212': '83.229.62.0/24', '45.32.154.141': '45.32.152.0/21', '70.60.153.206': '70.60.144.0/20', '209.74.126.2': '209.74.112.0/20', '185.20.184.157': '185.20.184.0/23', '182.186.246.180': '182.186.128.0/17', '186.58.145.101': '186.58.128.0/17', '66.150.186.5': '66.150.176.0/20', '190.230.60.129': '190.230.0.0/15', '103.49.119.141': '103.49.116.0/22', '173.44.58.240': '173.44.48.0/20', '66.147.240.193': '66.147.240.0/20', '192.254.132.26': '192.254.128.0/18'}\n"
     ]
    }
   ],
   "source": [
    "print(ip_asn_cidr_dict)"
   ]
  },
  {
   "cell_type": "code",
   "execution_count": 24,
   "metadata": {
    "pycharm": {
     "is_executing": true
    }
   },
   "outputs": [
    {
     "name": "stdout",
     "output_type": "stream",
     "text": [
      "{'218.103.38.112': 'HK', '45.153.240.246': 'DE', '159.65.166.223': 'US', '24.97.129.36': 'US', '92.23.68.42': 'GB', '162.219.7.3': 'CA', '206.221.176.205': 'US', '112.101.64.87': 'CN', '142.93.253.45': 'US', '54.173.157.23': 'US', '31.170.160.229': 'CY', '74.121.191.200': 'US', '14.97.164.161': 'IN', '203.131.222.109': 'TH', '54.193.34.194': 'US', '89.190.196.99': 'BG', '122.54.25.66': 'PH', '31.177.36.232': 'NL', '67.205.153.40': 'US', '65.114.164.245': 'US', '176.189.30.63': 'FR', '47.19.68.248': 'US', '174.139.12.85': 'US', '107.180.51.235': 'US', '42.117.228.104': 'VN', '162.210.102.232': 'US', '176.10.100.229': 'CH', '63.128.163.30': 'US', '54.72.124.107': 'US', '192.241.149.43': 'US', '54.149.76.227': 'US', '195.32.89.29': 'IT', '149.200.183.84': 'JO', '62.116.143.11': 'DE', '190.141.30.43': 'PA', '62.171.161.55': 'DE', '40.82.174.37': 'US', '138.201.140.110': 'DE', '107.183.149.75': 'ES', '173.208.206.172': 'US', '149.28.14.163': 'US', '122.225.97.103': 'CN', '192.99.247.174': 'CA', '220.73.222.86': 'KR', '159.253.46.194': 'TR', '103.41.124.35': 'HK', '77.246.145.157': 'RU', '13.127.218.140': 'US', '54.187.236.253': 'US', '195.50.150.21': 'DE', '124.126.224.213': 'CN', '185.209.20.221': 'NL', '173.234.155.75': 'US', '96.9.209.177': 'US', '217.68.23.131': 'GB', '78.88.28.161': 'PL', '63.220.6.173': 'US', '222.82.253.110': 'CN', '88.119.171.68': 'LT', '64.34.216.104': 'CA', '185.48.58.51': 'SC', '192.186.246.134': 'US', '75.127.1.214': 'US', '213.136.73.122': 'DE', '106.51.183.114': 'IN', '217.172.226.2': 'PL', '176.121.14.208': 'UA', '118.99.37.87': 'HK', '5.223.250.8': 'IR', '44.234.20.79': 'US', '110.227.80.99': 'IN', '95.77.137.76': 'RO', '50.63.202.62': 'US', '54.67.29.56': 'US', '74.63.217.220': 'US', '137.27.173.61': 'US', '189.158.37.166': 'MX', '23.244.68.61': 'US', '42.120.145.16': 'CN', '216.146.38.70': 'US', '23.25.114.53': 'US', '103.6.196.118': 'MY', '117.27.158.91': 'CN', '104.131.88.156': 'US', '204.13.161.108': 'US', '61.250.94.36': 'KR', '83.229.62.212': 'BM', '45.32.154.141': 'US', '70.60.153.206': 'US', '209.74.126.2': 'US', '185.20.184.157': 'UA', '182.186.246.180': 'PK', '186.58.145.101': 'AR', '66.150.186.5': 'US', '190.230.60.129': 'AR', '103.49.119.141': 'IN', '173.44.58.240': 'US', '66.147.240.193': 'US', '192.254.132.26': 'US'}\n"
     ]
    }
   ],
   "source": [
    "print(ip_asn_country_code_dict)"
   ]
  },
  {
   "cell_type": "markdown",
   "metadata": {},
   "source": [
    "### Erstellung eines neuen Dataframes aus den Dictionaries"
   ]
  },
  {
   "cell_type": "code",
   "execution_count": 25,
   "metadata": {
    "pycharm": {
     "is_executing": true
    }
   },
   "outputs": [
    {
     "data": {
      "text/html": [
       "<div>\n",
       "<style scoped>\n",
       "    .dataframe tbody tr th:only-of-type {\n",
       "        vertical-align: middle;\n",
       "    }\n",
       "\n",
       "    .dataframe tbody tr th {\n",
       "        vertical-align: top;\n",
       "    }\n",
       "\n",
       "    .dataframe thead th {\n",
       "        text-align: right;\n",
       "    }\n",
       "</style>\n",
       "<table border=\"1\" class=\"dataframe\">\n",
       "  <thead>\n",
       "    <tr style=\"text-align: right;\">\n",
       "      <th></th>\n",
       "      <th>domain</th>\n",
       "      <th>asn_registry</th>\n",
       "      <th>asn</th>\n",
       "      <th>asn_cidr</th>\n",
       "      <th>country_code</th>\n",
       "      <th>pdns</th>\n",
       "    </tr>\n",
       "  </thead>\n",
       "  <tbody>\n",
       "    <tr>\n",
       "      <th>103.41.124.35</th>\n",
       "      <td>NaN</td>\n",
       "      <td>apnic</td>\n",
       "      <td>NA</td>\n",
       "      <td>NA</td>\n",
       "      <td>HK</td>\n",
       "      <td>NaN</td>\n",
       "    </tr>\n",
       "    <tr>\n",
       "      <th>103.49.119.141</th>\n",
       "      <td>NaN</td>\n",
       "      <td>apnic</td>\n",
       "      <td>134341</td>\n",
       "      <td>103.49.116.0/22</td>\n",
       "      <td>IN</td>\n",
       "      <td>NaN</td>\n",
       "    </tr>\n",
       "    <tr>\n",
       "      <th>103.6.196.118</th>\n",
       "      <td>mschosting</td>\n",
       "      <td>apnic</td>\n",
       "      <td>46015</td>\n",
       "      <td>103.6.196.0/22</td>\n",
       "      <td>MY</td>\n",
       "      <td>[103.6.196.118, ns101.mschosting.com, ns102.ms...</td>\n",
       "    </tr>\n",
       "    <tr>\n",
       "      <th>104.131.88.156</th>\n",
       "      <td>NaN</td>\n",
       "      <td>arin</td>\n",
       "      <td>14061</td>\n",
       "      <td>104.131.64.0/18</td>\n",
       "      <td>US</td>\n",
       "      <td>NaN</td>\n",
       "    </tr>\n",
       "    <tr>\n",
       "      <th>106.51.183.114</th>\n",
       "      <td>actcorp</td>\n",
       "      <td>apnic</td>\n",
       "      <td>131269</td>\n",
       "      <td>106.51.176.0/20</td>\n",
       "      <td>IN</td>\n",
       "      <td>NaN</td>\n",
       "    </tr>\n",
       "  </tbody>\n",
       "</table>\n",
       "</div>"
      ],
      "text/plain": [
       "                    domain asn_registry     asn         asn_cidr country_code  \\\n",
       "103.41.124.35          NaN        apnic      NA               NA           HK   \n",
       "103.49.119.141         NaN        apnic  134341  103.49.116.0/22           IN   \n",
       "103.6.196.118   mschosting        apnic   46015   103.6.196.0/22           MY   \n",
       "104.131.88.156         NaN         arin   14061  104.131.64.0/18           US   \n",
       "106.51.183.114     actcorp        apnic  131269  106.51.176.0/20           IN   \n",
       "\n",
       "                                                             pdns  \n",
       "103.41.124.35                                                 NaN  \n",
       "103.49.119.141                                                NaN  \n",
       "103.6.196.118   [103.6.196.118, ns101.mschosting.com, ns102.ms...  \n",
       "104.131.88.156                                                NaN  \n",
       "106.51.183.114                                                NaN  "
      ]
     },
     "execution_count": 25,
     "metadata": {},
     "output_type": "execute_result"
    }
   ],
   "source": [
    "ip_df = pd.DataFrame({'domain':pd.Series(ip_domain_dict),\n",
    "                       'asn_registry':pd.Series(ip_asn_registry_dict), \n",
    "                       'asn':pd.Series(ip_asn_dict), \n",
    "                       'asn_cidr':pd.Series(ip_asn_cidr_dict), \n",
    "                       'country_code':pd.Series(ip_asn_country_code_dict), \n",
    "                       'pdns':pd.Series(ip_pdns_dict)})\n",
    "ip_df.head()"
   ]
  },
  {
   "cell_type": "markdown",
   "metadata": {},
   "source": [
    "### NaN Werte rausfiltern"
   ]
  },
  {
   "cell_type": "code",
   "execution_count": 26,
   "metadata": {
    "pycharm": {
     "is_executing": true
    }
   },
   "outputs": [],
   "source": [
    "filtered_df = ip_df[ip_df[['domain', 'asn_registry', 'asn', 'asn_cidr', 'country_code']].notnull().all(1)]"
   ]
  },
  {
   "cell_type": "code",
   "execution_count": 27,
   "metadata": {
    "pycharm": {
     "is_executing": true
    }
   },
   "outputs": [
    {
     "data": {
      "text/html": [
       "<div>\n",
       "<style scoped>\n",
       "    .dataframe tbody tr th:only-of-type {\n",
       "        vertical-align: middle;\n",
       "    }\n",
       "\n",
       "    .dataframe tbody tr th {\n",
       "        vertical-align: top;\n",
       "    }\n",
       "\n",
       "    .dataframe thead th {\n",
       "        text-align: right;\n",
       "    }\n",
       "</style>\n",
       "<table border=\"1\" class=\"dataframe\">\n",
       "  <thead>\n",
       "    <tr style=\"text-align: right;\">\n",
       "      <th></th>\n",
       "      <th>domain</th>\n",
       "      <th>asn_registry</th>\n",
       "      <th>asn</th>\n",
       "      <th>asn_cidr</th>\n",
       "      <th>country_code</th>\n",
       "      <th>pdns</th>\n",
       "    </tr>\n",
       "  </thead>\n",
       "  <tbody>\n",
       "    <tr>\n",
       "      <th>103.6.196.118</th>\n",
       "      <td>mschosting</td>\n",
       "      <td>apnic</td>\n",
       "      <td>46015</td>\n",
       "      <td>103.6.196.0/22</td>\n",
       "      <td>MY</td>\n",
       "      <td>[103.6.196.118, ns101.mschosting.com, ns102.ms...</td>\n",
       "    </tr>\n",
       "    <tr>\n",
       "      <th>106.51.183.114</th>\n",
       "      <td>actcorp</td>\n",
       "      <td>apnic</td>\n",
       "      <td>131269</td>\n",
       "      <td>106.51.176.0/20</td>\n",
       "      <td>IN</td>\n",
       "      <td>NaN</td>\n",
       "    </tr>\n",
       "    <tr>\n",
       "      <th>107.180.51.235</th>\n",
       "      <td>secureserver</td>\n",
       "      <td>arin</td>\n",
       "      <td>26496</td>\n",
       "      <td>107.180.0.0/18</td>\n",
       "      <td>US</td>\n",
       "      <td>[107.180.51.235, 107.180.51.235, ns24.domainco...</td>\n",
       "    </tr>\n",
       "    <tr>\n",
       "      <th>107.183.149.75</th>\n",
       "      <td>orange</td>\n",
       "      <td>ripencc</td>\n",
       "      <td>12479</td>\n",
       "      <td>107.183.128.0/17</td>\n",
       "      <td>ES</td>\n",
       "      <td>NaN</td>\n",
       "    </tr>\n",
       "    <tr>\n",
       "      <th>122.225.97.103</th>\n",
       "      <td>fund123</td>\n",
       "      <td>apnic</td>\n",
       "      <td>4134</td>\n",
       "      <td>122.224.0.0/12</td>\n",
       "      <td>CN</td>\n",
       "      <td>NaN</td>\n",
       "    </tr>\n",
       "  </tbody>\n",
       "</table>\n",
       "</div>"
      ],
      "text/plain": [
       "                      domain asn_registry     asn          asn_cidr  \\\n",
       "103.6.196.118     mschosting        apnic   46015    103.6.196.0/22   \n",
       "106.51.183.114       actcorp        apnic  131269   106.51.176.0/20   \n",
       "107.180.51.235  secureserver         arin   26496    107.180.0.0/18   \n",
       "107.183.149.75        orange      ripencc   12479  107.183.128.0/17   \n",
       "122.225.97.103       fund123        apnic    4134    122.224.0.0/12   \n",
       "\n",
       "               country_code                                               pdns  \n",
       "103.6.196.118            MY  [103.6.196.118, ns101.mschosting.com, ns102.ms...  \n",
       "106.51.183.114           IN                                                NaN  \n",
       "107.180.51.235           US  [107.180.51.235, 107.180.51.235, ns24.domainco...  \n",
       "107.183.149.75           ES                                                NaN  \n",
       "122.225.97.103           CN                                                NaN  "
      ]
     },
     "execution_count": 27,
     "metadata": {},
     "output_type": "execute_result"
    }
   ],
   "source": [
    "filtered_df.head()"
   ]
  },
  {
   "cell_type": "markdown",
   "metadata": {},
   "source": [
    "### Dataframe ohne passive DNS, da momentan das Limit der Abfrage erreicht ist und das Dictionary nur NaN Werte enthält"
   ]
  },
  {
   "cell_type": "code",
   "execution_count": 28,
   "metadata": {
    "pycharm": {
     "is_executing": true
    }
   },
   "outputs": [
    {
     "data": {
      "text/html": [
       "<div>\n",
       "<style scoped>\n",
       "    .dataframe tbody tr th:only-of-type {\n",
       "        vertical-align: middle;\n",
       "    }\n",
       "\n",
       "    .dataframe tbody tr th {\n",
       "        vertical-align: top;\n",
       "    }\n",
       "\n",
       "    .dataframe thead th {\n",
       "        text-align: right;\n",
       "    }\n",
       "</style>\n",
       "<table border=\"1\" class=\"dataframe\">\n",
       "  <thead>\n",
       "    <tr style=\"text-align: right;\">\n",
       "      <th></th>\n",
       "      <th>domain</th>\n",
       "      <th>asn_registry</th>\n",
       "      <th>asn</th>\n",
       "      <th>asn_cidr</th>\n",
       "      <th>country_code</th>\n",
       "    </tr>\n",
       "  </thead>\n",
       "  <tbody>\n",
       "    <tr>\n",
       "      <th>103.6.196.118</th>\n",
       "      <td>mschosting</td>\n",
       "      <td>apnic</td>\n",
       "      <td>46015</td>\n",
       "      <td>103.6.196.0/22</td>\n",
       "      <td>MY</td>\n",
       "    </tr>\n",
       "    <tr>\n",
       "      <th>106.51.183.114</th>\n",
       "      <td>actcorp</td>\n",
       "      <td>apnic</td>\n",
       "      <td>131269</td>\n",
       "      <td>106.51.176.0/20</td>\n",
       "      <td>IN</td>\n",
       "    </tr>\n",
       "    <tr>\n",
       "      <th>107.180.51.235</th>\n",
       "      <td>secureserver</td>\n",
       "      <td>arin</td>\n",
       "      <td>26496</td>\n",
       "      <td>107.180.0.0/18</td>\n",
       "      <td>US</td>\n",
       "    </tr>\n",
       "    <tr>\n",
       "      <th>107.183.149.75</th>\n",
       "      <td>orange</td>\n",
       "      <td>ripencc</td>\n",
       "      <td>12479</td>\n",
       "      <td>107.183.128.0/17</td>\n",
       "      <td>ES</td>\n",
       "    </tr>\n",
       "    <tr>\n",
       "      <th>122.225.97.103</th>\n",
       "      <td>fund123</td>\n",
       "      <td>apnic</td>\n",
       "      <td>4134</td>\n",
       "      <td>122.224.0.0/12</td>\n",
       "      <td>CN</td>\n",
       "    </tr>\n",
       "  </tbody>\n",
       "</table>\n",
       "</div>"
      ],
      "text/plain": [
       "                      domain asn_registry     asn          asn_cidr  \\\n",
       "103.6.196.118     mschosting        apnic   46015    103.6.196.0/22   \n",
       "106.51.183.114       actcorp        apnic  131269   106.51.176.0/20   \n",
       "107.180.51.235  secureserver         arin   26496    107.180.0.0/18   \n",
       "107.183.149.75        orange      ripencc   12479  107.183.128.0/17   \n",
       "122.225.97.103       fund123        apnic    4134    122.224.0.0/12   \n",
       "\n",
       "               country_code  \n",
       "103.6.196.118            MY  \n",
       "106.51.183.114           IN  \n",
       "107.180.51.235           US  \n",
       "107.183.149.75           ES  \n",
       "122.225.97.103           CN  "
      ]
     },
     "execution_count": 28,
     "metadata": {},
     "output_type": "execute_result"
    }
   ],
   "source": [
    "without_pdns = filtered_df.drop(['pdns'], axis=1)\n",
    "without_pdns.head()"
   ]
  },
  {
   "cell_type": "markdown",
   "metadata": {},
   "source": [
    "### Index der Dataframes neu setzen, um einen Join zu ermöglichen"
   ]
  },
  {
   "cell_type": "code",
   "execution_count": 29,
   "metadata": {
    "pycharm": {
     "is_executing": true
    }
   },
   "outputs": [],
   "source": [
    "filtered_df.reset_index(level=0, inplace=True)"
   ]
  },
  {
   "cell_type": "code",
   "execution_count": 30,
   "metadata": {
    "pycharm": {
     "is_executing": true
    }
   },
   "outputs": [],
   "source": [
    "filtered_df = filtered_df.rename(columns = {'index': 'value'}, inplace = False)"
   ]
  },
  {
   "cell_type": "code",
   "execution_count": 31,
   "metadata": {
    "pycharm": {
     "is_executing": true
    }
   },
   "outputs": [
    {
     "data": {
      "text/html": [
       "<div>\n",
       "<style scoped>\n",
       "    .dataframe tbody tr th:only-of-type {\n",
       "        vertical-align: middle;\n",
       "    }\n",
       "\n",
       "    .dataframe tbody tr th {\n",
       "        vertical-align: top;\n",
       "    }\n",
       "\n",
       "    .dataframe thead th {\n",
       "        text-align: right;\n",
       "    }\n",
       "</style>\n",
       "<table border=\"1\" class=\"dataframe\">\n",
       "  <thead>\n",
       "    <tr style=\"text-align: right;\">\n",
       "      <th></th>\n",
       "      <th>value</th>\n",
       "      <th>domain</th>\n",
       "      <th>asn_registry</th>\n",
       "      <th>asn</th>\n",
       "      <th>asn_cidr</th>\n",
       "      <th>country_code</th>\n",
       "      <th>pdns</th>\n",
       "    </tr>\n",
       "  </thead>\n",
       "  <tbody>\n",
       "    <tr>\n",
       "      <th>0</th>\n",
       "      <td>103.6.196.118</td>\n",
       "      <td>mschosting</td>\n",
       "      <td>apnic</td>\n",
       "      <td>46015</td>\n",
       "      <td>103.6.196.0/22</td>\n",
       "      <td>MY</td>\n",
       "      <td>[103.6.196.118, ns101.mschosting.com, ns102.ms...</td>\n",
       "    </tr>\n",
       "    <tr>\n",
       "      <th>1</th>\n",
       "      <td>106.51.183.114</td>\n",
       "      <td>actcorp</td>\n",
       "      <td>apnic</td>\n",
       "      <td>131269</td>\n",
       "      <td>106.51.176.0/20</td>\n",
       "      <td>IN</td>\n",
       "      <td>NaN</td>\n",
       "    </tr>\n",
       "    <tr>\n",
       "      <th>2</th>\n",
       "      <td>107.180.51.235</td>\n",
       "      <td>secureserver</td>\n",
       "      <td>arin</td>\n",
       "      <td>26496</td>\n",
       "      <td>107.180.0.0/18</td>\n",
       "      <td>US</td>\n",
       "      <td>[107.180.51.235, 107.180.51.235, ns24.domainco...</td>\n",
       "    </tr>\n",
       "    <tr>\n",
       "      <th>3</th>\n",
       "      <td>107.183.149.75</td>\n",
       "      <td>orange</td>\n",
       "      <td>ripencc</td>\n",
       "      <td>12479</td>\n",
       "      <td>107.183.128.0/17</td>\n",
       "      <td>ES</td>\n",
       "      <td>NaN</td>\n",
       "    </tr>\n",
       "    <tr>\n",
       "      <th>4</th>\n",
       "      <td>122.225.97.103</td>\n",
       "      <td>fund123</td>\n",
       "      <td>apnic</td>\n",
       "      <td>4134</td>\n",
       "      <td>122.224.0.0/12</td>\n",
       "      <td>CN</td>\n",
       "      <td>NaN</td>\n",
       "    </tr>\n",
       "  </tbody>\n",
       "</table>\n",
       "</div>"
      ],
      "text/plain": [
       "            value        domain asn_registry     asn          asn_cidr  \\\n",
       "0   103.6.196.118    mschosting        apnic   46015    103.6.196.0/22   \n",
       "1  106.51.183.114       actcorp        apnic  131269   106.51.176.0/20   \n",
       "2  107.180.51.235  secureserver         arin   26496    107.180.0.0/18   \n",
       "3  107.183.149.75        orange      ripencc   12479  107.183.128.0/17   \n",
       "4  122.225.97.103       fund123        apnic    4134    122.224.0.0/12   \n",
       "\n",
       "  country_code                                               pdns  \n",
       "0           MY  [103.6.196.118, ns101.mschosting.com, ns102.ms...  \n",
       "1           IN                                                NaN  \n",
       "2           US  [107.180.51.235, 107.180.51.235, ns24.domainco...  \n",
       "3           ES                                                NaN  \n",
       "4           CN                                                NaN  "
      ]
     },
     "execution_count": 31,
     "metadata": {},
     "output_type": "execute_result"
    }
   ],
   "source": [
    "filtered_df.head()"
   ]
  },
  {
   "cell_type": "code",
   "execution_count": 32,
   "metadata": {
    "pycharm": {
     "is_executing": true
    }
   },
   "outputs": [],
   "source": [
    "without_pdns.reset_index(level=0, inplace=True)"
   ]
  },
  {
   "cell_type": "code",
   "execution_count": 33,
   "metadata": {
    "pycharm": {
     "is_executing": true
    }
   },
   "outputs": [],
   "source": [
    "without_pdns = without_pdns.rename(columns = {'index': 'value'}, inplace = False)"
   ]
  },
  {
   "cell_type": "code",
   "execution_count": 34,
   "metadata": {
    "pycharm": {
     "is_executing": true
    }
   },
   "outputs": [
    {
     "data": {
      "text/html": [
       "<div>\n",
       "<style scoped>\n",
       "    .dataframe tbody tr th:only-of-type {\n",
       "        vertical-align: middle;\n",
       "    }\n",
       "\n",
       "    .dataframe tbody tr th {\n",
       "        vertical-align: top;\n",
       "    }\n",
       "\n",
       "    .dataframe thead th {\n",
       "        text-align: right;\n",
       "    }\n",
       "</style>\n",
       "<table border=\"1\" class=\"dataframe\">\n",
       "  <thead>\n",
       "    <tr style=\"text-align: right;\">\n",
       "      <th></th>\n",
       "      <th>value</th>\n",
       "      <th>domain</th>\n",
       "      <th>asn_registry</th>\n",
       "      <th>asn</th>\n",
       "      <th>asn_cidr</th>\n",
       "      <th>country_code</th>\n",
       "    </tr>\n",
       "  </thead>\n",
       "  <tbody>\n",
       "    <tr>\n",
       "      <th>0</th>\n",
       "      <td>103.6.196.118</td>\n",
       "      <td>mschosting</td>\n",
       "      <td>apnic</td>\n",
       "      <td>46015</td>\n",
       "      <td>103.6.196.0/22</td>\n",
       "      <td>MY</td>\n",
       "    </tr>\n",
       "    <tr>\n",
       "      <th>1</th>\n",
       "      <td>106.51.183.114</td>\n",
       "      <td>actcorp</td>\n",
       "      <td>apnic</td>\n",
       "      <td>131269</td>\n",
       "      <td>106.51.176.0/20</td>\n",
       "      <td>IN</td>\n",
       "    </tr>\n",
       "    <tr>\n",
       "      <th>2</th>\n",
       "      <td>107.180.51.235</td>\n",
       "      <td>secureserver</td>\n",
       "      <td>arin</td>\n",
       "      <td>26496</td>\n",
       "      <td>107.180.0.0/18</td>\n",
       "      <td>US</td>\n",
       "    </tr>\n",
       "    <tr>\n",
       "      <th>3</th>\n",
       "      <td>107.183.149.75</td>\n",
       "      <td>orange</td>\n",
       "      <td>ripencc</td>\n",
       "      <td>12479</td>\n",
       "      <td>107.183.128.0/17</td>\n",
       "      <td>ES</td>\n",
       "    </tr>\n",
       "    <tr>\n",
       "      <th>4</th>\n",
       "      <td>122.225.97.103</td>\n",
       "      <td>fund123</td>\n",
       "      <td>apnic</td>\n",
       "      <td>4134</td>\n",
       "      <td>122.224.0.0/12</td>\n",
       "      <td>CN</td>\n",
       "    </tr>\n",
       "  </tbody>\n",
       "</table>\n",
       "</div>"
      ],
      "text/plain": [
       "            value        domain asn_registry     asn          asn_cidr  \\\n",
       "0   103.6.196.118    mschosting        apnic   46015    103.6.196.0/22   \n",
       "1  106.51.183.114       actcorp        apnic  131269   106.51.176.0/20   \n",
       "2  107.180.51.235  secureserver         arin   26496    107.180.0.0/18   \n",
       "3  107.183.149.75        orange      ripencc   12479  107.183.128.0/17   \n",
       "4  122.225.97.103       fund123        apnic    4134    122.224.0.0/12   \n",
       "\n",
       "  country_code  \n",
       "0           MY  \n",
       "1           IN  \n",
       "2           US  \n",
       "3           ES  \n",
       "4           CN  "
      ]
     },
     "execution_count": 34,
     "metadata": {},
     "output_type": "execute_result"
    }
   ],
   "source": [
    "without_pdns.head()"
   ]
  },
  {
   "cell_type": "markdown",
   "metadata": {},
   "source": [
    "### Das ursprüungliche Dataframe mit dem neuen Dataframe über die ip-Adressen joinen."
   ]
  },
  {
   "cell_type": "code",
   "execution_count": 35,
   "metadata": {
    "pycharm": {
     "is_executing": true
    }
   },
   "outputs": [],
   "source": [
    "joined_df = misp_df.join(filtered_df.set_index('value'), on='value')"
   ]
  },
  {
   "cell_type": "code",
   "execution_count": 36,
   "metadata": {
    "pycharm": {
     "is_executing": true
    }
   },
   "outputs": [],
   "source": [
    "df1 = joined_df\n",
    "df2 = joined_df"
   ]
  },
  {
   "cell_type": "code",
   "execution_count": 37,
   "metadata": {
    "pycharm": {
     "is_executing": true
    }
   },
   "outputs": [],
   "source": [
    "df_merged = df1.merge(df2,  how = 'cross') "
   ]
  },
  {
   "cell_type": "code",
   "execution_count": 38,
   "metadata": {
    "pycharm": {
     "is_executing": true
    }
   },
   "outputs": [
    {
     "data": {
      "text/html": [
       "<div>\n",
       "<style scoped>\n",
       "    .dataframe tbody tr th:only-of-type {\n",
       "        vertical-align: middle;\n",
       "    }\n",
       "\n",
       "    .dataframe tbody tr th {\n",
       "        vertical-align: top;\n",
       "    }\n",
       "\n",
       "    .dataframe thead th {\n",
       "        text-align: right;\n",
       "    }\n",
       "</style>\n",
       "<table border=\"1\" class=\"dataframe\">\n",
       "  <thead>\n",
       "    <tr style=\"text-align: right;\">\n",
       "      <th></th>\n",
       "      <th>uuid_x</th>\n",
       "      <th>event_id_x</th>\n",
       "      <th>value_x</th>\n",
       "      <th>domain_x</th>\n",
       "      <th>asn_registry_x</th>\n",
       "      <th>asn_x</th>\n",
       "      <th>asn_cidr_x</th>\n",
       "      <th>country_code_x</th>\n",
       "      <th>pdns_x</th>\n",
       "      <th>uuid_y</th>\n",
       "      <th>event_id_y</th>\n",
       "      <th>value_y</th>\n",
       "      <th>domain_y</th>\n",
       "      <th>asn_registry_y</th>\n",
       "      <th>asn_y</th>\n",
       "      <th>asn_cidr_y</th>\n",
       "      <th>country_code_y</th>\n",
       "      <th>pdns_y</th>\n",
       "    </tr>\n",
       "  </thead>\n",
       "  <tbody>\n",
       "    <tr>\n",
       "      <th>0</th>\n",
       "      <td>546e0e5c-83f8-4f28-8e10-804b950d210b</td>\n",
       "      <td>25</td>\n",
       "      <td>218.103.38.112</td>\n",
       "      <td>netvigator</td>\n",
       "      <td>apnic</td>\n",
       "      <td>4760</td>\n",
       "      <td>218.103.32.0/19</td>\n",
       "      <td>HK</td>\n",
       "      <td>NaN</td>\n",
       "      <td>546e0e5c-83f8-4f28-8e10-804b950d210b</td>\n",
       "      <td>25</td>\n",
       "      <td>218.103.38.112</td>\n",
       "      <td>netvigator</td>\n",
       "      <td>apnic</td>\n",
       "      <td>4760</td>\n",
       "      <td>218.103.32.0/19</td>\n",
       "      <td>HK</td>\n",
       "      <td>NaN</td>\n",
       "    </tr>\n",
       "    <tr>\n",
       "      <th>1</th>\n",
       "      <td>546e0e5c-83f8-4f28-8e10-804b950d210b</td>\n",
       "      <td>25</td>\n",
       "      <td>218.103.38.112</td>\n",
       "      <td>netvigator</td>\n",
       "      <td>apnic</td>\n",
       "      <td>4760</td>\n",
       "      <td>218.103.32.0/19</td>\n",
       "      <td>HK</td>\n",
       "      <td>NaN</td>\n",
       "      <td>afdaca7f-872f-4567-b0a8-e0c7310c5c8b</td>\n",
       "      <td>1188</td>\n",
       "      <td>45.153.240.246</td>\n",
       "      <td>NaN</td>\n",
       "      <td>NaN</td>\n",
       "      <td>NaN</td>\n",
       "      <td>NaN</td>\n",
       "      <td>NaN</td>\n",
       "      <td>NaN</td>\n",
       "    </tr>\n",
       "    <tr>\n",
       "      <th>2</th>\n",
       "      <td>546e0e5c-83f8-4f28-8e10-804b950d210b</td>\n",
       "      <td>25</td>\n",
       "      <td>218.103.38.112</td>\n",
       "      <td>netvigator</td>\n",
       "      <td>apnic</td>\n",
       "      <td>4760</td>\n",
       "      <td>218.103.32.0/19</td>\n",
       "      <td>HK</td>\n",
       "      <td>NaN</td>\n",
       "      <td>58f8e8a3-f2c9-4fc1-85d5-e19e4bcc3d87</td>\n",
       "      <td>1190</td>\n",
       "      <td>159.65.166.223</td>\n",
       "      <td>NaN</td>\n",
       "      <td>NaN</td>\n",
       "      <td>NaN</td>\n",
       "      <td>NaN</td>\n",
       "      <td>NaN</td>\n",
       "      <td>NaN</td>\n",
       "    </tr>\n",
       "    <tr>\n",
       "      <th>3</th>\n",
       "      <td>546e0e5c-83f8-4f28-8e10-804b950d210b</td>\n",
       "      <td>25</td>\n",
       "      <td>218.103.38.112</td>\n",
       "      <td>netvigator</td>\n",
       "      <td>apnic</td>\n",
       "      <td>4760</td>\n",
       "      <td>218.103.32.0/19</td>\n",
       "      <td>HK</td>\n",
       "      <td>NaN</td>\n",
       "      <td>58c5e17d-702e-4128-b3ae-559fea3d324c</td>\n",
       "      <td>1190</td>\n",
       "      <td>24.97.129.36</td>\n",
       "      <td>rr</td>\n",
       "      <td>arin</td>\n",
       "      <td>11351</td>\n",
       "      <td>24.97.0.0/16</td>\n",
       "      <td>US</td>\n",
       "      <td>NaN</td>\n",
       "    </tr>\n",
       "    <tr>\n",
       "      <th>4</th>\n",
       "      <td>546e0e5c-83f8-4f28-8e10-804b950d210b</td>\n",
       "      <td>25</td>\n",
       "      <td>218.103.38.112</td>\n",
       "      <td>netvigator</td>\n",
       "      <td>apnic</td>\n",
       "      <td>4760</td>\n",
       "      <td>218.103.32.0/19</td>\n",
       "      <td>HK</td>\n",
       "      <td>NaN</td>\n",
       "      <td>571f4eec-6ff4-4d42-84ba-4bd1950d210f</td>\n",
       "      <td>262</td>\n",
       "      <td>92.23.68.42</td>\n",
       "      <td>as13285</td>\n",
       "      <td>ripencc</td>\n",
       "      <td>13285</td>\n",
       "      <td>92.22.0.0/15</td>\n",
       "      <td>GB</td>\n",
       "      <td>NaN</td>\n",
       "    </tr>\n",
       "  </tbody>\n",
       "</table>\n",
       "</div>"
      ],
      "text/plain": [
       "                                 uuid_x  event_id_x         value_x  \\\n",
       "0  546e0e5c-83f8-4f28-8e10-804b950d210b          25  218.103.38.112   \n",
       "1  546e0e5c-83f8-4f28-8e10-804b950d210b          25  218.103.38.112   \n",
       "2  546e0e5c-83f8-4f28-8e10-804b950d210b          25  218.103.38.112   \n",
       "3  546e0e5c-83f8-4f28-8e10-804b950d210b          25  218.103.38.112   \n",
       "4  546e0e5c-83f8-4f28-8e10-804b950d210b          25  218.103.38.112   \n",
       "\n",
       "     domain_x asn_registry_x asn_x       asn_cidr_x country_code_x pdns_x  \\\n",
       "0  netvigator          apnic  4760  218.103.32.0/19             HK    NaN   \n",
       "1  netvigator          apnic  4760  218.103.32.0/19             HK    NaN   \n",
       "2  netvigator          apnic  4760  218.103.32.0/19             HK    NaN   \n",
       "3  netvigator          apnic  4760  218.103.32.0/19             HK    NaN   \n",
       "4  netvigator          apnic  4760  218.103.32.0/19             HK    NaN   \n",
       "\n",
       "                                 uuid_y  event_id_y         value_y  \\\n",
       "0  546e0e5c-83f8-4f28-8e10-804b950d210b          25  218.103.38.112   \n",
       "1  afdaca7f-872f-4567-b0a8-e0c7310c5c8b        1188  45.153.240.246   \n",
       "2  58f8e8a3-f2c9-4fc1-85d5-e19e4bcc3d87        1190  159.65.166.223   \n",
       "3  58c5e17d-702e-4128-b3ae-559fea3d324c        1190    24.97.129.36   \n",
       "4  571f4eec-6ff4-4d42-84ba-4bd1950d210f         262     92.23.68.42   \n",
       "\n",
       "     domain_y asn_registry_y  asn_y       asn_cidr_y country_code_y pdns_y  \n",
       "0  netvigator          apnic   4760  218.103.32.0/19             HK    NaN  \n",
       "1         NaN            NaN    NaN              NaN            NaN    NaN  \n",
       "2         NaN            NaN    NaN              NaN            NaN    NaN  \n",
       "3          rr           arin  11351     24.97.0.0/16             US    NaN  \n",
       "4     as13285        ripencc  13285     92.22.0.0/15             GB    NaN  "
      ]
     },
     "execution_count": 38,
     "metadata": {},
     "output_type": "execute_result"
    }
   ],
   "source": [
    "df_merged.head()"
   ]
  },
  {
   "cell_type": "markdown",
   "metadata": {},
   "source": [
    "### Duplikate entfernen"
   ]
  },
  {
   "cell_type": "code",
   "execution_count": 39,
   "metadata": {
    "pycharm": {
     "is_executing": true
    }
   },
   "outputs": [],
   "source": [
    "duplicates = df_merged['uuid_x'] == df_merged['uuid_y']\n",
    "df_merged = df_merged[~duplicates]"
   ]
  },
  {
   "cell_type": "markdown",
   "metadata": {},
   "source": [
    "Check String zur Kontrolle hinzufügen"
   ]
  },
  {
   "cell_type": "code",
   "execution_count": 40,
   "metadata": {
    "pycharm": {
     "is_executing": true
    }
   },
   "outputs": [],
   "source": [
    "df_merged['check_string'] = df_merged.apply(lambda row: ''.join(sorted([row['uuid_x'], row['uuid_y']])), axis=1)"
   ]
  },
  {
   "cell_type": "code",
   "execution_count": 41,
   "metadata": {
    "pycharm": {
     "is_executing": true
    }
   },
   "outputs": [],
   "source": [
    "df_merged = df_merged.drop_duplicates('check_string')"
   ]
  },
  {
   "cell_type": "markdown",
   "metadata": {},
   "source": [
    "### Umwandlung der passive DNS Werte in eine Liste zum späteren Vergleich"
   ]
  },
  {
   "cell_type": "code",
   "execution_count": 42,
   "metadata": {
    "pycharm": {
     "is_executing": true
    }
   },
   "outputs": [],
   "source": [
    "pdns_list = filtered_df['pdns'].tolist()"
   ]
  },
  {
   "cell_type": "code",
   "execution_count": 43,
   "metadata": {
    "pycharm": {
     "is_executing": true
    }
   },
   "outputs": [
    {
     "name": "stdout",
     "output_type": "stream",
     "text": [
      "[['103.6.196.118', 'ns101.mschosting.com', 'ns102.mschosting.com', '103.6.196.118', 'ns101.mschosting.com', 'ns102.mschosting.com', 'ns111.mschosting.com', '103.6.196.118', 'ns112.mschosting.com'], nan, ['107.180.51.235', '107.180.51.235', 'ns24.domaincontrol.com', 'ns23.domaincontrol.com'], nan, nan, nan, nan, nan, nan, nan, nan, nan, nan, nan, nan, nan, nan, nan, nan, nan, nan, nan, nan, nan, nan, nan, nan, ['213.136.73.122', '2a02:c207:2009:742::1'], ['208.78.69.70', '216.146.39.70', '216.146.39.70', '216.146.39.70', '216.146.39.70', '216.146.39.70', '216.146.39.70', '216.146.39.70', '216.146.39.70', '162.88.100.203', '162.88.100.201', '162.88.100.202', '91.198.22.70', '91.198.22.70', '91.198.22.70', '91.198.22.70', '91.198.22.70', '91.198.22.70', '91.198.22.70', '91.198.22.70', '131.186.113.136', '131.186.113.135', '216.146.38.70', '216.146.38.70', '216.146.38.70', '216.146.38.70', '216.146.38.70', '216.146.38.70', '216.146.38.70', '162.88.96.194', '216.146.43.70', '216.146.43.71', '216.146.38.70', '162.88.100.200'], ['217.172.226.2', '217.172.226.2', '217.172.226.2', '217.172.226.6', 'ns1.mpsz.pl', 'dns1.mm.pl'], ['217.68.23.131', '217.68.23.131', '217.68.23.131'], nan, ['23.244.68.61', 'dns14.hichina.com', 'dns13.hichina.com'], nan, nan, nan, nan, ['ns100.rookdns.com', '141.8.224.239', 'ns99.rookdns.com', '50.63.202.62', 'ns51.domaincontrol.com', 'ns52.domaincontrol.com', 'ns01.domaincontrol.com', '50.63.202.62', 'ns02.domaincontrol.com', 'ns78.domaincontrol.com', 'ns77.domaincontrol.com', '50.63.202.62', 'ns4.pcdg.co', 'ns1.pcdg.co', 'ns3.pcdg.co', 'ns2.pcdg.co', '50.63.202.62', '72.44.89.125', 'ns54.domaincontrol.com', 'ns53.domaincontrol.com', '50.63.202.62', 'ns16.domaincontrol.com', 'ns15.domaincontrol.com', '50.63.202.62', '50.63.202.62', 'ns58.domaincontrol.com', 'ns57.domaincontrol.com', 'ns31.domaincontrol.com', 'ns32.domaincontrol.com', '50.63.202.62', 'ns64.domaincontrol.com', 'ns63.domaincontrol.com', '50.63.202.62', '216.239.36.21', '216.239.32.21', '216.239.34.21', '184.168.221.49', '216.239.38.21', '50.63.202.23', '50.63.202.62', 'ns8.rookdns.com', '141.8.224.93', 'ns7.rookdns.com', '50.63.202.62', 'ns4.secureserver.net', 'ns3.secureserver.net', '103.224.182.243', 'ns1.above.com', 'ns2.above.com', '50.63.202.62', 'ns47.domaincontrol.com', 'ns48.domaincontrol.com', 'ns75.domaincontrol.com', '50.63.202.62', 'ns76.domaincontrol.com', 'ns48.domaincontrol.com', 'ns47.domaincontrol.com', '50.63.202.62', '50.63.202.36', 'ns43.domaincontrol.com', 'ns44.domaincontrol.com', '50.63.202.62', '50.63.202.62', 'ns48.domaincontrol.com', 'ns47.domaincontrol.com', 'ns04.domaincontrol.com', '50.63.202.62', 'ns03.domaincontrol.com', '50.63.202.62', 'ns56.domaincontrol.com', 'ns55.domaincontrol.com', 'ns28.domaincontrol.com', 'ns27.domaincontrol.com', '50.63.202.62', '50.63.202.62', 'ns61.domaincontrol.com', '184.168.221.35', 'ns62.domaincontrol.com', 'ns44.domaincontrol.com', 'ns43.domaincontrol.com', '50.63.202.62', '50.63.202.41', '50.63.202.62', '184.168.221.45', 'ns78.domaincontrol.com', 'ns77.domaincontrol.com', '184.168.221.48', '50.63.202.62', '50.63.202.35', '50.63.202.63', '50.63.202.62', 'ns77.domaincontrol.com', 'ns78.domaincontrol.com', '45.77.100.168', 'george.ns.cloudflare.com', 'ruth.ns.cloudflare.com', '185.117.74.51', '50.63.202.37', '184.168.221.52', '50.63.202.43', '50.63.202.51', '184.168.221.35', '184.168.221.44', '184.168.221.42', '184.168.221.39', '184.168.221.42', '50.63.202.50', 'bing1.lossproject.us', 'bing2.lossproject.us', '50.63.202.62', '50.63.202.34', '184.168.221.48', '50.63.202.48', '184.168.221.60', 'ns11.domaincontrol.com', 'ns12.domaincontrol.com', '184.168.221.56', 'ns53.domaincontrol.com', 'ns54.domaincontrol.com', '184.168.221.50', '50.63.202.46', '50.63.202.62', '50.63.202.57', '184.168.221.38', '50.63.202.43', '184.168.221.60', '50.63.202.62', '50.63.202.56', '184.168.221.52', '50.63.202.50', 'ns07.domaincontrol.com', 'ns08.domaincontrol.com', 'ns59.domaincontrol.com', '50.63.202.62', 'ns60.domaincontrol.com', '184.168.221.63', 'a5-65.akam.net', 'a1-84.akam.net', 'a7-67.akam.net', 'a20-64.akam.net', '50.63.202.62', 'ns23.domaincontrol.com', '50.63.202.62', 'ns24.domaincontrol.com', '50.63.202.32', '184.168.221.63', '50.63.202.62', 'ns58.domaincontrol.com', 'ns57.domaincontrol.com', '184.168.221.62', '184.168.221.59', '184.168.221.45', '50.63.202.34', '50.63.202.35', '184.168.221.59', '50.63.202.43', '50.63.202.60', '50.63.202.62', 'ns39.domaincontrol.com', '50.63.202.62', 'ns40.domaincontrol.com', '132.148.22.67', '184.168.221.59', '184.168.221.36', '184.168.221.32', '184.168.221.38', '50.63.202.45', '184.168.221.60', '50.63.202.36', '184.168.221.55', '50.63.202.56', '50.63.202.36', '50.63.202.62', 'ns38.domaincontrol.com', '184.168.221.61', 'ns37.domaincontrol.com', '50.63.202.47', '184.168.221.57', '184.168.221.63', '50.63.202.44', '50.63.202.38', '50.63.202.53', '184.168.221.53', '50.63.202.58', '184.168.221.46', '184.168.221.34', 'pdns13.domaincontrol.com', 'pdns14.domaincontrol.com', '184.168.221.35', 'ns38.domaincontrol.com', '184.168.221.37', 'ns37.domaincontrol.com', 'ns-440.awsdns-55.com', '50.63.202.62', 'ns-1001.awsdns-61.net', 'ns-1035.awsdns-01.org', 'ns-1891.awsdns-44.co.uk', '50.63.202.51', '50.63.202.53', 'ns38.domaincontrol.com', 'ns37.domaincontrol.com', '184.168.221.58', 'ns23.domaincontrol.com', 'ns24.domaincontrol.com'], nan, nan, nan, nan, nan, nan, nan, ['64.34.216.104', 'ns12.indservers.co.in', 'ns11.indservers.co.in', '64.34.216.104', 'ns01.indservers.co.in', '64.34.216.104', 'ns02.indservers.co.in', '64.34.216.104'], nan, ['ns2.hostmonster.com', 'ns1.hostmonster.com', '66.147.240.193', '66.147.240.193', '66.147.240.193', '66.147.240.193', '74.220.207.92', 'ns1.hostmonster.com', 'ns2.hostmonster.com', '66.147.240.193', 'ns2.hostmonster.com', 'ns1.hostmonster.com', '66.147.240.193', 'ns1.hostmonster.com', '66.147.240.193', 'ns2.hostmonster.com', 'ns1.hostmonster.com', 'ns2.hostmonster.com', '66.147.240.193', '66.147.240.193', 'ns2.hostmonster.com', 'ns1.hostmonster.com', '66.147.240.193', 'ns1.hostmonster.com', 'ns2.hostmonster.com', 'ns1.hostmonster.com', 'ns2.hostmonster.com', '66.147.240.193', '66.147.240.193', 'ns1.hostmonster.com', 'ns2.hostmonster.com', 'ns2.hostmonster.com', 'ns1.hostmonster.com', '66.147.240.193', 'vinca.applicationx.net', 'gavin.applicationx.net', '66.147.240.193', 'ns2.hostmonster.com', 'ns1.hostmonster.com', '66.147.240.193', 'ns1.hostmonster.com', '66.147.240.193', 'ns2.hostmonster.com', '66.147.240.193', 'ns1.hostmonster.com', 'ns2.hostmonster.com', '66.147.240.193', 'ns2.hostmonster.com', 'ns1.hostmonster.com', '66.147.240.193', '66.147.240.193', '66.147.240.193', 'ns1.hostmonster.com', 'ns2.hostmonster.com', '66.147.240.193', 'ns1.hostmonster.com', 'ns2.hostmonster.com', 'ns1.hostmonster.com', '66.147.240.193', 'ns2.hostmonster.com', 'ns1.hostmonster.com', 'ns2.hostmonster.com', '66.147.240.193', 'ns2.hostmonster.com', '66.147.240.193', 'ns1.hostmonster.com', '66.147.240.193', 'ns1.hostmonster.com', 'ns2.hostmonster.com', 'ns2.dnsowl.com', 'ns3.dnsowl.com', 'ns1.dnsowl.com', '66.147.240.193', '66.147.240.193', '66.147.240.193', '66.147.240.193', 'ns1.hostmonster.com', 'ns2.hostmonster.com', 'ns2.hostmonster.com', 'ns1.hostmonster.com', '107.154.155.193', '107.154.162.193', 'ns1.hostmonster.com', 'ns2.hostmonster.com', '66.147.240.193'], nan, nan, nan, nan, nan, nan, nan, nan, nan]\n"
     ]
    }
   ],
   "source": [
    "print(pdns_list)"
   ]
  },
  {
   "cell_type": "markdown",
   "metadata": {},
   "source": [
    "### Methode zum Vergleich und zur Gewichtung der ip-Metadaten\n",
    "Momentan werden alle Werte gleich gewichtet und nur auf exakte Übereinstimmung verglichen."
   ]
  },
  {
   "cell_type": "code",
   "execution_count": 44,
   "metadata": {
    "pycharm": {
     "is_executing": true
    }
   },
   "outputs": [],
   "source": [
    "def compare_ip_metadata(domain_x, domain_y, \n",
    "                        asn_x, asn_y,\n",
    "                        asn_registry_x, asn_registry_y, \n",
    "                        asn_cidr_x, asn_cidr_y, \n",
    "                        country_code_x, country_code_y, \n",
    "                        pdns_x, pdns_y):\n",
    "        \n",
    "    domain_value = 0\n",
    "    asn_registry_value = 0\n",
    "    asn_cidr_value = 0\n",
    "    country_code_value = 0\n",
    "    pdns_value = 0\n",
    "    asn_value = 0\n",
    "    \n",
    "    if domain_x == domain_y:\n",
    "        domain_value = 1\n",
    "    \n",
    "    if asn_registry_x == asn_registry_y:\n",
    "        asn_registry_value = 1\n",
    "    \n",
    "    if asn_cidr_x == asn_cidr_y:\n",
    "        asn_cidr_value = 1\n",
    "    \n",
    "    if country_code_x == country_code_y:\n",
    "        country_code_value = 1\n",
    "    \n",
    "    if asn_x == asn_y:\n",
    "        asn_value = 1\n",
    "    \n",
    "    if type(pdns_x) is list and type(pdns_y) is list:\n",
    "        for element in pdns_x:\n",
    "            if element in pdns_y:\n",
    "                pdns_value = 1\n",
    "    \n",
    "    tmp = int(domain_value) + int(asn_registry_value) + int(asn_cidr_value) + int(country_code_value) + int(pdns_value) + int(asn_value)\n",
    "    \n",
    "    score = tmp / 6\n",
    "    \n",
    "    return score\n",
    "    "
   ]
  },
  {
   "cell_type": "markdown",
   "metadata": {},
   "source": [
    "### Jeden Wert mit jedem vergleichen"
   ]
  },
  {
   "cell_type": "code",
   "execution_count": 45,
   "metadata": {
    "pycharm": {
     "is_executing": true
    }
   },
   "outputs": [],
   "source": [
    "df_merged['similarity'] = df_merged.apply(lambda row : compare_ip_metadata(row['domain_x'], row['domain_y'], \n",
    "                                                                   row['asn_x'], row['asn_y'],\n",
    "                                                                   row['asn_registry_x'], row['asn_registry_y'], \n",
    "                                                                   row['asn_cidr_x'], row['asn_cidr_y'], \n",
    "                                                                   row['country_code_x'], row['country_code_y'], \n",
    "                                                                   row['pdns_x'], row['pdns_y']), axis = 1)"
   ]
  },
  {
   "cell_type": "code",
   "execution_count": 46,
   "metadata": {
    "pycharm": {
     "is_executing": true
    }
   },
   "outputs": [
    {
     "data": {
      "text/html": [
       "<div>\n",
       "<style scoped>\n",
       "    .dataframe tbody tr th:only-of-type {\n",
       "        vertical-align: middle;\n",
       "    }\n",
       "\n",
       "    .dataframe tbody tr th {\n",
       "        vertical-align: top;\n",
       "    }\n",
       "\n",
       "    .dataframe thead th {\n",
       "        text-align: right;\n",
       "    }\n",
       "</style>\n",
       "<table border=\"1\" class=\"dataframe\">\n",
       "  <thead>\n",
       "    <tr style=\"text-align: right;\">\n",
       "      <th></th>\n",
       "      <th>uuid_x</th>\n",
       "      <th>event_id_x</th>\n",
       "      <th>value_x</th>\n",
       "      <th>domain_x</th>\n",
       "      <th>asn_registry_x</th>\n",
       "      <th>asn_x</th>\n",
       "      <th>asn_cidr_x</th>\n",
       "      <th>country_code_x</th>\n",
       "      <th>pdns_x</th>\n",
       "      <th>uuid_y</th>\n",
       "      <th>event_id_y</th>\n",
       "      <th>value_y</th>\n",
       "      <th>domain_y</th>\n",
       "      <th>asn_registry_y</th>\n",
       "      <th>asn_y</th>\n",
       "      <th>asn_cidr_y</th>\n",
       "      <th>country_code_y</th>\n",
       "      <th>pdns_y</th>\n",
       "      <th>check_string</th>\n",
       "      <th>similarity</th>\n",
       "    </tr>\n",
       "  </thead>\n",
       "  <tbody>\n",
       "    <tr>\n",
       "      <th>1</th>\n",
       "      <td>546e0e5c-83f8-4f28-8e10-804b950d210b</td>\n",
       "      <td>25</td>\n",
       "      <td>218.103.38.112</td>\n",
       "      <td>netvigator</td>\n",
       "      <td>apnic</td>\n",
       "      <td>4760</td>\n",
       "      <td>218.103.32.0/19</td>\n",
       "      <td>HK</td>\n",
       "      <td>NaN</td>\n",
       "      <td>afdaca7f-872f-4567-b0a8-e0c7310c5c8b</td>\n",
       "      <td>1188</td>\n",
       "      <td>45.153.240.246</td>\n",
       "      <td>NaN</td>\n",
       "      <td>NaN</td>\n",
       "      <td>NaN</td>\n",
       "      <td>NaN</td>\n",
       "      <td>NaN</td>\n",
       "      <td>NaN</td>\n",
       "      <td>546e0e5c-83f8-4f28-8e10-804b950d210bafdaca7f-8...</td>\n",
       "      <td>0.0</td>\n",
       "    </tr>\n",
       "    <tr>\n",
       "      <th>2</th>\n",
       "      <td>546e0e5c-83f8-4f28-8e10-804b950d210b</td>\n",
       "      <td>25</td>\n",
       "      <td>218.103.38.112</td>\n",
       "      <td>netvigator</td>\n",
       "      <td>apnic</td>\n",
       "      <td>4760</td>\n",
       "      <td>218.103.32.0/19</td>\n",
       "      <td>HK</td>\n",
       "      <td>NaN</td>\n",
       "      <td>58f8e8a3-f2c9-4fc1-85d5-e19e4bcc3d87</td>\n",
       "      <td>1190</td>\n",
       "      <td>159.65.166.223</td>\n",
       "      <td>NaN</td>\n",
       "      <td>NaN</td>\n",
       "      <td>NaN</td>\n",
       "      <td>NaN</td>\n",
       "      <td>NaN</td>\n",
       "      <td>NaN</td>\n",
       "      <td>546e0e5c-83f8-4f28-8e10-804b950d210b58f8e8a3-f...</td>\n",
       "      <td>0.0</td>\n",
       "    </tr>\n",
       "    <tr>\n",
       "      <th>3</th>\n",
       "      <td>546e0e5c-83f8-4f28-8e10-804b950d210b</td>\n",
       "      <td>25</td>\n",
       "      <td>218.103.38.112</td>\n",
       "      <td>netvigator</td>\n",
       "      <td>apnic</td>\n",
       "      <td>4760</td>\n",
       "      <td>218.103.32.0/19</td>\n",
       "      <td>HK</td>\n",
       "      <td>NaN</td>\n",
       "      <td>58c5e17d-702e-4128-b3ae-559fea3d324c</td>\n",
       "      <td>1190</td>\n",
       "      <td>24.97.129.36</td>\n",
       "      <td>rr</td>\n",
       "      <td>arin</td>\n",
       "      <td>11351</td>\n",
       "      <td>24.97.0.0/16</td>\n",
       "      <td>US</td>\n",
       "      <td>NaN</td>\n",
       "      <td>546e0e5c-83f8-4f28-8e10-804b950d210b58c5e17d-7...</td>\n",
       "      <td>0.0</td>\n",
       "    </tr>\n",
       "    <tr>\n",
       "      <th>4</th>\n",
       "      <td>546e0e5c-83f8-4f28-8e10-804b950d210b</td>\n",
       "      <td>25</td>\n",
       "      <td>218.103.38.112</td>\n",
       "      <td>netvigator</td>\n",
       "      <td>apnic</td>\n",
       "      <td>4760</td>\n",
       "      <td>218.103.32.0/19</td>\n",
       "      <td>HK</td>\n",
       "      <td>NaN</td>\n",
       "      <td>571f4eec-6ff4-4d42-84ba-4bd1950d210f</td>\n",
       "      <td>262</td>\n",
       "      <td>92.23.68.42</td>\n",
       "      <td>as13285</td>\n",
       "      <td>ripencc</td>\n",
       "      <td>13285</td>\n",
       "      <td>92.22.0.0/15</td>\n",
       "      <td>GB</td>\n",
       "      <td>NaN</td>\n",
       "      <td>546e0e5c-83f8-4f28-8e10-804b950d210b571f4eec-6...</td>\n",
       "      <td>0.0</td>\n",
       "    </tr>\n",
       "    <tr>\n",
       "      <th>5</th>\n",
       "      <td>546e0e5c-83f8-4f28-8e10-804b950d210b</td>\n",
       "      <td>25</td>\n",
       "      <td>218.103.38.112</td>\n",
       "      <td>netvigator</td>\n",
       "      <td>apnic</td>\n",
       "      <td>4760</td>\n",
       "      <td>218.103.32.0/19</td>\n",
       "      <td>HK</td>\n",
       "      <td>NaN</td>\n",
       "      <td>54dc66a3-753c-453d-9453-a308950d210b</td>\n",
       "      <td>46</td>\n",
       "      <td>162.219.7.3</td>\n",
       "      <td>NaN</td>\n",
       "      <td>NaN</td>\n",
       "      <td>NaN</td>\n",
       "      <td>NaN</td>\n",
       "      <td>NaN</td>\n",
       "      <td>NaN</td>\n",
       "      <td>546e0e5c-83f8-4f28-8e10-804b950d210b54dc66a3-7...</td>\n",
       "      <td>0.0</td>\n",
       "    </tr>\n",
       "  </tbody>\n",
       "</table>\n",
       "</div>"
      ],
      "text/plain": [
       "                                 uuid_x  event_id_x         value_x  \\\n",
       "1  546e0e5c-83f8-4f28-8e10-804b950d210b          25  218.103.38.112   \n",
       "2  546e0e5c-83f8-4f28-8e10-804b950d210b          25  218.103.38.112   \n",
       "3  546e0e5c-83f8-4f28-8e10-804b950d210b          25  218.103.38.112   \n",
       "4  546e0e5c-83f8-4f28-8e10-804b950d210b          25  218.103.38.112   \n",
       "5  546e0e5c-83f8-4f28-8e10-804b950d210b          25  218.103.38.112   \n",
       "\n",
       "     domain_x asn_registry_x asn_x       asn_cidr_x country_code_x pdns_x  \\\n",
       "1  netvigator          apnic  4760  218.103.32.0/19             HK    NaN   \n",
       "2  netvigator          apnic  4760  218.103.32.0/19             HK    NaN   \n",
       "3  netvigator          apnic  4760  218.103.32.0/19             HK    NaN   \n",
       "4  netvigator          apnic  4760  218.103.32.0/19             HK    NaN   \n",
       "5  netvigator          apnic  4760  218.103.32.0/19             HK    NaN   \n",
       "\n",
       "                                 uuid_y  event_id_y         value_y domain_y  \\\n",
       "1  afdaca7f-872f-4567-b0a8-e0c7310c5c8b        1188  45.153.240.246      NaN   \n",
       "2  58f8e8a3-f2c9-4fc1-85d5-e19e4bcc3d87        1190  159.65.166.223      NaN   \n",
       "3  58c5e17d-702e-4128-b3ae-559fea3d324c        1190    24.97.129.36       rr   \n",
       "4  571f4eec-6ff4-4d42-84ba-4bd1950d210f         262     92.23.68.42  as13285   \n",
       "5  54dc66a3-753c-453d-9453-a308950d210b          46     162.219.7.3      NaN   \n",
       "\n",
       "  asn_registry_y  asn_y    asn_cidr_y country_code_y pdns_y  \\\n",
       "1            NaN    NaN           NaN            NaN    NaN   \n",
       "2            NaN    NaN           NaN            NaN    NaN   \n",
       "3           arin  11351  24.97.0.0/16             US    NaN   \n",
       "4        ripencc  13285  92.22.0.0/15             GB    NaN   \n",
       "5            NaN    NaN           NaN            NaN    NaN   \n",
       "\n",
       "                                        check_string  similarity  \n",
       "1  546e0e5c-83f8-4f28-8e10-804b950d210bafdaca7f-8...         0.0  \n",
       "2  546e0e5c-83f8-4f28-8e10-804b950d210b58f8e8a3-f...         0.0  \n",
       "3  546e0e5c-83f8-4f28-8e10-804b950d210b58c5e17d-7...         0.0  \n",
       "4  546e0e5c-83f8-4f28-8e10-804b950d210b571f4eec-6...         0.0  \n",
       "5  546e0e5c-83f8-4f28-8e10-804b950d210b54dc66a3-7...         0.0  "
      ]
     },
     "execution_count": 46,
     "metadata": {},
     "output_type": "execute_result"
    }
   ],
   "source": [
    "df_merged.head()"
   ]
  },
  {
   "cell_type": "code",
   "execution_count": 47,
   "metadata": {
    "pycharm": {
     "is_executing": true,
     "name": "#%%\n"
    }
   },
   "outputs": [
    {
     "data": {
      "text/html": [
       "<div>\n",
       "<style scoped>\n",
       "    .dataframe tbody tr th:only-of-type {\n",
       "        vertical-align: middle;\n",
       "    }\n",
       "\n",
       "    .dataframe tbody tr th {\n",
       "        vertical-align: top;\n",
       "    }\n",
       "\n",
       "    .dataframe thead th {\n",
       "        text-align: right;\n",
       "    }\n",
       "</style>\n",
       "<table border=\"1\" class=\"dataframe\">\n",
       "  <thead>\n",
       "    <tr style=\"text-align: right;\">\n",
       "      <th></th>\n",
       "      <th>uuid_x</th>\n",
       "      <th>event_id_x</th>\n",
       "      <th>value_x</th>\n",
       "      <th>domain_x</th>\n",
       "      <th>asn_registry_x</th>\n",
       "      <th>asn_x</th>\n",
       "      <th>asn_cidr_x</th>\n",
       "      <th>country_code_x</th>\n",
       "      <th>pdns_x</th>\n",
       "      <th>uuid_y</th>\n",
       "      <th>event_id_y</th>\n",
       "      <th>value_y</th>\n",
       "      <th>domain_y</th>\n",
       "      <th>asn_registry_y</th>\n",
       "      <th>asn_y</th>\n",
       "      <th>asn_cidr_y</th>\n",
       "      <th>country_code_y</th>\n",
       "      <th>pdns_y</th>\n",
       "      <th>check_string</th>\n",
       "      <th>similarity</th>\n",
       "    </tr>\n",
       "  </thead>\n",
       "  <tbody>\n",
       "    <tr>\n",
       "      <th>389</th>\n",
       "      <td>58c5e17d-702e-4128-b3ae-559fea3d324c</td>\n",
       "      <td>1190</td>\n",
       "      <td>24.97.129.36</td>\n",
       "      <td>rr</td>\n",
       "      <td>arin</td>\n",
       "      <td>11351</td>\n",
       "      <td>24.97.0.0/16</td>\n",
       "      <td>US</td>\n",
       "      <td>NaN</td>\n",
       "      <td>c03aeb6f-21d8-44f6-8874-18547f9ad0c3</td>\n",
       "      <td>1190</td>\n",
       "      <td>70.60.153.206</td>\n",
       "      <td>rr</td>\n",
       "      <td>arin</td>\n",
       "      <td>10796</td>\n",
       "      <td>70.60.144.0/20</td>\n",
       "      <td>US</td>\n",
       "      <td>NaN</td>\n",
       "      <td>58c5e17d-702e-4128-b3ae-559fea3d324cc03aeb6f-2...</td>\n",
       "      <td>0.500000</td>\n",
       "    </tr>\n",
       "    <tr>\n",
       "      <th>914</th>\n",
       "      <td>54dc66ef-26e4-484f-a04d-a308950d210b</td>\n",
       "      <td>46</td>\n",
       "      <td>54.173.157.23</td>\n",
       "      <td>amazonaws</td>\n",
       "      <td>arin</td>\n",
       "      <td>14618</td>\n",
       "      <td>54.172.0.0/15</td>\n",
       "      <td>US</td>\n",
       "      <td>NaN</td>\n",
       "      <td>54dc66e7-8ab0-4d6a-aab7-a308950d210b</td>\n",
       "      <td>46</td>\n",
       "      <td>54.193.34.194</td>\n",
       "      <td>amazonaws</td>\n",
       "      <td>arin</td>\n",
       "      <td>16509</td>\n",
       "      <td>54.193.0.0/17</td>\n",
       "      <td>US</td>\n",
       "      <td>NaN</td>\n",
       "      <td>54dc66e7-8ab0-4d6a-aab7-a308950d210b54dc66ef-2...</td>\n",
       "      <td>0.500000</td>\n",
       "    </tr>\n",
       "    <tr>\n",
       "      <th>928</th>\n",
       "      <td>54dc66ef-26e4-484f-a04d-a308950d210b</td>\n",
       "      <td>46</td>\n",
       "      <td>54.173.157.23</td>\n",
       "      <td>amazonaws</td>\n",
       "      <td>arin</td>\n",
       "      <td>14618</td>\n",
       "      <td>54.172.0.0/15</td>\n",
       "      <td>US</td>\n",
       "      <td>NaN</td>\n",
       "      <td>54dc671c-d978-4348-878b-a308950d210b</td>\n",
       "      <td>46</td>\n",
       "      <td>54.72.124.107</td>\n",
       "      <td>amazonaws</td>\n",
       "      <td>arin</td>\n",
       "      <td>16509</td>\n",
       "      <td>54.72.0.0/16</td>\n",
       "      <td>US</td>\n",
       "      <td>NaN</td>\n",
       "      <td>54dc66ef-26e4-484f-a04d-a308950d210b54dc671c-d...</td>\n",
       "      <td>0.500000</td>\n",
       "    </tr>\n",
       "    <tr>\n",
       "      <th>930</th>\n",
       "      <td>54dc66ef-26e4-484f-a04d-a308950d210b</td>\n",
       "      <td>46</td>\n",
       "      <td>54.173.157.23</td>\n",
       "      <td>amazonaws</td>\n",
       "      <td>arin</td>\n",
       "      <td>14618</td>\n",
       "      <td>54.172.0.0/15</td>\n",
       "      <td>US</td>\n",
       "      <td>NaN</td>\n",
       "      <td>54dc6754-bcd0-4bb4-af92-a308950d210b</td>\n",
       "      <td>46</td>\n",
       "      <td>54.149.76.227</td>\n",
       "      <td>amazonaws</td>\n",
       "      <td>arin</td>\n",
       "      <td>16509</td>\n",
       "      <td>54.148.0.0/15</td>\n",
       "      <td>US</td>\n",
       "      <td>NaN</td>\n",
       "      <td>54dc66ef-26e4-484f-a04d-a308950d210b54dc6754-b...</td>\n",
       "      <td>0.500000</td>\n",
       "    </tr>\n",
       "    <tr>\n",
       "      <th>947</th>\n",
       "      <td>54dc66ef-26e4-484f-a04d-a308950d210b</td>\n",
       "      <td>46</td>\n",
       "      <td>54.173.157.23</td>\n",
       "      <td>amazonaws</td>\n",
       "      <td>arin</td>\n",
       "      <td>14618</td>\n",
       "      <td>54.172.0.0/15</td>\n",
       "      <td>US</td>\n",
       "      <td>NaN</td>\n",
       "      <td>8938b6ee-c88e-4df8-8218-55df2f37375a</td>\n",
       "      <td>1190</td>\n",
       "      <td>13.127.218.140</td>\n",
       "      <td>amazonaws</td>\n",
       "      <td>arin</td>\n",
       "      <td>16509</td>\n",
       "      <td>13.126.0.0/15</td>\n",
       "      <td>US</td>\n",
       "      <td>NaN</td>\n",
       "      <td>54dc66ef-26e4-484f-a04d-a308950d210b8938b6ee-c...</td>\n",
       "      <td>0.500000</td>\n",
       "    </tr>\n",
       "    <tr>\n",
       "      <th>948</th>\n",
       "      <td>54dc66ef-26e4-484f-a04d-a308950d210b</td>\n",
       "      <td>46</td>\n",
       "      <td>54.173.157.23</td>\n",
       "      <td>amazonaws</td>\n",
       "      <td>arin</td>\n",
       "      <td>14618</td>\n",
       "      <td>54.172.0.0/15</td>\n",
       "      <td>US</td>\n",
       "      <td>NaN</td>\n",
       "      <td>54dc66e8-acb8-46fc-a628-a308950d210b</td>\n",
       "      <td>46</td>\n",
       "      <td>54.187.236.253</td>\n",
       "      <td>amazonaws</td>\n",
       "      <td>arin</td>\n",
       "      <td>16509</td>\n",
       "      <td>54.186.0.0/15</td>\n",
       "      <td>US</td>\n",
       "      <td>NaN</td>\n",
       "      <td>54dc66e8-acb8-46fc-a628-a308950d210b54dc66ef-2...</td>\n",
       "      <td>0.500000</td>\n",
       "    </tr>\n",
       "    <tr>\n",
       "      <th>969</th>\n",
       "      <td>54dc66ef-26e4-484f-a04d-a308950d210b</td>\n",
       "      <td>46</td>\n",
       "      <td>54.173.157.23</td>\n",
       "      <td>amazonaws</td>\n",
       "      <td>arin</td>\n",
       "      <td>14618</td>\n",
       "      <td>54.172.0.0/15</td>\n",
       "      <td>US</td>\n",
       "      <td>NaN</td>\n",
       "      <td>0e8a4bd9-8083-47ae-beaa-51b3245fd68a</td>\n",
       "      <td>1190</td>\n",
       "      <td>44.234.20.79</td>\n",
       "      <td>amazonaws</td>\n",
       "      <td>arin</td>\n",
       "      <td>16509</td>\n",
       "      <td>44.224.0.0/11</td>\n",
       "      <td>US</td>\n",
       "      <td>NaN</td>\n",
       "      <td>0e8a4bd9-8083-47ae-beaa-51b3245fd68a54dc66ef-2...</td>\n",
       "      <td>0.500000</td>\n",
       "    </tr>\n",
       "    <tr>\n",
       "      <th>973</th>\n",
       "      <td>54dc66ef-26e4-484f-a04d-a308950d210b</td>\n",
       "      <td>46</td>\n",
       "      <td>54.173.157.23</td>\n",
       "      <td>amazonaws</td>\n",
       "      <td>arin</td>\n",
       "      <td>14618</td>\n",
       "      <td>54.172.0.0/15</td>\n",
       "      <td>US</td>\n",
       "      <td>NaN</td>\n",
       "      <td>54dc66e2-4e88-4489-a776-a308950d210b</td>\n",
       "      <td>46</td>\n",
       "      <td>54.67.29.56</td>\n",
       "      <td>amazonaws</td>\n",
       "      <td>arin</td>\n",
       "      <td>16509</td>\n",
       "      <td>54.67.0.0/17</td>\n",
       "      <td>US</td>\n",
       "      <td>NaN</td>\n",
       "      <td>54dc66e2-4e88-4489-a776-a308950d210b54dc66ef-2...</td>\n",
       "      <td>0.500000</td>\n",
       "    </tr>\n",
       "    <tr>\n",
       "      <th>1428</th>\n",
       "      <td>54dc66e7-8ab0-4d6a-aab7-a308950d210b</td>\n",
       "      <td>46</td>\n",
       "      <td>54.193.34.194</td>\n",
       "      <td>amazonaws</td>\n",
       "      <td>arin</td>\n",
       "      <td>16509</td>\n",
       "      <td>54.193.0.0/17</td>\n",
       "      <td>US</td>\n",
       "      <td>NaN</td>\n",
       "      <td>54dc671c-d978-4348-878b-a308950d210b</td>\n",
       "      <td>46</td>\n",
       "      <td>54.72.124.107</td>\n",
       "      <td>amazonaws</td>\n",
       "      <td>arin</td>\n",
       "      <td>16509</td>\n",
       "      <td>54.72.0.0/16</td>\n",
       "      <td>US</td>\n",
       "      <td>NaN</td>\n",
       "      <td>54dc66e7-8ab0-4d6a-aab7-a308950d210b54dc671c-d...</td>\n",
       "      <td>0.666667</td>\n",
       "    </tr>\n",
       "    <tr>\n",
       "      <th>1430</th>\n",
       "      <td>54dc66e7-8ab0-4d6a-aab7-a308950d210b</td>\n",
       "      <td>46</td>\n",
       "      <td>54.193.34.194</td>\n",
       "      <td>amazonaws</td>\n",
       "      <td>arin</td>\n",
       "      <td>16509</td>\n",
       "      <td>54.193.0.0/17</td>\n",
       "      <td>US</td>\n",
       "      <td>NaN</td>\n",
       "      <td>54dc6754-bcd0-4bb4-af92-a308950d210b</td>\n",
       "      <td>46</td>\n",
       "      <td>54.149.76.227</td>\n",
       "      <td>amazonaws</td>\n",
       "      <td>arin</td>\n",
       "      <td>16509</td>\n",
       "      <td>54.148.0.0/15</td>\n",
       "      <td>US</td>\n",
       "      <td>NaN</td>\n",
       "      <td>54dc66e7-8ab0-4d6a-aab7-a308950d210b54dc6754-b...</td>\n",
       "      <td>0.666667</td>\n",
       "    </tr>\n",
       "    <tr>\n",
       "      <th>1447</th>\n",
       "      <td>54dc66e7-8ab0-4d6a-aab7-a308950d210b</td>\n",
       "      <td>46</td>\n",
       "      <td>54.193.34.194</td>\n",
       "      <td>amazonaws</td>\n",
       "      <td>arin</td>\n",
       "      <td>16509</td>\n",
       "      <td>54.193.0.0/17</td>\n",
       "      <td>US</td>\n",
       "      <td>NaN</td>\n",
       "      <td>8938b6ee-c88e-4df8-8218-55df2f37375a</td>\n",
       "      <td>1190</td>\n",
       "      <td>13.127.218.140</td>\n",
       "      <td>amazonaws</td>\n",
       "      <td>arin</td>\n",
       "      <td>16509</td>\n",
       "      <td>13.126.0.0/15</td>\n",
       "      <td>US</td>\n",
       "      <td>NaN</td>\n",
       "      <td>54dc66e7-8ab0-4d6a-aab7-a308950d210b8938b6ee-c...</td>\n",
       "      <td>0.666667</td>\n",
       "    </tr>\n",
       "    <tr>\n",
       "      <th>1448</th>\n",
       "      <td>54dc66e7-8ab0-4d6a-aab7-a308950d210b</td>\n",
       "      <td>46</td>\n",
       "      <td>54.193.34.194</td>\n",
       "      <td>amazonaws</td>\n",
       "      <td>arin</td>\n",
       "      <td>16509</td>\n",
       "      <td>54.193.0.0/17</td>\n",
       "      <td>US</td>\n",
       "      <td>NaN</td>\n",
       "      <td>54dc66e8-acb8-46fc-a628-a308950d210b</td>\n",
       "      <td>46</td>\n",
       "      <td>54.187.236.253</td>\n",
       "      <td>amazonaws</td>\n",
       "      <td>arin</td>\n",
       "      <td>16509</td>\n",
       "      <td>54.186.0.0/15</td>\n",
       "      <td>US</td>\n",
       "      <td>NaN</td>\n",
       "      <td>54dc66e7-8ab0-4d6a-aab7-a308950d210b54dc66e8-a...</td>\n",
       "      <td>0.666667</td>\n",
       "    </tr>\n",
       "    <tr>\n",
       "      <th>1469</th>\n",
       "      <td>54dc66e7-8ab0-4d6a-aab7-a308950d210b</td>\n",
       "      <td>46</td>\n",
       "      <td>54.193.34.194</td>\n",
       "      <td>amazonaws</td>\n",
       "      <td>arin</td>\n",
       "      <td>16509</td>\n",
       "      <td>54.193.0.0/17</td>\n",
       "      <td>US</td>\n",
       "      <td>NaN</td>\n",
       "      <td>0e8a4bd9-8083-47ae-beaa-51b3245fd68a</td>\n",
       "      <td>1190</td>\n",
       "      <td>44.234.20.79</td>\n",
       "      <td>amazonaws</td>\n",
       "      <td>arin</td>\n",
       "      <td>16509</td>\n",
       "      <td>44.224.0.0/11</td>\n",
       "      <td>US</td>\n",
       "      <td>NaN</td>\n",
       "      <td>0e8a4bd9-8083-47ae-beaa-51b3245fd68a54dc66e7-8...</td>\n",
       "      <td>0.666667</td>\n",
       "    </tr>\n",
       "    <tr>\n",
       "      <th>1473</th>\n",
       "      <td>54dc66e7-8ab0-4d6a-aab7-a308950d210b</td>\n",
       "      <td>46</td>\n",
       "      <td>54.193.34.194</td>\n",
       "      <td>amazonaws</td>\n",
       "      <td>arin</td>\n",
       "      <td>16509</td>\n",
       "      <td>54.193.0.0/17</td>\n",
       "      <td>US</td>\n",
       "      <td>NaN</td>\n",
       "      <td>54dc66e2-4e88-4489-a776-a308950d210b</td>\n",
       "      <td>46</td>\n",
       "      <td>54.67.29.56</td>\n",
       "      <td>amazonaws</td>\n",
       "      <td>arin</td>\n",
       "      <td>16509</td>\n",
       "      <td>54.67.0.0/17</td>\n",
       "      <td>US</td>\n",
       "      <td>NaN</td>\n",
       "      <td>54dc66e2-4e88-4489-a776-a308950d210b54dc66e7-8...</td>\n",
       "      <td>0.666667</td>\n",
       "    </tr>\n",
       "    <tr>\n",
       "      <th>2361</th>\n",
       "      <td>5721bfef-7c74-4b55-9dd9-4242950d210f</td>\n",
       "      <td>269</td>\n",
       "      <td>107.180.51.235</td>\n",
       "      <td>secureserver</td>\n",
       "      <td>arin</td>\n",
       "      <td>26496</td>\n",
       "      <td>107.180.0.0/18</td>\n",
       "      <td>US</td>\n",
       "      <td>[107.180.51.235, 107.180.51.235, ns24.domainco...</td>\n",
       "      <td>577212e1-ecd4-4f76-bfbc-43ab950d210f</td>\n",
       "      <td>321</td>\n",
       "      <td>192.186.246.134</td>\n",
       "      <td>secureserver</td>\n",
       "      <td>arin</td>\n",
       "      <td>398101</td>\n",
       "      <td>192.186.244.0/22</td>\n",
       "      <td>US</td>\n",
       "      <td>NaN</td>\n",
       "      <td>5721bfef-7c74-4b55-9dd9-4242950d210f577212e1-e...</td>\n",
       "      <td>0.500000</td>\n",
       "    </tr>\n",
       "    <tr>\n",
       "      <th>2372</th>\n",
       "      <td>5721bfef-7c74-4b55-9dd9-4242950d210f</td>\n",
       "      <td>269</td>\n",
       "      <td>107.180.51.235</td>\n",
       "      <td>secureserver</td>\n",
       "      <td>arin</td>\n",
       "      <td>26496</td>\n",
       "      <td>107.180.0.0/18</td>\n",
       "      <td>US</td>\n",
       "      <td>[107.180.51.235, 107.180.51.235, ns24.domainco...</td>\n",
       "      <td>54c76131-8f8c-4db3-9db7-f80d950d210b</td>\n",
       "      <td>43</td>\n",
       "      <td>50.63.202.62</td>\n",
       "      <td>secureserver</td>\n",
       "      <td>arin</td>\n",
       "      <td>26496</td>\n",
       "      <td>50.63.200.0/22</td>\n",
       "      <td>US</td>\n",
       "      <td>[ns100.rookdns.com, 141.8.224.239, ns99.rookdn...</td>\n",
       "      <td>54c76131-8f8c-4db3-9db7-f80d950d210b5721bfef-7...</td>\n",
       "      <td>0.833333</td>\n",
       "    </tr>\n",
       "    <tr>\n",
       "      <th>2830</th>\n",
       "      <td>54dc671c-d978-4348-878b-a308950d210b</td>\n",
       "      <td>46</td>\n",
       "      <td>54.72.124.107</td>\n",
       "      <td>amazonaws</td>\n",
       "      <td>arin</td>\n",
       "      <td>16509</td>\n",
       "      <td>54.72.0.0/16</td>\n",
       "      <td>US</td>\n",
       "      <td>NaN</td>\n",
       "      <td>54dc6754-bcd0-4bb4-af92-a308950d210b</td>\n",
       "      <td>46</td>\n",
       "      <td>54.149.76.227</td>\n",
       "      <td>amazonaws</td>\n",
       "      <td>arin</td>\n",
       "      <td>16509</td>\n",
       "      <td>54.148.0.0/15</td>\n",
       "      <td>US</td>\n",
       "      <td>NaN</td>\n",
       "      <td>54dc671c-d978-4348-878b-a308950d210b54dc6754-b...</td>\n",
       "      <td>0.666667</td>\n",
       "    </tr>\n",
       "    <tr>\n",
       "      <th>2847</th>\n",
       "      <td>54dc671c-d978-4348-878b-a308950d210b</td>\n",
       "      <td>46</td>\n",
       "      <td>54.72.124.107</td>\n",
       "      <td>amazonaws</td>\n",
       "      <td>arin</td>\n",
       "      <td>16509</td>\n",
       "      <td>54.72.0.0/16</td>\n",
       "      <td>US</td>\n",
       "      <td>NaN</td>\n",
       "      <td>8938b6ee-c88e-4df8-8218-55df2f37375a</td>\n",
       "      <td>1190</td>\n",
       "      <td>13.127.218.140</td>\n",
       "      <td>amazonaws</td>\n",
       "      <td>arin</td>\n",
       "      <td>16509</td>\n",
       "      <td>13.126.0.0/15</td>\n",
       "      <td>US</td>\n",
       "      <td>NaN</td>\n",
       "      <td>54dc671c-d978-4348-878b-a308950d210b8938b6ee-c...</td>\n",
       "      <td>0.666667</td>\n",
       "    </tr>\n",
       "    <tr>\n",
       "      <th>2848</th>\n",
       "      <td>54dc671c-d978-4348-878b-a308950d210b</td>\n",
       "      <td>46</td>\n",
       "      <td>54.72.124.107</td>\n",
       "      <td>amazonaws</td>\n",
       "      <td>arin</td>\n",
       "      <td>16509</td>\n",
       "      <td>54.72.0.0/16</td>\n",
       "      <td>US</td>\n",
       "      <td>NaN</td>\n",
       "      <td>54dc66e8-acb8-46fc-a628-a308950d210b</td>\n",
       "      <td>46</td>\n",
       "      <td>54.187.236.253</td>\n",
       "      <td>amazonaws</td>\n",
       "      <td>arin</td>\n",
       "      <td>16509</td>\n",
       "      <td>54.186.0.0/15</td>\n",
       "      <td>US</td>\n",
       "      <td>NaN</td>\n",
       "      <td>54dc66e8-acb8-46fc-a628-a308950d210b54dc671c-d...</td>\n",
       "      <td>0.666667</td>\n",
       "    </tr>\n",
       "    <tr>\n",
       "      <th>2869</th>\n",
       "      <td>54dc671c-d978-4348-878b-a308950d210b</td>\n",
       "      <td>46</td>\n",
       "      <td>54.72.124.107</td>\n",
       "      <td>amazonaws</td>\n",
       "      <td>arin</td>\n",
       "      <td>16509</td>\n",
       "      <td>54.72.0.0/16</td>\n",
       "      <td>US</td>\n",
       "      <td>NaN</td>\n",
       "      <td>0e8a4bd9-8083-47ae-beaa-51b3245fd68a</td>\n",
       "      <td>1190</td>\n",
       "      <td>44.234.20.79</td>\n",
       "      <td>amazonaws</td>\n",
       "      <td>arin</td>\n",
       "      <td>16509</td>\n",
       "      <td>44.224.0.0/11</td>\n",
       "      <td>US</td>\n",
       "      <td>NaN</td>\n",
       "      <td>0e8a4bd9-8083-47ae-beaa-51b3245fd68a54dc671c-d...</td>\n",
       "      <td>0.666667</td>\n",
       "    </tr>\n",
       "    <tr>\n",
       "      <th>2873</th>\n",
       "      <td>54dc671c-d978-4348-878b-a308950d210b</td>\n",
       "      <td>46</td>\n",
       "      <td>54.72.124.107</td>\n",
       "      <td>amazonaws</td>\n",
       "      <td>arin</td>\n",
       "      <td>16509</td>\n",
       "      <td>54.72.0.0/16</td>\n",
       "      <td>US</td>\n",
       "      <td>NaN</td>\n",
       "      <td>54dc66e2-4e88-4489-a776-a308950d210b</td>\n",
       "      <td>46</td>\n",
       "      <td>54.67.29.56</td>\n",
       "      <td>amazonaws</td>\n",
       "      <td>arin</td>\n",
       "      <td>16509</td>\n",
       "      <td>54.67.0.0/17</td>\n",
       "      <td>US</td>\n",
       "      <td>NaN</td>\n",
       "      <td>54dc66e2-4e88-4489-a776-a308950d210b54dc671c-d...</td>\n",
       "      <td>0.666667</td>\n",
       "    </tr>\n",
       "    <tr>\n",
       "      <th>3047</th>\n",
       "      <td>54dc6754-bcd0-4bb4-af92-a308950d210b</td>\n",
       "      <td>46</td>\n",
       "      <td>54.149.76.227</td>\n",
       "      <td>amazonaws</td>\n",
       "      <td>arin</td>\n",
       "      <td>16509</td>\n",
       "      <td>54.148.0.0/15</td>\n",
       "      <td>US</td>\n",
       "      <td>NaN</td>\n",
       "      <td>8938b6ee-c88e-4df8-8218-55df2f37375a</td>\n",
       "      <td>1190</td>\n",
       "      <td>13.127.218.140</td>\n",
       "      <td>amazonaws</td>\n",
       "      <td>arin</td>\n",
       "      <td>16509</td>\n",
       "      <td>13.126.0.0/15</td>\n",
       "      <td>US</td>\n",
       "      <td>NaN</td>\n",
       "      <td>54dc6754-bcd0-4bb4-af92-a308950d210b8938b6ee-c...</td>\n",
       "      <td>0.666667</td>\n",
       "    </tr>\n",
       "    <tr>\n",
       "      <th>3048</th>\n",
       "      <td>54dc6754-bcd0-4bb4-af92-a308950d210b</td>\n",
       "      <td>46</td>\n",
       "      <td>54.149.76.227</td>\n",
       "      <td>amazonaws</td>\n",
       "      <td>arin</td>\n",
       "      <td>16509</td>\n",
       "      <td>54.148.0.0/15</td>\n",
       "      <td>US</td>\n",
       "      <td>NaN</td>\n",
       "      <td>54dc66e8-acb8-46fc-a628-a308950d210b</td>\n",
       "      <td>46</td>\n",
       "      <td>54.187.236.253</td>\n",
       "      <td>amazonaws</td>\n",
       "      <td>arin</td>\n",
       "      <td>16509</td>\n",
       "      <td>54.186.0.0/15</td>\n",
       "      <td>US</td>\n",
       "      <td>NaN</td>\n",
       "      <td>54dc66e8-acb8-46fc-a628-a308950d210b54dc6754-b...</td>\n",
       "      <td>0.666667</td>\n",
       "    </tr>\n",
       "    <tr>\n",
       "      <th>3069</th>\n",
       "      <td>54dc6754-bcd0-4bb4-af92-a308950d210b</td>\n",
       "      <td>46</td>\n",
       "      <td>54.149.76.227</td>\n",
       "      <td>amazonaws</td>\n",
       "      <td>arin</td>\n",
       "      <td>16509</td>\n",
       "      <td>54.148.0.0/15</td>\n",
       "      <td>US</td>\n",
       "      <td>NaN</td>\n",
       "      <td>0e8a4bd9-8083-47ae-beaa-51b3245fd68a</td>\n",
       "      <td>1190</td>\n",
       "      <td>44.234.20.79</td>\n",
       "      <td>amazonaws</td>\n",
       "      <td>arin</td>\n",
       "      <td>16509</td>\n",
       "      <td>44.224.0.0/11</td>\n",
       "      <td>US</td>\n",
       "      <td>NaN</td>\n",
       "      <td>0e8a4bd9-8083-47ae-beaa-51b3245fd68a54dc6754-b...</td>\n",
       "      <td>0.666667</td>\n",
       "    </tr>\n",
       "    <tr>\n",
       "      <th>3073</th>\n",
       "      <td>54dc6754-bcd0-4bb4-af92-a308950d210b</td>\n",
       "      <td>46</td>\n",
       "      <td>54.149.76.227</td>\n",
       "      <td>amazonaws</td>\n",
       "      <td>arin</td>\n",
       "      <td>16509</td>\n",
       "      <td>54.148.0.0/15</td>\n",
       "      <td>US</td>\n",
       "      <td>NaN</td>\n",
       "      <td>54dc66e2-4e88-4489-a776-a308950d210b</td>\n",
       "      <td>46</td>\n",
       "      <td>54.67.29.56</td>\n",
       "      <td>amazonaws</td>\n",
       "      <td>arin</td>\n",
       "      <td>16509</td>\n",
       "      <td>54.67.0.0/17</td>\n",
       "      <td>US</td>\n",
       "      <td>NaN</td>\n",
       "      <td>54dc66e2-4e88-4489-a776-a308950d210b54dc6754-b...</td>\n",
       "      <td>0.666667</td>\n",
       "    </tr>\n",
       "    <tr>\n",
       "      <th>3563</th>\n",
       "      <td>efdf2c15-2235-49d0-b351-52c8ea754881</td>\n",
       "      <td>1190</td>\n",
       "      <td>62.171.161.55</td>\n",
       "      <td>b2bounty</td>\n",
       "      <td>ripencc</td>\n",
       "      <td>51167</td>\n",
       "      <td>62.171.160.0/23</td>\n",
       "      <td>DE</td>\n",
       "      <td>NaN</td>\n",
       "      <td>56e96498-545c-40a2-84d7-47fd950d210f</td>\n",
       "      <td>208</td>\n",
       "      <td>213.136.73.122</td>\n",
       "      <td>fairplayhost</td>\n",
       "      <td>ripencc</td>\n",
       "      <td>51167</td>\n",
       "      <td>213.136.72.0/23</td>\n",
       "      <td>DE</td>\n",
       "      <td>[213.136.73.122, 2a02:c207:2009:742::1]</td>\n",
       "      <td>56e96498-545c-40a2-84d7-47fd950d210fefdf2c15-2...</td>\n",
       "      <td>0.500000</td>\n",
       "    </tr>\n",
       "    <tr>\n",
       "      <th>4088</th>\n",
       "      <td>cb5c015c-73fd-4801-987b-7e9604cc215d</td>\n",
       "      <td>1213</td>\n",
       "      <td>149.28.14.163</td>\n",
       "      <td>vultr</td>\n",
       "      <td>arin</td>\n",
       "      <td>20473</td>\n",
       "      <td>149.28.8.0/21</td>\n",
       "      <td>US</td>\n",
       "      <td>NaN</td>\n",
       "      <td>57a89e4c-60b8-4768-992f-4019950d210f</td>\n",
       "      <td>366</td>\n",
       "      <td>45.32.154.141</td>\n",
       "      <td>geekme</td>\n",
       "      <td>arin</td>\n",
       "      <td>20473</td>\n",
       "      <td>45.32.152.0/21</td>\n",
       "      <td>US</td>\n",
       "      <td>NaN</td>\n",
       "      <td>57a89e4c-60b8-4768-992f-4019950d210fcb5c015c-7...</td>\n",
       "      <td>0.500000</td>\n",
       "    </tr>\n",
       "    <tr>\n",
       "      <th>4748</th>\n",
       "      <td>8938b6ee-c88e-4df8-8218-55df2f37375a</td>\n",
       "      <td>1190</td>\n",
       "      <td>13.127.218.140</td>\n",
       "      <td>amazonaws</td>\n",
       "      <td>arin</td>\n",
       "      <td>16509</td>\n",
       "      <td>13.126.0.0/15</td>\n",
       "      <td>US</td>\n",
       "      <td>NaN</td>\n",
       "      <td>54dc66e8-acb8-46fc-a628-a308950d210b</td>\n",
       "      <td>46</td>\n",
       "      <td>54.187.236.253</td>\n",
       "      <td>amazonaws</td>\n",
       "      <td>arin</td>\n",
       "      <td>16509</td>\n",
       "      <td>54.186.0.0/15</td>\n",
       "      <td>US</td>\n",
       "      <td>NaN</td>\n",
       "      <td>54dc66e8-acb8-46fc-a628-a308950d210b8938b6ee-c...</td>\n",
       "      <td>0.666667</td>\n",
       "    </tr>\n",
       "    <tr>\n",
       "      <th>4769</th>\n",
       "      <td>8938b6ee-c88e-4df8-8218-55df2f37375a</td>\n",
       "      <td>1190</td>\n",
       "      <td>13.127.218.140</td>\n",
       "      <td>amazonaws</td>\n",
       "      <td>arin</td>\n",
       "      <td>16509</td>\n",
       "      <td>13.126.0.0/15</td>\n",
       "      <td>US</td>\n",
       "      <td>NaN</td>\n",
       "      <td>0e8a4bd9-8083-47ae-beaa-51b3245fd68a</td>\n",
       "      <td>1190</td>\n",
       "      <td>44.234.20.79</td>\n",
       "      <td>amazonaws</td>\n",
       "      <td>arin</td>\n",
       "      <td>16509</td>\n",
       "      <td>44.224.0.0/11</td>\n",
       "      <td>US</td>\n",
       "      <td>NaN</td>\n",
       "      <td>0e8a4bd9-8083-47ae-beaa-51b3245fd68a8938b6ee-c...</td>\n",
       "      <td>0.666667</td>\n",
       "    </tr>\n",
       "    <tr>\n",
       "      <th>4773</th>\n",
       "      <td>8938b6ee-c88e-4df8-8218-55df2f37375a</td>\n",
       "      <td>1190</td>\n",
       "      <td>13.127.218.140</td>\n",
       "      <td>amazonaws</td>\n",
       "      <td>arin</td>\n",
       "      <td>16509</td>\n",
       "      <td>13.126.0.0/15</td>\n",
       "      <td>US</td>\n",
       "      <td>NaN</td>\n",
       "      <td>54dc66e2-4e88-4489-a776-a308950d210b</td>\n",
       "      <td>46</td>\n",
       "      <td>54.67.29.56</td>\n",
       "      <td>amazonaws</td>\n",
       "      <td>arin</td>\n",
       "      <td>16509</td>\n",
       "      <td>54.67.0.0/17</td>\n",
       "      <td>US</td>\n",
       "      <td>NaN</td>\n",
       "      <td>54dc66e2-4e88-4489-a776-a308950d210b8938b6ee-c...</td>\n",
       "      <td>0.666667</td>\n",
       "    </tr>\n",
       "    <tr>\n",
       "      <th>4869</th>\n",
       "      <td>54dc66e8-acb8-46fc-a628-a308950d210b</td>\n",
       "      <td>46</td>\n",
       "      <td>54.187.236.253</td>\n",
       "      <td>amazonaws</td>\n",
       "      <td>arin</td>\n",
       "      <td>16509</td>\n",
       "      <td>54.186.0.0/15</td>\n",
       "      <td>US</td>\n",
       "      <td>NaN</td>\n",
       "      <td>0e8a4bd9-8083-47ae-beaa-51b3245fd68a</td>\n",
       "      <td>1190</td>\n",
       "      <td>44.234.20.79</td>\n",
       "      <td>amazonaws</td>\n",
       "      <td>arin</td>\n",
       "      <td>16509</td>\n",
       "      <td>44.224.0.0/11</td>\n",
       "      <td>US</td>\n",
       "      <td>NaN</td>\n",
       "      <td>0e8a4bd9-8083-47ae-beaa-51b3245fd68a54dc66e8-a...</td>\n",
       "      <td>0.666667</td>\n",
       "    </tr>\n",
       "    <tr>\n",
       "      <th>4873</th>\n",
       "      <td>54dc66e8-acb8-46fc-a628-a308950d210b</td>\n",
       "      <td>46</td>\n",
       "      <td>54.187.236.253</td>\n",
       "      <td>amazonaws</td>\n",
       "      <td>arin</td>\n",
       "      <td>16509</td>\n",
       "      <td>54.186.0.0/15</td>\n",
       "      <td>US</td>\n",
       "      <td>NaN</td>\n",
       "      <td>54dc66e2-4e88-4489-a776-a308950d210b</td>\n",
       "      <td>46</td>\n",
       "      <td>54.67.29.56</td>\n",
       "      <td>amazonaws</td>\n",
       "      <td>arin</td>\n",
       "      <td>16509</td>\n",
       "      <td>54.67.0.0/17</td>\n",
       "      <td>US</td>\n",
       "      <td>NaN</td>\n",
       "      <td>54dc66e2-4e88-4489-a776-a308950d210b54dc66e8-a...</td>\n",
       "      <td>0.666667</td>\n",
       "    </tr>\n",
       "    <tr>\n",
       "      <th>6172</th>\n",
       "      <td>577212e1-ecd4-4f76-bfbc-43ab950d210f</td>\n",
       "      <td>321</td>\n",
       "      <td>192.186.246.134</td>\n",
       "      <td>secureserver</td>\n",
       "      <td>arin</td>\n",
       "      <td>398101</td>\n",
       "      <td>192.186.244.0/22</td>\n",
       "      <td>US</td>\n",
       "      <td>NaN</td>\n",
       "      <td>54c76131-8f8c-4db3-9db7-f80d950d210b</td>\n",
       "      <td>43</td>\n",
       "      <td>50.63.202.62</td>\n",
       "      <td>secureserver</td>\n",
       "      <td>arin</td>\n",
       "      <td>26496</td>\n",
       "      <td>50.63.200.0/22</td>\n",
       "      <td>US</td>\n",
       "      <td>[ns100.rookdns.com, 141.8.224.239, ns99.rookdn...</td>\n",
       "      <td>54c76131-8f8c-4db3-9db7-f80d950d210b577212e1-e...</td>\n",
       "      <td>0.500000</td>\n",
       "    </tr>\n",
       "    <tr>\n",
       "      <th>6973</th>\n",
       "      <td>0e8a4bd9-8083-47ae-beaa-51b3245fd68a</td>\n",
       "      <td>1190</td>\n",
       "      <td>44.234.20.79</td>\n",
       "      <td>amazonaws</td>\n",
       "      <td>arin</td>\n",
       "      <td>16509</td>\n",
       "      <td>44.224.0.0/11</td>\n",
       "      <td>US</td>\n",
       "      <td>NaN</td>\n",
       "      <td>54dc66e2-4e88-4489-a776-a308950d210b</td>\n",
       "      <td>46</td>\n",
       "      <td>54.67.29.56</td>\n",
       "      <td>amazonaws</td>\n",
       "      <td>arin</td>\n",
       "      <td>16509</td>\n",
       "      <td>54.67.0.0/17</td>\n",
       "      <td>US</td>\n",
       "      <td>NaN</td>\n",
       "      <td>0e8a4bd9-8083-47ae-beaa-51b3245fd68a54dc66e2-4...</td>\n",
       "      <td>0.666667</td>\n",
       "    </tr>\n",
       "    <tr>\n",
       "      <th>9899</th>\n",
       "      <td>57c43f1a-8c64-4603-b7d4-4d35950d210f</td>\n",
       "      <td>404</td>\n",
       "      <td>66.147.240.193</td>\n",
       "      <td>hostmonster</td>\n",
       "      <td>arin</td>\n",
       "      <td>46606</td>\n",
       "      <td>66.147.240.0/20</td>\n",
       "      <td>US</td>\n",
       "      <td>[ns2.hostmonster.com, ns1.hostmonster.com, 66....</td>\n",
       "      <td>54e1af97-c290-4e5e-9f3d-4346950d210b</td>\n",
       "      <td>48</td>\n",
       "      <td>192.254.132.26</td>\n",
       "      <td>pstcmedia</td>\n",
       "      <td>arin</td>\n",
       "      <td>46606</td>\n",
       "      <td>192.254.128.0/18</td>\n",
       "      <td>US</td>\n",
       "      <td>NaN</td>\n",
       "      <td>54e1af97-c290-4e5e-9f3d-4346950d210b57c43f1a-8...</td>\n",
       "      <td>0.500000</td>\n",
       "    </tr>\n",
       "  </tbody>\n",
       "</table>\n",
       "</div>"
      ],
      "text/plain": [
       "                                    uuid_x  event_id_x          value_x  \\\n",
       "389   58c5e17d-702e-4128-b3ae-559fea3d324c        1190     24.97.129.36   \n",
       "914   54dc66ef-26e4-484f-a04d-a308950d210b          46    54.173.157.23   \n",
       "928   54dc66ef-26e4-484f-a04d-a308950d210b          46    54.173.157.23   \n",
       "930   54dc66ef-26e4-484f-a04d-a308950d210b          46    54.173.157.23   \n",
       "947   54dc66ef-26e4-484f-a04d-a308950d210b          46    54.173.157.23   \n",
       "948   54dc66ef-26e4-484f-a04d-a308950d210b          46    54.173.157.23   \n",
       "969   54dc66ef-26e4-484f-a04d-a308950d210b          46    54.173.157.23   \n",
       "973   54dc66ef-26e4-484f-a04d-a308950d210b          46    54.173.157.23   \n",
       "1428  54dc66e7-8ab0-4d6a-aab7-a308950d210b          46    54.193.34.194   \n",
       "1430  54dc66e7-8ab0-4d6a-aab7-a308950d210b          46    54.193.34.194   \n",
       "1447  54dc66e7-8ab0-4d6a-aab7-a308950d210b          46    54.193.34.194   \n",
       "1448  54dc66e7-8ab0-4d6a-aab7-a308950d210b          46    54.193.34.194   \n",
       "1469  54dc66e7-8ab0-4d6a-aab7-a308950d210b          46    54.193.34.194   \n",
       "1473  54dc66e7-8ab0-4d6a-aab7-a308950d210b          46    54.193.34.194   \n",
       "2361  5721bfef-7c74-4b55-9dd9-4242950d210f         269   107.180.51.235   \n",
       "2372  5721bfef-7c74-4b55-9dd9-4242950d210f         269   107.180.51.235   \n",
       "2830  54dc671c-d978-4348-878b-a308950d210b          46    54.72.124.107   \n",
       "2847  54dc671c-d978-4348-878b-a308950d210b          46    54.72.124.107   \n",
       "2848  54dc671c-d978-4348-878b-a308950d210b          46    54.72.124.107   \n",
       "2869  54dc671c-d978-4348-878b-a308950d210b          46    54.72.124.107   \n",
       "2873  54dc671c-d978-4348-878b-a308950d210b          46    54.72.124.107   \n",
       "3047  54dc6754-bcd0-4bb4-af92-a308950d210b          46    54.149.76.227   \n",
       "3048  54dc6754-bcd0-4bb4-af92-a308950d210b          46    54.149.76.227   \n",
       "3069  54dc6754-bcd0-4bb4-af92-a308950d210b          46    54.149.76.227   \n",
       "3073  54dc6754-bcd0-4bb4-af92-a308950d210b          46    54.149.76.227   \n",
       "3563  efdf2c15-2235-49d0-b351-52c8ea754881        1190    62.171.161.55   \n",
       "4088  cb5c015c-73fd-4801-987b-7e9604cc215d        1213    149.28.14.163   \n",
       "4748  8938b6ee-c88e-4df8-8218-55df2f37375a        1190   13.127.218.140   \n",
       "4769  8938b6ee-c88e-4df8-8218-55df2f37375a        1190   13.127.218.140   \n",
       "4773  8938b6ee-c88e-4df8-8218-55df2f37375a        1190   13.127.218.140   \n",
       "4869  54dc66e8-acb8-46fc-a628-a308950d210b          46   54.187.236.253   \n",
       "4873  54dc66e8-acb8-46fc-a628-a308950d210b          46   54.187.236.253   \n",
       "6172  577212e1-ecd4-4f76-bfbc-43ab950d210f         321  192.186.246.134   \n",
       "6973  0e8a4bd9-8083-47ae-beaa-51b3245fd68a        1190     44.234.20.79   \n",
       "9899  57c43f1a-8c64-4603-b7d4-4d35950d210f         404   66.147.240.193   \n",
       "\n",
       "          domain_x asn_registry_x   asn_x        asn_cidr_x country_code_x  \\\n",
       "389             rr           arin   11351      24.97.0.0/16             US   \n",
       "914      amazonaws           arin   14618     54.172.0.0/15             US   \n",
       "928      amazonaws           arin   14618     54.172.0.0/15             US   \n",
       "930      amazonaws           arin   14618     54.172.0.0/15             US   \n",
       "947      amazonaws           arin   14618     54.172.0.0/15             US   \n",
       "948      amazonaws           arin   14618     54.172.0.0/15             US   \n",
       "969      amazonaws           arin   14618     54.172.0.0/15             US   \n",
       "973      amazonaws           arin   14618     54.172.0.0/15             US   \n",
       "1428     amazonaws           arin   16509     54.193.0.0/17             US   \n",
       "1430     amazonaws           arin   16509     54.193.0.0/17             US   \n",
       "1447     amazonaws           arin   16509     54.193.0.0/17             US   \n",
       "1448     amazonaws           arin   16509     54.193.0.0/17             US   \n",
       "1469     amazonaws           arin   16509     54.193.0.0/17             US   \n",
       "1473     amazonaws           arin   16509     54.193.0.0/17             US   \n",
       "2361  secureserver           arin   26496    107.180.0.0/18             US   \n",
       "2372  secureserver           arin   26496    107.180.0.0/18             US   \n",
       "2830     amazonaws           arin   16509      54.72.0.0/16             US   \n",
       "2847     amazonaws           arin   16509      54.72.0.0/16             US   \n",
       "2848     amazonaws           arin   16509      54.72.0.0/16             US   \n",
       "2869     amazonaws           arin   16509      54.72.0.0/16             US   \n",
       "2873     amazonaws           arin   16509      54.72.0.0/16             US   \n",
       "3047     amazonaws           arin   16509     54.148.0.0/15             US   \n",
       "3048     amazonaws           arin   16509     54.148.0.0/15             US   \n",
       "3069     amazonaws           arin   16509     54.148.0.0/15             US   \n",
       "3073     amazonaws           arin   16509     54.148.0.0/15             US   \n",
       "3563      b2bounty        ripencc   51167   62.171.160.0/23             DE   \n",
       "4088         vultr           arin   20473     149.28.8.0/21             US   \n",
       "4748     amazonaws           arin   16509     13.126.0.0/15             US   \n",
       "4769     amazonaws           arin   16509     13.126.0.0/15             US   \n",
       "4773     amazonaws           arin   16509     13.126.0.0/15             US   \n",
       "4869     amazonaws           arin   16509     54.186.0.0/15             US   \n",
       "4873     amazonaws           arin   16509     54.186.0.0/15             US   \n",
       "6172  secureserver           arin  398101  192.186.244.0/22             US   \n",
       "6973     amazonaws           arin   16509     44.224.0.0/11             US   \n",
       "9899   hostmonster           arin   46606   66.147.240.0/20             US   \n",
       "\n",
       "                                                 pdns_x  \\\n",
       "389                                                 NaN   \n",
       "914                                                 NaN   \n",
       "928                                                 NaN   \n",
       "930                                                 NaN   \n",
       "947                                                 NaN   \n",
       "948                                                 NaN   \n",
       "969                                                 NaN   \n",
       "973                                                 NaN   \n",
       "1428                                                NaN   \n",
       "1430                                                NaN   \n",
       "1447                                                NaN   \n",
       "1448                                                NaN   \n",
       "1469                                                NaN   \n",
       "1473                                                NaN   \n",
       "2361  [107.180.51.235, 107.180.51.235, ns24.domainco...   \n",
       "2372  [107.180.51.235, 107.180.51.235, ns24.domainco...   \n",
       "2830                                                NaN   \n",
       "2847                                                NaN   \n",
       "2848                                                NaN   \n",
       "2869                                                NaN   \n",
       "2873                                                NaN   \n",
       "3047                                                NaN   \n",
       "3048                                                NaN   \n",
       "3069                                                NaN   \n",
       "3073                                                NaN   \n",
       "3563                                                NaN   \n",
       "4088                                                NaN   \n",
       "4748                                                NaN   \n",
       "4769                                                NaN   \n",
       "4773                                                NaN   \n",
       "4869                                                NaN   \n",
       "4873                                                NaN   \n",
       "6172                                                NaN   \n",
       "6973                                                NaN   \n",
       "9899  [ns2.hostmonster.com, ns1.hostmonster.com, 66....   \n",
       "\n",
       "                                    uuid_y  event_id_y          value_y  \\\n",
       "389   c03aeb6f-21d8-44f6-8874-18547f9ad0c3        1190    70.60.153.206   \n",
       "914   54dc66e7-8ab0-4d6a-aab7-a308950d210b          46    54.193.34.194   \n",
       "928   54dc671c-d978-4348-878b-a308950d210b          46    54.72.124.107   \n",
       "930   54dc6754-bcd0-4bb4-af92-a308950d210b          46    54.149.76.227   \n",
       "947   8938b6ee-c88e-4df8-8218-55df2f37375a        1190   13.127.218.140   \n",
       "948   54dc66e8-acb8-46fc-a628-a308950d210b          46   54.187.236.253   \n",
       "969   0e8a4bd9-8083-47ae-beaa-51b3245fd68a        1190     44.234.20.79   \n",
       "973   54dc66e2-4e88-4489-a776-a308950d210b          46      54.67.29.56   \n",
       "1428  54dc671c-d978-4348-878b-a308950d210b          46    54.72.124.107   \n",
       "1430  54dc6754-bcd0-4bb4-af92-a308950d210b          46    54.149.76.227   \n",
       "1447  8938b6ee-c88e-4df8-8218-55df2f37375a        1190   13.127.218.140   \n",
       "1448  54dc66e8-acb8-46fc-a628-a308950d210b          46   54.187.236.253   \n",
       "1469  0e8a4bd9-8083-47ae-beaa-51b3245fd68a        1190     44.234.20.79   \n",
       "1473  54dc66e2-4e88-4489-a776-a308950d210b          46      54.67.29.56   \n",
       "2361  577212e1-ecd4-4f76-bfbc-43ab950d210f         321  192.186.246.134   \n",
       "2372  54c76131-8f8c-4db3-9db7-f80d950d210b          43     50.63.202.62   \n",
       "2830  54dc6754-bcd0-4bb4-af92-a308950d210b          46    54.149.76.227   \n",
       "2847  8938b6ee-c88e-4df8-8218-55df2f37375a        1190   13.127.218.140   \n",
       "2848  54dc66e8-acb8-46fc-a628-a308950d210b          46   54.187.236.253   \n",
       "2869  0e8a4bd9-8083-47ae-beaa-51b3245fd68a        1190     44.234.20.79   \n",
       "2873  54dc66e2-4e88-4489-a776-a308950d210b          46      54.67.29.56   \n",
       "3047  8938b6ee-c88e-4df8-8218-55df2f37375a        1190   13.127.218.140   \n",
       "3048  54dc66e8-acb8-46fc-a628-a308950d210b          46   54.187.236.253   \n",
       "3069  0e8a4bd9-8083-47ae-beaa-51b3245fd68a        1190     44.234.20.79   \n",
       "3073  54dc66e2-4e88-4489-a776-a308950d210b          46      54.67.29.56   \n",
       "3563  56e96498-545c-40a2-84d7-47fd950d210f         208   213.136.73.122   \n",
       "4088  57a89e4c-60b8-4768-992f-4019950d210f         366    45.32.154.141   \n",
       "4748  54dc66e8-acb8-46fc-a628-a308950d210b          46   54.187.236.253   \n",
       "4769  0e8a4bd9-8083-47ae-beaa-51b3245fd68a        1190     44.234.20.79   \n",
       "4773  54dc66e2-4e88-4489-a776-a308950d210b          46      54.67.29.56   \n",
       "4869  0e8a4bd9-8083-47ae-beaa-51b3245fd68a        1190     44.234.20.79   \n",
       "4873  54dc66e2-4e88-4489-a776-a308950d210b          46      54.67.29.56   \n",
       "6172  54c76131-8f8c-4db3-9db7-f80d950d210b          43     50.63.202.62   \n",
       "6973  54dc66e2-4e88-4489-a776-a308950d210b          46      54.67.29.56   \n",
       "9899  54e1af97-c290-4e5e-9f3d-4346950d210b          48   192.254.132.26   \n",
       "\n",
       "          domain_y asn_registry_y   asn_y        asn_cidr_y country_code_y  \\\n",
       "389             rr           arin   10796    70.60.144.0/20             US   \n",
       "914      amazonaws           arin   16509     54.193.0.0/17             US   \n",
       "928      amazonaws           arin   16509      54.72.0.0/16             US   \n",
       "930      amazonaws           arin   16509     54.148.0.0/15             US   \n",
       "947      amazonaws           arin   16509     13.126.0.0/15             US   \n",
       "948      amazonaws           arin   16509     54.186.0.0/15             US   \n",
       "969      amazonaws           arin   16509     44.224.0.0/11             US   \n",
       "973      amazonaws           arin   16509      54.67.0.0/17             US   \n",
       "1428     amazonaws           arin   16509      54.72.0.0/16             US   \n",
       "1430     amazonaws           arin   16509     54.148.0.0/15             US   \n",
       "1447     amazonaws           arin   16509     13.126.0.0/15             US   \n",
       "1448     amazonaws           arin   16509     54.186.0.0/15             US   \n",
       "1469     amazonaws           arin   16509     44.224.0.0/11             US   \n",
       "1473     amazonaws           arin   16509      54.67.0.0/17             US   \n",
       "2361  secureserver           arin  398101  192.186.244.0/22             US   \n",
       "2372  secureserver           arin   26496    50.63.200.0/22             US   \n",
       "2830     amazonaws           arin   16509     54.148.0.0/15             US   \n",
       "2847     amazonaws           arin   16509     13.126.0.0/15             US   \n",
       "2848     amazonaws           arin   16509     54.186.0.0/15             US   \n",
       "2869     amazonaws           arin   16509     44.224.0.0/11             US   \n",
       "2873     amazonaws           arin   16509      54.67.0.0/17             US   \n",
       "3047     amazonaws           arin   16509     13.126.0.0/15             US   \n",
       "3048     amazonaws           arin   16509     54.186.0.0/15             US   \n",
       "3069     amazonaws           arin   16509     44.224.0.0/11             US   \n",
       "3073     amazonaws           arin   16509      54.67.0.0/17             US   \n",
       "3563  fairplayhost        ripencc   51167   213.136.72.0/23             DE   \n",
       "4088        geekme           arin   20473    45.32.152.0/21             US   \n",
       "4748     amazonaws           arin   16509     54.186.0.0/15             US   \n",
       "4769     amazonaws           arin   16509     44.224.0.0/11             US   \n",
       "4773     amazonaws           arin   16509      54.67.0.0/17             US   \n",
       "4869     amazonaws           arin   16509     44.224.0.0/11             US   \n",
       "4873     amazonaws           arin   16509      54.67.0.0/17             US   \n",
       "6172  secureserver           arin   26496    50.63.200.0/22             US   \n",
       "6973     amazonaws           arin   16509      54.67.0.0/17             US   \n",
       "9899     pstcmedia           arin   46606  192.254.128.0/18             US   \n",
       "\n",
       "                                                 pdns_y  \\\n",
       "389                                                 NaN   \n",
       "914                                                 NaN   \n",
       "928                                                 NaN   \n",
       "930                                                 NaN   \n",
       "947                                                 NaN   \n",
       "948                                                 NaN   \n",
       "969                                                 NaN   \n",
       "973                                                 NaN   \n",
       "1428                                                NaN   \n",
       "1430                                                NaN   \n",
       "1447                                                NaN   \n",
       "1448                                                NaN   \n",
       "1469                                                NaN   \n",
       "1473                                                NaN   \n",
       "2361                                                NaN   \n",
       "2372  [ns100.rookdns.com, 141.8.224.239, ns99.rookdn...   \n",
       "2830                                                NaN   \n",
       "2847                                                NaN   \n",
       "2848                                                NaN   \n",
       "2869                                                NaN   \n",
       "2873                                                NaN   \n",
       "3047                                                NaN   \n",
       "3048                                                NaN   \n",
       "3069                                                NaN   \n",
       "3073                                                NaN   \n",
       "3563            [213.136.73.122, 2a02:c207:2009:742::1]   \n",
       "4088                                                NaN   \n",
       "4748                                                NaN   \n",
       "4769                                                NaN   \n",
       "4773                                                NaN   \n",
       "4869                                                NaN   \n",
       "4873                                                NaN   \n",
       "6172  [ns100.rookdns.com, 141.8.224.239, ns99.rookdn...   \n",
       "6973                                                NaN   \n",
       "9899                                                NaN   \n",
       "\n",
       "                                           check_string  similarity  \n",
       "389   58c5e17d-702e-4128-b3ae-559fea3d324cc03aeb6f-2...    0.500000  \n",
       "914   54dc66e7-8ab0-4d6a-aab7-a308950d210b54dc66ef-2...    0.500000  \n",
       "928   54dc66ef-26e4-484f-a04d-a308950d210b54dc671c-d...    0.500000  \n",
       "930   54dc66ef-26e4-484f-a04d-a308950d210b54dc6754-b...    0.500000  \n",
       "947   54dc66ef-26e4-484f-a04d-a308950d210b8938b6ee-c...    0.500000  \n",
       "948   54dc66e8-acb8-46fc-a628-a308950d210b54dc66ef-2...    0.500000  \n",
       "969   0e8a4bd9-8083-47ae-beaa-51b3245fd68a54dc66ef-2...    0.500000  \n",
       "973   54dc66e2-4e88-4489-a776-a308950d210b54dc66ef-2...    0.500000  \n",
       "1428  54dc66e7-8ab0-4d6a-aab7-a308950d210b54dc671c-d...    0.666667  \n",
       "1430  54dc66e7-8ab0-4d6a-aab7-a308950d210b54dc6754-b...    0.666667  \n",
       "1447  54dc66e7-8ab0-4d6a-aab7-a308950d210b8938b6ee-c...    0.666667  \n",
       "1448  54dc66e7-8ab0-4d6a-aab7-a308950d210b54dc66e8-a...    0.666667  \n",
       "1469  0e8a4bd9-8083-47ae-beaa-51b3245fd68a54dc66e7-8...    0.666667  \n",
       "1473  54dc66e2-4e88-4489-a776-a308950d210b54dc66e7-8...    0.666667  \n",
       "2361  5721bfef-7c74-4b55-9dd9-4242950d210f577212e1-e...    0.500000  \n",
       "2372  54c76131-8f8c-4db3-9db7-f80d950d210b5721bfef-7...    0.833333  \n",
       "2830  54dc671c-d978-4348-878b-a308950d210b54dc6754-b...    0.666667  \n",
       "2847  54dc671c-d978-4348-878b-a308950d210b8938b6ee-c...    0.666667  \n",
       "2848  54dc66e8-acb8-46fc-a628-a308950d210b54dc671c-d...    0.666667  \n",
       "2869  0e8a4bd9-8083-47ae-beaa-51b3245fd68a54dc671c-d...    0.666667  \n",
       "2873  54dc66e2-4e88-4489-a776-a308950d210b54dc671c-d...    0.666667  \n",
       "3047  54dc6754-bcd0-4bb4-af92-a308950d210b8938b6ee-c...    0.666667  \n",
       "3048  54dc66e8-acb8-46fc-a628-a308950d210b54dc6754-b...    0.666667  \n",
       "3069  0e8a4bd9-8083-47ae-beaa-51b3245fd68a54dc6754-b...    0.666667  \n",
       "3073  54dc66e2-4e88-4489-a776-a308950d210b54dc6754-b...    0.666667  \n",
       "3563  56e96498-545c-40a2-84d7-47fd950d210fefdf2c15-2...    0.500000  \n",
       "4088  57a89e4c-60b8-4768-992f-4019950d210fcb5c015c-7...    0.500000  \n",
       "4748  54dc66e8-acb8-46fc-a628-a308950d210b8938b6ee-c...    0.666667  \n",
       "4769  0e8a4bd9-8083-47ae-beaa-51b3245fd68a8938b6ee-c...    0.666667  \n",
       "4773  54dc66e2-4e88-4489-a776-a308950d210b8938b6ee-c...    0.666667  \n",
       "4869  0e8a4bd9-8083-47ae-beaa-51b3245fd68a54dc66e8-a...    0.666667  \n",
       "4873  54dc66e2-4e88-4489-a776-a308950d210b54dc66e8-a...    0.666667  \n",
       "6172  54c76131-8f8c-4db3-9db7-f80d950d210b577212e1-e...    0.500000  \n",
       "6973  0e8a4bd9-8083-47ae-beaa-51b3245fd68a54dc66e2-4...    0.666667  \n",
       "9899  54e1af97-c290-4e5e-9f3d-4346950d210b57c43f1a-8...    0.500000  "
      ]
     },
     "execution_count": 47,
     "metadata": {},
     "output_type": "execute_result"
    }
   ],
   "source": [
    "#Show all with overlap > x\n",
    "mask = df_merged['similarity'] > 0.4\n",
    "df_merged[mask]"
   ]
  },
  {
   "cell_type": "code",
   "execution_count": 48,
   "metadata": {
    "pycharm": {
     "is_executing": true
    }
   },
   "outputs": [
    {
     "data": {
      "text/html": [
       "<div>\n",
       "<style scoped>\n",
       "    .dataframe tbody tr th:only-of-type {\n",
       "        vertical-align: middle;\n",
       "    }\n",
       "\n",
       "    .dataframe tbody tr th {\n",
       "        vertical-align: top;\n",
       "    }\n",
       "\n",
       "    .dataframe thead th {\n",
       "        text-align: right;\n",
       "    }\n",
       "</style>\n",
       "<table border=\"1\" class=\"dataframe\">\n",
       "  <thead>\n",
       "    <tr style=\"text-align: right;\">\n",
       "      <th></th>\n",
       "      <th>event_id_x</th>\n",
       "      <th>value_x</th>\n",
       "      <th>event_id_y</th>\n",
       "      <th>value_y</th>\n",
       "      <th>similarity</th>\n",
       "    </tr>\n",
       "  </thead>\n",
       "  <tbody>\n",
       "    <tr>\n",
       "      <th>1</th>\n",
       "      <td>25</td>\n",
       "      <td>218.103.38.112</td>\n",
       "      <td>1188</td>\n",
       "      <td>45.153.240.246</td>\n",
       "      <td>0.0</td>\n",
       "    </tr>\n",
       "    <tr>\n",
       "      <th>2</th>\n",
       "      <td>25</td>\n",
       "      <td>218.103.38.112</td>\n",
       "      <td>1190</td>\n",
       "      <td>159.65.166.223</td>\n",
       "      <td>0.0</td>\n",
       "    </tr>\n",
       "    <tr>\n",
       "      <th>3</th>\n",
       "      <td>25</td>\n",
       "      <td>218.103.38.112</td>\n",
       "      <td>1190</td>\n",
       "      <td>24.97.129.36</td>\n",
       "      <td>0.0</td>\n",
       "    </tr>\n",
       "    <tr>\n",
       "      <th>4</th>\n",
       "      <td>25</td>\n",
       "      <td>218.103.38.112</td>\n",
       "      <td>262</td>\n",
       "      <td>92.23.68.42</td>\n",
       "      <td>0.0</td>\n",
       "    </tr>\n",
       "    <tr>\n",
       "      <th>5</th>\n",
       "      <td>25</td>\n",
       "      <td>218.103.38.112</td>\n",
       "      <td>46</td>\n",
       "      <td>162.219.7.3</td>\n",
       "      <td>0.0</td>\n",
       "    </tr>\n",
       "  </tbody>\n",
       "</table>\n",
       "</div>"
      ],
      "text/plain": [
       "   event_id_x         value_x  event_id_y         value_y  similarity\n",
       "1          25  218.103.38.112        1188  45.153.240.246         0.0\n",
       "2          25  218.103.38.112        1190  159.65.166.223         0.0\n",
       "3          25  218.103.38.112        1190    24.97.129.36         0.0\n",
       "4          25  218.103.38.112         262     92.23.68.42         0.0\n",
       "5          25  218.103.38.112          46     162.219.7.3         0.0"
      ]
     },
     "execution_count": 48,
     "metadata": {},
     "output_type": "execute_result"
    }
   ],
   "source": [
    "df = df_merged.drop(['uuid_x', 'domain_x', 'asn_registry_x', 'asn_x', 'asn_cidr_x', 'country_code_x', 'pdns_x', 'uuid_y', 'domain_y', 'asn_registry_y', 'asn_y', 'asn_cidr_y', 'country_code_y', 'pdns_y', 'check_string'], axis=1)\n",
    "df.head()"
   ]
  },
  {
   "cell_type": "code",
   "execution_count": 49,
   "metadata": {
    "pycharm": {
     "is_executing": true
    }
   },
   "outputs": [
    {
     "data": {
      "text/html": [
       "<div>\n",
       "<style scoped>\n",
       "    .dataframe tbody tr th:only-of-type {\n",
       "        vertical-align: middle;\n",
       "    }\n",
       "\n",
       "    .dataframe tbody tr th {\n",
       "        vertical-align: top;\n",
       "    }\n",
       "\n",
       "    .dataframe thead th {\n",
       "        text-align: right;\n",
       "    }\n",
       "</style>\n",
       "<table border=\"1\" class=\"dataframe\">\n",
       "  <thead>\n",
       "    <tr style=\"text-align: right;\">\n",
       "      <th></th>\n",
       "      <th>left_event_id</th>\n",
       "      <th>left_value</th>\n",
       "      <th>right_event_id</th>\n",
       "      <th>right_value</th>\n",
       "      <th>similarity</th>\n",
       "    </tr>\n",
       "  </thead>\n",
       "  <tbody>\n",
       "    <tr>\n",
       "      <th>1</th>\n",
       "      <td>25</td>\n",
       "      <td>218.103.38.112</td>\n",
       "      <td>1188</td>\n",
       "      <td>45.153.240.246</td>\n",
       "      <td>0.0</td>\n",
       "    </tr>\n",
       "    <tr>\n",
       "      <th>2</th>\n",
       "      <td>25</td>\n",
       "      <td>218.103.38.112</td>\n",
       "      <td>1190</td>\n",
       "      <td>159.65.166.223</td>\n",
       "      <td>0.0</td>\n",
       "    </tr>\n",
       "    <tr>\n",
       "      <th>3</th>\n",
       "      <td>25</td>\n",
       "      <td>218.103.38.112</td>\n",
       "      <td>1190</td>\n",
       "      <td>24.97.129.36</td>\n",
       "      <td>0.0</td>\n",
       "    </tr>\n",
       "    <tr>\n",
       "      <th>4</th>\n",
       "      <td>25</td>\n",
       "      <td>218.103.38.112</td>\n",
       "      <td>262</td>\n",
       "      <td>92.23.68.42</td>\n",
       "      <td>0.0</td>\n",
       "    </tr>\n",
       "    <tr>\n",
       "      <th>5</th>\n",
       "      <td>25</td>\n",
       "      <td>218.103.38.112</td>\n",
       "      <td>46</td>\n",
       "      <td>162.219.7.3</td>\n",
       "      <td>0.0</td>\n",
       "    </tr>\n",
       "  </tbody>\n",
       "</table>\n",
       "</div>"
      ],
      "text/plain": [
       "   left_event_id      left_value  right_event_id     right_value  similarity\n",
       "1             25  218.103.38.112            1188  45.153.240.246         0.0\n",
       "2             25  218.103.38.112            1190  159.65.166.223         0.0\n",
       "3             25  218.103.38.112            1190    24.97.129.36         0.0\n",
       "4             25  218.103.38.112             262     92.23.68.42         0.0\n",
       "5             25  218.103.38.112              46     162.219.7.3         0.0"
      ]
     },
     "execution_count": 49,
     "metadata": {},
     "output_type": "execute_result"
    }
   ],
   "source": [
    "df.columns = ['left_event_id', 'left_value', 'right_event_id', 'right_value', 'similarity']\n",
    "df.head()"
   ]
  },
  {
   "cell_type": "code",
   "execution_count": 50,
   "metadata": {
    "pycharm": {
     "is_executing": true
    }
   },
   "outputs": [
    {
     "data": {
      "text/html": [
       "<div>\n",
       "<style scoped>\n",
       "    .dataframe tbody tr th:only-of-type {\n",
       "        vertical-align: middle;\n",
       "    }\n",
       "\n",
       "    .dataframe tbody tr th {\n",
       "        vertical-align: top;\n",
       "    }\n",
       "\n",
       "    .dataframe thead th {\n",
       "        text-align: right;\n",
       "    }\n",
       "</style>\n",
       "<table border=\"1\" class=\"dataframe\">\n",
       "  <thead>\n",
       "    <tr style=\"text-align: right;\">\n",
       "      <th></th>\n",
       "      <th>left_event_id</th>\n",
       "      <th>left_value</th>\n",
       "      <th>right_event_id</th>\n",
       "      <th>right_value</th>\n",
       "      <th>similarity</th>\n",
       "    </tr>\n",
       "  </thead>\n",
       "  <tbody>\n",
       "    <tr>\n",
       "      <th>389</th>\n",
       "      <td>1190</td>\n",
       "      <td>24.97.129.36</td>\n",
       "      <td>1190</td>\n",
       "      <td>70.60.153.206</td>\n",
       "      <td>0.5</td>\n",
       "    </tr>\n",
       "    <tr>\n",
       "      <th>914</th>\n",
       "      <td>46</td>\n",
       "      <td>54.173.157.23</td>\n",
       "      <td>46</td>\n",
       "      <td>54.193.34.194</td>\n",
       "      <td>0.5</td>\n",
       "    </tr>\n",
       "    <tr>\n",
       "      <th>928</th>\n",
       "      <td>46</td>\n",
       "      <td>54.173.157.23</td>\n",
       "      <td>46</td>\n",
       "      <td>54.72.124.107</td>\n",
       "      <td>0.5</td>\n",
       "    </tr>\n",
       "    <tr>\n",
       "      <th>930</th>\n",
       "      <td>46</td>\n",
       "      <td>54.173.157.23</td>\n",
       "      <td>46</td>\n",
       "      <td>54.149.76.227</td>\n",
       "      <td>0.5</td>\n",
       "    </tr>\n",
       "    <tr>\n",
       "      <th>947</th>\n",
       "      <td>46</td>\n",
       "      <td>54.173.157.23</td>\n",
       "      <td>1190</td>\n",
       "      <td>13.127.218.140</td>\n",
       "      <td>0.5</td>\n",
       "    </tr>\n",
       "  </tbody>\n",
       "</table>\n",
       "</div>"
      ],
      "text/plain": [
       "     left_event_id     left_value  right_event_id     right_value  similarity\n",
       "389           1190   24.97.129.36            1190   70.60.153.206         0.5\n",
       "914             46  54.173.157.23              46   54.193.34.194         0.5\n",
       "928             46  54.173.157.23              46   54.72.124.107         0.5\n",
       "930             46  54.173.157.23              46   54.149.76.227         0.5\n",
       "947             46  54.173.157.23            1190  13.127.218.140         0.5"
      ]
     },
     "execution_count": 50,
     "metadata": {},
     "output_type": "execute_result"
    }
   ],
   "source": [
    "df = df[mask]\n",
    "df.head()"
   ]
  },
  {
   "cell_type": "code",
   "execution_count": 51,
   "metadata": {
    "pycharm": {
     "is_executing": true
    }
   },
   "outputs": [
    {
     "name": "stdout",
     "output_type": "stream",
     "text": [
      "<class 'pandas.core.frame.DataFrame'>\n",
      "Int64Index: 35 entries, 389 to 9899\n",
      "Data columns (total 5 columns):\n",
      " #   Column          Non-Null Count  Dtype  \n",
      "---  ------          --------------  -----  \n",
      " 0   left_event_id   35 non-null     int64  \n",
      " 1   left_value      35 non-null     object \n",
      " 2   right_event_id  35 non-null     int64  \n",
      " 3   right_value     35 non-null     object \n",
      " 4   similarity      35 non-null     float64\n",
      "dtypes: float64(1), int64(2), object(2)\n",
      "memory usage: 1.6+ KB\n"
     ]
    }
   ],
   "source": [
    "df.info()"
   ]
  },
  {
   "cell_type": "code",
   "execution_count": 52,
   "metadata": {},
   "outputs": [
    {
     "name": "stdout",
     "output_type": "stream",
     "text": [
      "[1190, 46, 269, 1213, 321, 404, 43, 208, 366, 48]\n"
     ]
    }
   ],
   "source": [
    "temp_df = df['left_event_id'].append(df['right_event_id'])\n",
    "unique_event_nodes = temp_df.drop_duplicates()\n",
    "unique_event_nodes\n",
    "unique_event_nodes_list = unique_event_nodes.to_list()\n",
    "unique_event_nodes_list\n",
    "print(unique_event_nodes_list)"
   ]
  },
  {
   "cell_type": "code",
   "execution_count": 53,
   "metadata": {},
   "outputs": [
    {
     "data": {
      "text/plain": [
       "10"
      ]
     },
     "execution_count": 53,
     "metadata": {},
     "output_type": "execute_result"
    }
   ],
   "source": [
    "len(unique_event_nodes_list)"
   ]
  },
  {
   "cell_type": "code",
   "execution_count": 54,
   "metadata": {},
   "outputs": [
    {
     "ename": "NameError",
     "evalue": "name 'GraphDatabase' is not defined",
     "output_type": "error",
     "traceback": [
      "\u001b[0;31m---------------------------------------------------------------------------\u001b[0m",
      "\u001b[0;31mNameError\u001b[0m                                 Traceback (most recent call last)",
      "\u001b[0;32m<ipython-input-54-d553a60152ae>\u001b[0m in \u001b[0;36m<module>\u001b[0;34m\u001b[0m\n\u001b[1;32m     13\u001b[0m         \u001b[0msession\u001b[0m\u001b[0;34m.\u001b[0m\u001b[0mrun\u001b[0m\u001b[0;34m(\u001b[0m\u001b[0mi\u001b[0m\u001b[0;34m)\u001b[0m\u001b[0;34m\u001b[0m\u001b[0;34m\u001b[0m\u001b[0m\n\u001b[1;32m     14\u001b[0m \u001b[0;34m\u001b[0m\u001b[0m\n\u001b[0;32m---> 15\u001b[0;31m \u001b[0mexecute_transactions\u001b[0m\u001b[0;34m(\u001b[0m\u001b[0munique_event_nodes_execution_commands\u001b[0m\u001b[0;34m)\u001b[0m\u001b[0;34m\u001b[0m\u001b[0;34m\u001b[0m\u001b[0m\n\u001b[0m",
      "\u001b[0;32m<ipython-input-54-d553a60152ae>\u001b[0m in \u001b[0;36mexecute_transactions\u001b[0;34m(unique_event_nodes_execution_commands)\u001b[0m\n\u001b[1;32m      7\u001b[0m \u001b[0;34m\u001b[0m\u001b[0m\n\u001b[1;32m      8\u001b[0m \u001b[0;32mdef\u001b[0m \u001b[0mexecute_transactions\u001b[0m\u001b[0;34m(\u001b[0m\u001b[0munique_event_nodes_execution_commands\u001b[0m\u001b[0;34m)\u001b[0m\u001b[0;34m:\u001b[0m\u001b[0;34m\u001b[0m\u001b[0;34m\u001b[0m\u001b[0m\n\u001b[0;32m----> 9\u001b[0;31m     \u001b[0mdata_base_connection\u001b[0m \u001b[0;34m=\u001b[0m \u001b[0mGraphDatabase\u001b[0m\u001b[0;34m.\u001b[0m\u001b[0mdriver\u001b[0m\u001b[0;34m(\u001b[0m\u001b[0muri\u001b[0m \u001b[0;34m=\u001b[0m \u001b[0;34m\"bolt://localhost:7687\"\u001b[0m\u001b[0;34m,\u001b[0m \u001b[0mauth\u001b[0m\u001b[0;34m=\u001b[0m\u001b[0;34m(\u001b[0m\u001b[0;34m\"neo4j\"\u001b[0m\u001b[0;34m,\u001b[0m \u001b[0;34m\"password\"\u001b[0m\u001b[0;34m)\u001b[0m\u001b[0;34m)\u001b[0m\u001b[0;34m\u001b[0m\u001b[0;34m\u001b[0m\u001b[0m\n\u001b[0m\u001b[1;32m     10\u001b[0m     \u001b[0msession\u001b[0m \u001b[0;34m=\u001b[0m \u001b[0mdata_base_connection\u001b[0m\u001b[0;34m.\u001b[0m\u001b[0msession\u001b[0m\u001b[0;34m(\u001b[0m\u001b[0;34m)\u001b[0m\u001b[0;34m\u001b[0m\u001b[0;34m\u001b[0m\u001b[0m\n\u001b[1;32m     11\u001b[0m \u001b[0;34m\u001b[0m\u001b[0m\n",
      "\u001b[0;31mNameError\u001b[0m: name 'GraphDatabase' is not defined"
     ]
    }
   ],
   "source": [
    "unique_event_nodes_execution_commands = []\n",
    "\n",
    "for i in unique_event_nodes_list:\n",
    "   event_node = \"(e:Event {event_id: \"+ \"'\" + str(i) + \"'\" + \"})\"\n",
    "   neo4j_create_statemenet = \"CREATE\" + event_node\n",
    "   unique_event_nodes_execution_commands.append(neo4j_create_statemenet)\n",
    "\n",
    "def execute_transactions(unique_event_nodes_execution_commands):\n",
    "    data_base_connection = GraphDatabase.driver(uri = \"bolt://localhost:7687\", auth=(\"neo4j\", \"password\"))\n",
    "    session = data_base_connection.session()\n",
    "\n",
    "    for i in unique_event_nodes_execution_commands:\n",
    "        session.run(i)\n",
    "\n",
    "execute_transactions(unique_event_nodes_execution_commands)"
   ]
  },
  {
   "cell_type": "code",
   "execution_count": null,
   "metadata": {},
   "outputs": [],
   "source": []
  }
 ],
 "metadata": {
  "kernelspec": {
   "display_name": "Python 3",
   "language": "python",
   "name": "python3"
  },
  "language_info": {
   "codemirror_mode": {
    "name": "ipython",
    "version": 3
   },
   "file_extension": ".py",
   "mimetype": "text/x-python",
   "name": "python",
   "nbconvert_exporter": "python",
   "pygments_lexer": "ipython3",
   "version": "3.8.0"
  }
 },
 "nbformat": 4,
 "nbformat_minor": 1
}
